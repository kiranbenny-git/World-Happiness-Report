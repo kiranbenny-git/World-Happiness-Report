{
 "cells": [
  {
   "cell_type": "markdown",
   "metadata": {},
   "source": [
    "# World Happiness Report\n",
    "## Kiran Benny\n",
    "### 05/22/2020"
   ]
  },
  {
   "cell_type": "markdown",
   "metadata": {},
   "source": [
    "## Introduction\n",
    "\n",
    "The World Happiness Report is a landmark survey of the state of global happiness that ranks 156 countries by how happy their citizens perceive themselves to be. The rankings of World Happiness Report 2019 use data that come from the Gallup World Poll. The rankings are based on answers to the main life evaluation questions asked in the poll, with the best possible life being a 10, and the worst possible life being a 0. The rankings are from nationally representative samples, based entirely on the survey scores, using the Gallup weights to make the estimates representative.\n",
    "\n",
    "The purpose of this notebook is to analyze the Happiness Score of the 156 Countries using 3 different clustering algorithms, namely : K-Means Clustering, Agglomerative Clustering and Affinity Propagation and also to predict the Happiness Score using Linear Regression Model.\n",
    "\n",
    "Let's begin by loading the required libraries and frameworks:"
   ]
  },
  {
   "cell_type": "code",
   "execution_count": 1,
   "metadata": {},
   "outputs": [
    {
     "data": {
      "text/html": [
       "        <script type=\"text/javascript\">\n",
       "        window.PlotlyConfig = {MathJaxConfig: 'local'};\n",
       "        if (window.MathJax) {MathJax.Hub.Config({SVG: {font: \"STIX-Web\"}});}\n",
       "        if (typeof require !== 'undefined') {\n",
       "        require.undef(\"plotly\");\n",
       "        requirejs.config({\n",
       "            paths: {\n",
       "                'plotly': ['https://cdn.plot.ly/plotly-latest.min']\n",
       "            }\n",
       "        });\n",
       "        require(['plotly'], function(Plotly) {\n",
       "            window._Plotly = Plotly;\n",
       "        });\n",
       "        }\n",
       "        </script>\n",
       "        "
      ]
     },
     "metadata": {},
     "output_type": "display_data"
    }
   ],
   "source": [
    "import numpy as np\n",
    "import pandas as pd\n",
    "\n",
    "import plotly.graph_objs as go\n",
    "from plotly.offline import download_plotlyjs, init_notebook_mode, plot, iplot\n",
    "init_notebook_mode(connected=True) #for maps\n",
    "\n",
    "import seaborn as sns\n",
    "\n",
    "import matplotlib.pyplot as plt #for graphics\n",
    "\n",
    "from scipy.stats import norm\n",
    "from scipy import stats\n",
    "\n",
    "from sklearn import preprocessing\n",
    "from sklearn.preprocessing import StandardScaler  # For scaling dataset\n",
    "from sklearn.preprocessing import normalize #For normalization\n",
    "from sklearn.preprocessing import LabelEncoder\n",
    "\n",
    "#Clustering Models\n",
    "from sklearn.cluster import KMeans #Kmeans clustering \n",
    "import scipy.cluster.hierarchy as sch #Hierarchical clustering\n",
    "from sklearn.cluster import AgglomerativeClustering #Agglomerative Clustering\n",
    "from sklearn.cluster import AffinityPropagation #Affinity Propagation\n",
    "from sklearn.model_selection import train_test_split\n",
    "from sklearn.model_selection import KFold\n",
    "from sklearn.model_selection import GridSearchCV\n",
    "from sklearn.ensemble import ExtraTreesClassifier\n",
    "\n",
    "#Regression Models\n",
    "from sklearn.linear_model import LinearRegression\n",
    "from sklearn.preprocessing import PolynomialFeatures\n",
    "from sklearn.linear_model import Ridge\n",
    "from sklearn.linear_model import Lasso\n",
    "from sklearn.linear_model import ElasticNet\n",
    "\n",
    "from sklearn import metrics\n",
    "from sklearn.metrics import mean_squared_error\n",
    "from sklearn.metrics import mean_absolute_error\n",
    "from math import sqrt\n",
    "from sklearn.metrics import r2_score\n"
   ]
  },
  {
   "cell_type": "markdown",
   "metadata": {},
   "source": [
    "Loading the dataset:"
   ]
  },
  {
   "cell_type": "code",
   "execution_count": 2,
   "metadata": {},
   "outputs": [
    {
     "data": {
      "text/html": [
       "<div>\n",
       "<style scoped>\n",
       "    .dataframe tbody tr th:only-of-type {\n",
       "        vertical-align: middle;\n",
       "    }\n",
       "\n",
       "    .dataframe tbody tr th {\n",
       "        vertical-align: top;\n",
       "    }\n",
       "\n",
       "    .dataframe thead th {\n",
       "        text-align: right;\n",
       "    }\n",
       "</style>\n",
       "<table border=\"1\" class=\"dataframe\">\n",
       "  <thead>\n",
       "    <tr style=\"text-align: right;\">\n",
       "      <th></th>\n",
       "      <th>Overall rank</th>\n",
       "      <th>Country or region</th>\n",
       "      <th>Score</th>\n",
       "      <th>GDP per capita</th>\n",
       "      <th>Social support</th>\n",
       "      <th>Healthy life expectancy</th>\n",
       "      <th>Freedom to make life choices</th>\n",
       "      <th>Generosity</th>\n",
       "      <th>Perceptions of corruption</th>\n",
       "    </tr>\n",
       "  </thead>\n",
       "  <tbody>\n",
       "    <tr>\n",
       "      <td>0</td>\n",
       "      <td>1</td>\n",
       "      <td>Finland</td>\n",
       "      <td>7.769</td>\n",
       "      <td>1.340</td>\n",
       "      <td>1.587</td>\n",
       "      <td>0.986</td>\n",
       "      <td>0.596</td>\n",
       "      <td>0.153</td>\n",
       "      <td>0.393</td>\n",
       "    </tr>\n",
       "    <tr>\n",
       "      <td>1</td>\n",
       "      <td>2</td>\n",
       "      <td>Denmark</td>\n",
       "      <td>7.600</td>\n",
       "      <td>1.383</td>\n",
       "      <td>1.573</td>\n",
       "      <td>0.996</td>\n",
       "      <td>0.592</td>\n",
       "      <td>0.252</td>\n",
       "      <td>0.410</td>\n",
       "    </tr>\n",
       "    <tr>\n",
       "      <td>2</td>\n",
       "      <td>3</td>\n",
       "      <td>Norway</td>\n",
       "      <td>7.554</td>\n",
       "      <td>1.488</td>\n",
       "      <td>1.582</td>\n",
       "      <td>1.028</td>\n",
       "      <td>0.603</td>\n",
       "      <td>0.271</td>\n",
       "      <td>0.341</td>\n",
       "    </tr>\n",
       "    <tr>\n",
       "      <td>3</td>\n",
       "      <td>4</td>\n",
       "      <td>Iceland</td>\n",
       "      <td>7.494</td>\n",
       "      <td>1.380</td>\n",
       "      <td>1.624</td>\n",
       "      <td>1.026</td>\n",
       "      <td>0.591</td>\n",
       "      <td>0.354</td>\n",
       "      <td>0.118</td>\n",
       "    </tr>\n",
       "    <tr>\n",
       "      <td>4</td>\n",
       "      <td>5</td>\n",
       "      <td>Netherlands</td>\n",
       "      <td>7.488</td>\n",
       "      <td>1.396</td>\n",
       "      <td>1.522</td>\n",
       "      <td>0.999</td>\n",
       "      <td>0.557</td>\n",
       "      <td>0.322</td>\n",
       "      <td>0.298</td>\n",
       "    </tr>\n",
       "  </tbody>\n",
       "</table>\n",
       "</div>"
      ],
      "text/plain": [
       "   Overall rank Country or region  Score  GDP per capita  Social support  \\\n",
       "0             1           Finland  7.769           1.340           1.587   \n",
       "1             2           Denmark  7.600           1.383           1.573   \n",
       "2             3            Norway  7.554           1.488           1.582   \n",
       "3             4           Iceland  7.494           1.380           1.624   \n",
       "4             5       Netherlands  7.488           1.396           1.522   \n",
       "\n",
       "   Healthy life expectancy  Freedom to make life choices  Generosity  \\\n",
       "0                    0.986                         0.596       0.153   \n",
       "1                    0.996                         0.592       0.252   \n",
       "2                    1.028                         0.603       0.271   \n",
       "3                    1.026                         0.591       0.354   \n",
       "4                    0.999                         0.557       0.322   \n",
       "\n",
       "   Perceptions of corruption  \n",
       "0                      0.393  \n",
       "1                      0.410  \n",
       "2                      0.341  \n",
       "3                      0.118  \n",
       "4                      0.298  "
      ]
     },
     "execution_count": 2,
     "metadata": {},
     "output_type": "execute_result"
    }
   ],
   "source": [
    "df = pd.read_csv(r'C:\\Users\\benny\\OneDrive\\Desktop\\Misc\\RandC\\Projects\\World Happiness Report\\2019.csv')\n",
    "df.head(5) #Glimpse of the data"
   ]
  },
  {
   "cell_type": "markdown",
   "metadata": {},
   "source": [
    "## Data Cleaning\n",
    "\n",
    "The data seems to be relatively clean. However, notice that the column names are separated by a space. Let's replace the space by an underscore character:"
   ]
  },
  {
   "cell_type": "code",
   "execution_count": 3,
   "metadata": {},
   "outputs": [
    {
     "data": {
      "text/html": [
       "<div>\n",
       "<style scoped>\n",
       "    .dataframe tbody tr th:only-of-type {\n",
       "        vertical-align: middle;\n",
       "    }\n",
       "\n",
       "    .dataframe tbody tr th {\n",
       "        vertical-align: top;\n",
       "    }\n",
       "\n",
       "    .dataframe thead th {\n",
       "        text-align: right;\n",
       "    }\n",
       "</style>\n",
       "<table border=\"1\" class=\"dataframe\">\n",
       "  <thead>\n",
       "    <tr style=\"text-align: right;\">\n",
       "      <th></th>\n",
       "      <th>Overall_rank</th>\n",
       "      <th>Country_or_region</th>\n",
       "      <th>Score</th>\n",
       "      <th>GDP_per_capita</th>\n",
       "      <th>Social_support</th>\n",
       "      <th>Healthy_life_expectancy</th>\n",
       "      <th>Freedom_to_make_life_choices</th>\n",
       "      <th>Generosity</th>\n",
       "      <th>Perceptions_of_corruption</th>\n",
       "    </tr>\n",
       "  </thead>\n",
       "  <tbody>\n",
       "    <tr>\n",
       "      <td>0</td>\n",
       "      <td>1</td>\n",
       "      <td>Finland</td>\n",
       "      <td>7.769</td>\n",
       "      <td>1.340</td>\n",
       "      <td>1.587</td>\n",
       "      <td>0.986</td>\n",
       "      <td>0.596</td>\n",
       "      <td>0.153</td>\n",
       "      <td>0.393</td>\n",
       "    </tr>\n",
       "    <tr>\n",
       "      <td>1</td>\n",
       "      <td>2</td>\n",
       "      <td>Denmark</td>\n",
       "      <td>7.600</td>\n",
       "      <td>1.383</td>\n",
       "      <td>1.573</td>\n",
       "      <td>0.996</td>\n",
       "      <td>0.592</td>\n",
       "      <td>0.252</td>\n",
       "      <td>0.410</td>\n",
       "    </tr>\n",
       "    <tr>\n",
       "      <td>2</td>\n",
       "      <td>3</td>\n",
       "      <td>Norway</td>\n",
       "      <td>7.554</td>\n",
       "      <td>1.488</td>\n",
       "      <td>1.582</td>\n",
       "      <td>1.028</td>\n",
       "      <td>0.603</td>\n",
       "      <td>0.271</td>\n",
       "      <td>0.341</td>\n",
       "    </tr>\n",
       "    <tr>\n",
       "      <td>3</td>\n",
       "      <td>4</td>\n",
       "      <td>Iceland</td>\n",
       "      <td>7.494</td>\n",
       "      <td>1.380</td>\n",
       "      <td>1.624</td>\n",
       "      <td>1.026</td>\n",
       "      <td>0.591</td>\n",
       "      <td>0.354</td>\n",
       "      <td>0.118</td>\n",
       "    </tr>\n",
       "    <tr>\n",
       "      <td>4</td>\n",
       "      <td>5</td>\n",
       "      <td>Netherlands</td>\n",
       "      <td>7.488</td>\n",
       "      <td>1.396</td>\n",
       "      <td>1.522</td>\n",
       "      <td>0.999</td>\n",
       "      <td>0.557</td>\n",
       "      <td>0.322</td>\n",
       "      <td>0.298</td>\n",
       "    </tr>\n",
       "  </tbody>\n",
       "</table>\n",
       "</div>"
      ],
      "text/plain": [
       "   Overall_rank Country_or_region  Score  GDP_per_capita  Social_support  \\\n",
       "0             1           Finland  7.769           1.340           1.587   \n",
       "1             2           Denmark  7.600           1.383           1.573   \n",
       "2             3            Norway  7.554           1.488           1.582   \n",
       "3             4           Iceland  7.494           1.380           1.624   \n",
       "4             5       Netherlands  7.488           1.396           1.522   \n",
       "\n",
       "   Healthy_life_expectancy  Freedom_to_make_life_choices  Generosity  \\\n",
       "0                    0.986                         0.596       0.153   \n",
       "1                    0.996                         0.592       0.252   \n",
       "2                    1.028                         0.603       0.271   \n",
       "3                    1.026                         0.591       0.354   \n",
       "4                    0.999                         0.557       0.322   \n",
       "\n",
       "   Perceptions_of_corruption  \n",
       "0                      0.393  \n",
       "1                      0.410  \n",
       "2                      0.341  \n",
       "3                      0.118  \n",
       "4                      0.298  "
      ]
     },
     "execution_count": 3,
     "metadata": {},
     "output_type": "execute_result"
    }
   ],
   "source": [
    "df.columns = df.columns.str.replace(' ', '_') #replacing column names containing spaces with _\n",
    "df.head()"
   ]
  },
  {
   "cell_type": "markdown",
   "metadata": {},
   "source": [
    "## Statistical Summary"
   ]
  },
  {
   "cell_type": "code",
   "execution_count": 4,
   "metadata": {},
   "outputs": [
    {
     "data": {
      "text/html": [
       "<div>\n",
       "<style scoped>\n",
       "    .dataframe tbody tr th:only-of-type {\n",
       "        vertical-align: middle;\n",
       "    }\n",
       "\n",
       "    .dataframe tbody tr th {\n",
       "        vertical-align: top;\n",
       "    }\n",
       "\n",
       "    .dataframe thead th {\n",
       "        text-align: right;\n",
       "    }\n",
       "</style>\n",
       "<table border=\"1\" class=\"dataframe\">\n",
       "  <thead>\n",
       "    <tr style=\"text-align: right;\">\n",
       "      <th></th>\n",
       "      <th>Overall_rank</th>\n",
       "      <th>Score</th>\n",
       "      <th>GDP_per_capita</th>\n",
       "      <th>Social_support</th>\n",
       "      <th>Healthy_life_expectancy</th>\n",
       "      <th>Freedom_to_make_life_choices</th>\n",
       "      <th>Generosity</th>\n",
       "      <th>Perceptions_of_corruption</th>\n",
       "    </tr>\n",
       "  </thead>\n",
       "  <tbody>\n",
       "    <tr>\n",
       "      <td>count</td>\n",
       "      <td>156.000000</td>\n",
       "      <td>156.000000</td>\n",
       "      <td>156.000000</td>\n",
       "      <td>156.000000</td>\n",
       "      <td>156.000000</td>\n",
       "      <td>156.000000</td>\n",
       "      <td>156.000000</td>\n",
       "      <td>156.000000</td>\n",
       "    </tr>\n",
       "    <tr>\n",
       "      <td>mean</td>\n",
       "      <td>78.500000</td>\n",
       "      <td>5.407096</td>\n",
       "      <td>0.905147</td>\n",
       "      <td>1.208814</td>\n",
       "      <td>0.725244</td>\n",
       "      <td>0.392571</td>\n",
       "      <td>0.184846</td>\n",
       "      <td>0.110603</td>\n",
       "    </tr>\n",
       "    <tr>\n",
       "      <td>std</td>\n",
       "      <td>45.177428</td>\n",
       "      <td>1.113120</td>\n",
       "      <td>0.398389</td>\n",
       "      <td>0.299191</td>\n",
       "      <td>0.242124</td>\n",
       "      <td>0.143289</td>\n",
       "      <td>0.095254</td>\n",
       "      <td>0.094538</td>\n",
       "    </tr>\n",
       "    <tr>\n",
       "      <td>min</td>\n",
       "      <td>1.000000</td>\n",
       "      <td>2.853000</td>\n",
       "      <td>0.000000</td>\n",
       "      <td>0.000000</td>\n",
       "      <td>0.000000</td>\n",
       "      <td>0.000000</td>\n",
       "      <td>0.000000</td>\n",
       "      <td>0.000000</td>\n",
       "    </tr>\n",
       "    <tr>\n",
       "      <td>25%</td>\n",
       "      <td>39.750000</td>\n",
       "      <td>4.544500</td>\n",
       "      <td>0.602750</td>\n",
       "      <td>1.055750</td>\n",
       "      <td>0.547750</td>\n",
       "      <td>0.308000</td>\n",
       "      <td>0.108750</td>\n",
       "      <td>0.047000</td>\n",
       "    </tr>\n",
       "    <tr>\n",
       "      <td>50%</td>\n",
       "      <td>78.500000</td>\n",
       "      <td>5.379500</td>\n",
       "      <td>0.960000</td>\n",
       "      <td>1.271500</td>\n",
       "      <td>0.789000</td>\n",
       "      <td>0.417000</td>\n",
       "      <td>0.177500</td>\n",
       "      <td>0.085500</td>\n",
       "    </tr>\n",
       "    <tr>\n",
       "      <td>75%</td>\n",
       "      <td>117.250000</td>\n",
       "      <td>6.184500</td>\n",
       "      <td>1.232500</td>\n",
       "      <td>1.452500</td>\n",
       "      <td>0.881750</td>\n",
       "      <td>0.507250</td>\n",
       "      <td>0.248250</td>\n",
       "      <td>0.141250</td>\n",
       "    </tr>\n",
       "    <tr>\n",
       "      <td>max</td>\n",
       "      <td>156.000000</td>\n",
       "      <td>7.769000</td>\n",
       "      <td>1.684000</td>\n",
       "      <td>1.624000</td>\n",
       "      <td>1.141000</td>\n",
       "      <td>0.631000</td>\n",
       "      <td>0.566000</td>\n",
       "      <td>0.453000</td>\n",
       "    </tr>\n",
       "  </tbody>\n",
       "</table>\n",
       "</div>"
      ],
      "text/plain": [
       "       Overall_rank       Score  GDP_per_capita  Social_support  \\\n",
       "count    156.000000  156.000000      156.000000      156.000000   \n",
       "mean      78.500000    5.407096        0.905147        1.208814   \n",
       "std       45.177428    1.113120        0.398389        0.299191   \n",
       "min        1.000000    2.853000        0.000000        0.000000   \n",
       "25%       39.750000    4.544500        0.602750        1.055750   \n",
       "50%       78.500000    5.379500        0.960000        1.271500   \n",
       "75%      117.250000    6.184500        1.232500        1.452500   \n",
       "max      156.000000    7.769000        1.684000        1.624000   \n",
       "\n",
       "       Healthy_life_expectancy  Freedom_to_make_life_choices  Generosity  \\\n",
       "count               156.000000                    156.000000  156.000000   \n",
       "mean                  0.725244                      0.392571    0.184846   \n",
       "std                   0.242124                      0.143289    0.095254   \n",
       "min                   0.000000                      0.000000    0.000000   \n",
       "25%                   0.547750                      0.308000    0.108750   \n",
       "50%                   0.789000                      0.417000    0.177500   \n",
       "75%                   0.881750                      0.507250    0.248250   \n",
       "max                   1.141000                      0.631000    0.566000   \n",
       "\n",
       "       Perceptions_of_corruption  \n",
       "count                 156.000000  \n",
       "mean                    0.110603  \n",
       "std                     0.094538  \n",
       "min                     0.000000  \n",
       "25%                     0.047000  \n",
       "50%                     0.085500  \n",
       "75%                     0.141250  \n",
       "max                     0.453000  "
      ]
     },
     "execution_count": 4,
     "metadata": {},
     "output_type": "execute_result"
    }
   ],
   "source": [
    "#statistical summary\n",
    "df.describe()"
   ]
  },
  {
   "cell_type": "code",
   "execution_count": 5,
   "metadata": {},
   "outputs": [
    {
     "data": {
      "text/plain": [
       "Overall_rank                      int64\n",
       "Country_or_region                object\n",
       "Score                           float64\n",
       "GDP_per_capita                  float64\n",
       "Social_support                  float64\n",
       "Healthy_life_expectancy         float64\n",
       "Freedom_to_make_life_choices    float64\n",
       "Generosity                      float64\n",
       "Perceptions_of_corruption       float64\n",
       "dtype: object"
      ]
     },
     "execution_count": 5,
     "metadata": {},
     "output_type": "execute_result"
    }
   ],
   "source": [
    "#data types\n",
    "df.dtypes"
   ]
  },
  {
   "cell_type": "markdown",
   "metadata": {},
   "source": [
    "## Visualizing the data\n",
    "\n",
    "Using plotly to visualize the countries on a world map based on their respective scores:"
   ]
  },
  {
   "cell_type": "code",
   "execution_count": 6,
   "metadata": {},
   "outputs": [
    {
     "data": {
      "application/vnd.plotly.v1+json": {
       "config": {
        "linkText": "Export to plot.ly",
        "plotlyServerURL": "https://plot.ly",
        "showLink": false
       },
       "data": [
        {
         "colorbar": {
          "title": {
           "text": "Happiness"
          }
         },
         "colorscale": [
          [
           0,
           "rgb(247,251,255)"
          ],
          [
           0.125,
           "rgb(222,235,247)"
          ],
          [
           0.25,
           "rgb(198,219,239)"
          ],
          [
           0.375,
           "rgb(158,202,225)"
          ],
          [
           0.5,
           "rgb(107,174,214)"
          ],
          [
           0.625,
           "rgb(66,146,198)"
          ],
          [
           0.75,
           "rgb(33,113,181)"
          ],
          [
           0.875,
           "rgb(8,81,156)"
          ],
          [
           1,
           "rgb(8,48,107)"
          ]
         ],
         "locationmode": "country names",
         "locations": [
          "Finland",
          "Denmark",
          "Norway",
          "Iceland",
          "Netherlands",
          "Switzerland",
          "Sweden",
          "New Zealand",
          "Canada",
          "Austria",
          "Australia",
          "Costa Rica",
          "Israel",
          "Luxembourg",
          "United Kingdom",
          "Ireland",
          "Germany",
          "Belgium",
          "United States",
          "Czech Republic",
          "United Arab Emirates",
          "Malta",
          "Mexico",
          "France",
          "Taiwan",
          "Chile",
          "Guatemala",
          "Saudi Arabia",
          "Qatar",
          "Spain",
          "Panama",
          "Brazil",
          "Uruguay",
          "Singapore",
          "El Salvador",
          "Italy",
          "Bahrain",
          "Slovakia",
          "Trinidad & Tobago",
          "Poland",
          "Uzbekistan",
          "Lithuania",
          "Colombia",
          "Slovenia",
          "Nicaragua",
          "Kosovo",
          "Argentina",
          "Romania",
          "Cyprus",
          "Ecuador",
          "Kuwait",
          "Thailand",
          "Latvia",
          "South Korea",
          "Estonia",
          "Jamaica",
          "Mauritius",
          "Japan",
          "Honduras",
          "Kazakhstan",
          "Bolivia",
          "Hungary",
          "Paraguay",
          "Northern Cyprus",
          "Peru",
          "Portugal",
          "Pakistan",
          "Russia",
          "Philippines",
          "Serbia",
          "Moldova",
          "Libya",
          "Montenegro",
          "Tajikistan",
          "Croatia",
          "Hong Kong",
          "Dominican Republic",
          "Bosnia and Herzegovina",
          "Turkey",
          "Malaysia",
          "Belarus",
          "Greece",
          "Mongolia",
          "North Macedonia",
          "Nigeria",
          "Kyrgyzstan",
          "Turkmenistan",
          "Algeria",
          "Morocco",
          "Azerbaijan",
          "Lebanon",
          "Indonesia",
          "China",
          "Vietnam",
          "Bhutan",
          "Cameroon",
          "Bulgaria",
          "Ghana",
          "Ivory Coast",
          "Nepal",
          "Jordan",
          "Benin",
          "Congo (Brazzaville)",
          "Gabon",
          "Laos",
          "South Africa",
          "Albania",
          "Venezuela",
          "Cambodia",
          "Palestinian Territories",
          "Senegal",
          "Somalia",
          "Namibia",
          "Niger",
          "Burkina Faso",
          "Armenia",
          "Iran",
          "Guinea",
          "Georgia",
          "Gambia",
          "Kenya",
          "Mauritania",
          "Mozambique",
          "Tunisia",
          "Bangladesh",
          "Iraq",
          "Congo (Kinshasa)",
          "Mali",
          "Sierra Leone",
          "Sri Lanka",
          "Myanmar",
          "Chad",
          "Ukraine",
          "Ethiopia",
          "Swaziland",
          "Uganda",
          "Egypt",
          "Zambia",
          "Togo",
          "India",
          "Liberia",
          "Comoros",
          "Madagascar",
          "Lesotho",
          "Burundi",
          "Zimbabwe",
          "Haiti",
          "Botswana",
          "Syria",
          "Malawi",
          "Yemen",
          "Rwanda",
          "Tanzania",
          "Afghanistan",
          "Central African Republic",
          "South Sudan"
         ],
         "text": [
          "Finland",
          "Denmark",
          "Norway",
          "Iceland",
          "Netherlands",
          "Switzerland",
          "Sweden",
          "New Zealand",
          "Canada",
          "Austria",
          "Australia",
          "Costa Rica",
          "Israel",
          "Luxembourg",
          "United Kingdom",
          "Ireland",
          "Germany",
          "Belgium",
          "United States",
          "Czech Republic",
          "United Arab Emirates",
          "Malta",
          "Mexico",
          "France",
          "Taiwan",
          "Chile",
          "Guatemala",
          "Saudi Arabia",
          "Qatar",
          "Spain",
          "Panama",
          "Brazil",
          "Uruguay",
          "Singapore",
          "El Salvador",
          "Italy",
          "Bahrain",
          "Slovakia",
          "Trinidad & Tobago",
          "Poland",
          "Uzbekistan",
          "Lithuania",
          "Colombia",
          "Slovenia",
          "Nicaragua",
          "Kosovo",
          "Argentina",
          "Romania",
          "Cyprus",
          "Ecuador",
          "Kuwait",
          "Thailand",
          "Latvia",
          "South Korea",
          "Estonia",
          "Jamaica",
          "Mauritius",
          "Japan",
          "Honduras",
          "Kazakhstan",
          "Bolivia",
          "Hungary",
          "Paraguay",
          "Northern Cyprus",
          "Peru",
          "Portugal",
          "Pakistan",
          "Russia",
          "Philippines",
          "Serbia",
          "Moldova",
          "Libya",
          "Montenegro",
          "Tajikistan",
          "Croatia",
          "Hong Kong",
          "Dominican Republic",
          "Bosnia and Herzegovina",
          "Turkey",
          "Malaysia",
          "Belarus",
          "Greece",
          "Mongolia",
          "North Macedonia",
          "Nigeria",
          "Kyrgyzstan",
          "Turkmenistan",
          "Algeria",
          "Morocco",
          "Azerbaijan",
          "Lebanon",
          "Indonesia",
          "China",
          "Vietnam",
          "Bhutan",
          "Cameroon",
          "Bulgaria",
          "Ghana",
          "Ivory Coast",
          "Nepal",
          "Jordan",
          "Benin",
          "Congo (Brazzaville)",
          "Gabon",
          "Laos",
          "South Africa",
          "Albania",
          "Venezuela",
          "Cambodia",
          "Palestinian Territories",
          "Senegal",
          "Somalia",
          "Namibia",
          "Niger",
          "Burkina Faso",
          "Armenia",
          "Iran",
          "Guinea",
          "Georgia",
          "Gambia",
          "Kenya",
          "Mauritania",
          "Mozambique",
          "Tunisia",
          "Bangladesh",
          "Iraq",
          "Congo (Kinshasa)",
          "Mali",
          "Sierra Leone",
          "Sri Lanka",
          "Myanmar",
          "Chad",
          "Ukraine",
          "Ethiopia",
          "Swaziland",
          "Uganda",
          "Egypt",
          "Zambia",
          "Togo",
          "India",
          "Liberia",
          "Comoros",
          "Madagascar",
          "Lesotho",
          "Burundi",
          "Zimbabwe",
          "Haiti",
          "Botswana",
          "Syria",
          "Malawi",
          "Yemen",
          "Rwanda",
          "Tanzania",
          "Afghanistan",
          "Central African Republic",
          "South Sudan"
         ],
         "type": "choropleth",
         "z": [
          7.769,
          7.6,
          7.553999999999999,
          7.494,
          7.4879999999999995,
          7.48,
          7.343,
          7.307,
          7.278,
          7.246,
          7.228,
          7.167000000000001,
          7.138999999999999,
          7.09,
          7.053999999999999,
          7.021,
          6.985,
          6.922999999999999,
          6.892,
          6.852,
          6.825,
          6.726,
          6.595,
          6.5920000000000005,
          6.446000000000001,
          6.444,
          6.436,
          6.375,
          6.374,
          6.354,
          6.321000000000001,
          6.3,
          6.292999999999999,
          6.2620000000000005,
          6.252999999999999,
          6.223,
          6.199,
          6.1979999999999995,
          6.192,
          6.182,
          6.1739999999999995,
          6.149,
          6.125,
          6.117999999999999,
          6.105,
          6.1,
          6.086,
          6.07,
          6.046,
          6.028,
          6.021,
          6.007999999999999,
          5.94,
          5.895,
          5.893,
          5.89,
          5.888,
          5.886,
          5.86,
          5.809,
          5.779,
          5.757999999999999,
          5.742999999999999,
          5.718,
          5.697,
          5.693,
          5.653,
          5.648,
          5.631,
          5.603,
          5.529,
          5.525,
          5.523,
          5.4670000000000005,
          5.432,
          5.43,
          5.425,
          5.386,
          5.372999999999999,
          5.3389999999999995,
          5.3229999999999995,
          5.287000000000001,
          5.285,
          5.274,
          5.265,
          5.261,
          5.247000000000001,
          5.211,
          5.207999999999999,
          5.207999999999999,
          5.197,
          5.192,
          5.191,
          5.175,
          5.082,
          5.044,
          5.011,
          4.996,
          4.944,
          4.913,
          4.906000000000001,
          4.883,
          4.812,
          4.7989999999999995,
          4.796,
          4.7219999999999995,
          4.718999999999999,
          4.707,
          4.7,
          4.696000000000001,
          4.681,
          4.668,
          4.638999999999999,
          4.628,
          4.587,
          4.559,
          4.548,
          4.534,
          4.519,
          4.516,
          4.5089999999999995,
          4.49,
          4.466,
          4.461,
          4.456,
          4.437,
          4.418,
          4.39,
          4.374,
          4.3660000000000005,
          4.36,
          4.35,
          4.332,
          4.2860000000000005,
          4.212,
          4.189,
          4.166,
          4.107,
          4.085,
          4.015,
          3.975,
          3.9730000000000003,
          3.9330000000000003,
          3.802,
          3.775,
          3.6630000000000003,
          3.597,
          3.488,
          3.4619999999999997,
          3.41,
          3.38,
          3.3339999999999996,
          3.2310000000000003,
          3.2030000000000003,
          3.083,
          2.853
         ]
        }
       ],
       "layout": {
        "template": {
         "data": {
          "bar": [
           {
            "error_x": {
             "color": "#2a3f5f"
            },
            "error_y": {
             "color": "#2a3f5f"
            },
            "marker": {
             "line": {
              "color": "#E5ECF6",
              "width": 0.5
             }
            },
            "type": "bar"
           }
          ],
          "barpolar": [
           {
            "marker": {
             "line": {
              "color": "#E5ECF6",
              "width": 0.5
             }
            },
            "type": "barpolar"
           }
          ],
          "carpet": [
           {
            "aaxis": {
             "endlinecolor": "#2a3f5f",
             "gridcolor": "white",
             "linecolor": "white",
             "minorgridcolor": "white",
             "startlinecolor": "#2a3f5f"
            },
            "baxis": {
             "endlinecolor": "#2a3f5f",
             "gridcolor": "white",
             "linecolor": "white",
             "minorgridcolor": "white",
             "startlinecolor": "#2a3f5f"
            },
            "type": "carpet"
           }
          ],
          "choropleth": [
           {
            "colorbar": {
             "outlinewidth": 0,
             "ticks": ""
            },
            "type": "choropleth"
           }
          ],
          "contour": [
           {
            "colorbar": {
             "outlinewidth": 0,
             "ticks": ""
            },
            "colorscale": [
             [
              0,
              "#0d0887"
             ],
             [
              0.1111111111111111,
              "#46039f"
             ],
             [
              0.2222222222222222,
              "#7201a8"
             ],
             [
              0.3333333333333333,
              "#9c179e"
             ],
             [
              0.4444444444444444,
              "#bd3786"
             ],
             [
              0.5555555555555556,
              "#d8576b"
             ],
             [
              0.6666666666666666,
              "#ed7953"
             ],
             [
              0.7777777777777778,
              "#fb9f3a"
             ],
             [
              0.8888888888888888,
              "#fdca26"
             ],
             [
              1,
              "#f0f921"
             ]
            ],
            "type": "contour"
           }
          ],
          "contourcarpet": [
           {
            "colorbar": {
             "outlinewidth": 0,
             "ticks": ""
            },
            "type": "contourcarpet"
           }
          ],
          "heatmap": [
           {
            "colorbar": {
             "outlinewidth": 0,
             "ticks": ""
            },
            "colorscale": [
             [
              0,
              "#0d0887"
             ],
             [
              0.1111111111111111,
              "#46039f"
             ],
             [
              0.2222222222222222,
              "#7201a8"
             ],
             [
              0.3333333333333333,
              "#9c179e"
             ],
             [
              0.4444444444444444,
              "#bd3786"
             ],
             [
              0.5555555555555556,
              "#d8576b"
             ],
             [
              0.6666666666666666,
              "#ed7953"
             ],
             [
              0.7777777777777778,
              "#fb9f3a"
             ],
             [
              0.8888888888888888,
              "#fdca26"
             ],
             [
              1,
              "#f0f921"
             ]
            ],
            "type": "heatmap"
           }
          ],
          "heatmapgl": [
           {
            "colorbar": {
             "outlinewidth": 0,
             "ticks": ""
            },
            "colorscale": [
             [
              0,
              "#0d0887"
             ],
             [
              0.1111111111111111,
              "#46039f"
             ],
             [
              0.2222222222222222,
              "#7201a8"
             ],
             [
              0.3333333333333333,
              "#9c179e"
             ],
             [
              0.4444444444444444,
              "#bd3786"
             ],
             [
              0.5555555555555556,
              "#d8576b"
             ],
             [
              0.6666666666666666,
              "#ed7953"
             ],
             [
              0.7777777777777778,
              "#fb9f3a"
             ],
             [
              0.8888888888888888,
              "#fdca26"
             ],
             [
              1,
              "#f0f921"
             ]
            ],
            "type": "heatmapgl"
           }
          ],
          "histogram": [
           {
            "marker": {
             "colorbar": {
              "outlinewidth": 0,
              "ticks": ""
             }
            },
            "type": "histogram"
           }
          ],
          "histogram2d": [
           {
            "colorbar": {
             "outlinewidth": 0,
             "ticks": ""
            },
            "colorscale": [
             [
              0,
              "#0d0887"
             ],
             [
              0.1111111111111111,
              "#46039f"
             ],
             [
              0.2222222222222222,
              "#7201a8"
             ],
             [
              0.3333333333333333,
              "#9c179e"
             ],
             [
              0.4444444444444444,
              "#bd3786"
             ],
             [
              0.5555555555555556,
              "#d8576b"
             ],
             [
              0.6666666666666666,
              "#ed7953"
             ],
             [
              0.7777777777777778,
              "#fb9f3a"
             ],
             [
              0.8888888888888888,
              "#fdca26"
             ],
             [
              1,
              "#f0f921"
             ]
            ],
            "type": "histogram2d"
           }
          ],
          "histogram2dcontour": [
           {
            "colorbar": {
             "outlinewidth": 0,
             "ticks": ""
            },
            "colorscale": [
             [
              0,
              "#0d0887"
             ],
             [
              0.1111111111111111,
              "#46039f"
             ],
             [
              0.2222222222222222,
              "#7201a8"
             ],
             [
              0.3333333333333333,
              "#9c179e"
             ],
             [
              0.4444444444444444,
              "#bd3786"
             ],
             [
              0.5555555555555556,
              "#d8576b"
             ],
             [
              0.6666666666666666,
              "#ed7953"
             ],
             [
              0.7777777777777778,
              "#fb9f3a"
             ],
             [
              0.8888888888888888,
              "#fdca26"
             ],
             [
              1,
              "#f0f921"
             ]
            ],
            "type": "histogram2dcontour"
           }
          ],
          "mesh3d": [
           {
            "colorbar": {
             "outlinewidth": 0,
             "ticks": ""
            },
            "type": "mesh3d"
           }
          ],
          "parcoords": [
           {
            "line": {
             "colorbar": {
              "outlinewidth": 0,
              "ticks": ""
             }
            },
            "type": "parcoords"
           }
          ],
          "pie": [
           {
            "automargin": true,
            "type": "pie"
           }
          ],
          "scatter": [
           {
            "marker": {
             "colorbar": {
              "outlinewidth": 0,
              "ticks": ""
             }
            },
            "type": "scatter"
           }
          ],
          "scatter3d": [
           {
            "line": {
             "colorbar": {
              "outlinewidth": 0,
              "ticks": ""
             }
            },
            "marker": {
             "colorbar": {
              "outlinewidth": 0,
              "ticks": ""
             }
            },
            "type": "scatter3d"
           }
          ],
          "scattercarpet": [
           {
            "marker": {
             "colorbar": {
              "outlinewidth": 0,
              "ticks": ""
             }
            },
            "type": "scattercarpet"
           }
          ],
          "scattergeo": [
           {
            "marker": {
             "colorbar": {
              "outlinewidth": 0,
              "ticks": ""
             }
            },
            "type": "scattergeo"
           }
          ],
          "scattergl": [
           {
            "marker": {
             "colorbar": {
              "outlinewidth": 0,
              "ticks": ""
             }
            },
            "type": "scattergl"
           }
          ],
          "scattermapbox": [
           {
            "marker": {
             "colorbar": {
              "outlinewidth": 0,
              "ticks": ""
             }
            },
            "type": "scattermapbox"
           }
          ],
          "scatterpolar": [
           {
            "marker": {
             "colorbar": {
              "outlinewidth": 0,
              "ticks": ""
             }
            },
            "type": "scatterpolar"
           }
          ],
          "scatterpolargl": [
           {
            "marker": {
             "colorbar": {
              "outlinewidth": 0,
              "ticks": ""
             }
            },
            "type": "scatterpolargl"
           }
          ],
          "scatterternary": [
           {
            "marker": {
             "colorbar": {
              "outlinewidth": 0,
              "ticks": ""
             }
            },
            "type": "scatterternary"
           }
          ],
          "surface": [
           {
            "colorbar": {
             "outlinewidth": 0,
             "ticks": ""
            },
            "colorscale": [
             [
              0,
              "#0d0887"
             ],
             [
              0.1111111111111111,
              "#46039f"
             ],
             [
              0.2222222222222222,
              "#7201a8"
             ],
             [
              0.3333333333333333,
              "#9c179e"
             ],
             [
              0.4444444444444444,
              "#bd3786"
             ],
             [
              0.5555555555555556,
              "#d8576b"
             ],
             [
              0.6666666666666666,
              "#ed7953"
             ],
             [
              0.7777777777777778,
              "#fb9f3a"
             ],
             [
              0.8888888888888888,
              "#fdca26"
             ],
             [
              1,
              "#f0f921"
             ]
            ],
            "type": "surface"
           }
          ],
          "table": [
           {
            "cells": {
             "fill": {
              "color": "#EBF0F8"
             },
             "line": {
              "color": "white"
             }
            },
            "header": {
             "fill": {
              "color": "#C8D4E3"
             },
             "line": {
              "color": "white"
             }
            },
            "type": "table"
           }
          ]
         },
         "layout": {
          "annotationdefaults": {
           "arrowcolor": "#2a3f5f",
           "arrowhead": 0,
           "arrowwidth": 1
          },
          "coloraxis": {
           "colorbar": {
            "outlinewidth": 0,
            "ticks": ""
           }
          },
          "colorscale": {
           "diverging": [
            [
             0,
             "#8e0152"
            ],
            [
             0.1,
             "#c51b7d"
            ],
            [
             0.2,
             "#de77ae"
            ],
            [
             0.3,
             "#f1b6da"
            ],
            [
             0.4,
             "#fde0ef"
            ],
            [
             0.5,
             "#f7f7f7"
            ],
            [
             0.6,
             "#e6f5d0"
            ],
            [
             0.7,
             "#b8e186"
            ],
            [
             0.8,
             "#7fbc41"
            ],
            [
             0.9,
             "#4d9221"
            ],
            [
             1,
             "#276419"
            ]
           ],
           "sequential": [
            [
             0,
             "#0d0887"
            ],
            [
             0.1111111111111111,
             "#46039f"
            ],
            [
             0.2222222222222222,
             "#7201a8"
            ],
            [
             0.3333333333333333,
             "#9c179e"
            ],
            [
             0.4444444444444444,
             "#bd3786"
            ],
            [
             0.5555555555555556,
             "#d8576b"
            ],
            [
             0.6666666666666666,
             "#ed7953"
            ],
            [
             0.7777777777777778,
             "#fb9f3a"
            ],
            [
             0.8888888888888888,
             "#fdca26"
            ],
            [
             1,
             "#f0f921"
            ]
           ],
           "sequentialminus": [
            [
             0,
             "#0d0887"
            ],
            [
             0.1111111111111111,
             "#46039f"
            ],
            [
             0.2222222222222222,
             "#7201a8"
            ],
            [
             0.3333333333333333,
             "#9c179e"
            ],
            [
             0.4444444444444444,
             "#bd3786"
            ],
            [
             0.5555555555555556,
             "#d8576b"
            ],
            [
             0.6666666666666666,
             "#ed7953"
            ],
            [
             0.7777777777777778,
             "#fb9f3a"
            ],
            [
             0.8888888888888888,
             "#fdca26"
            ],
            [
             1,
             "#f0f921"
            ]
           ]
          },
          "colorway": [
           "#636efa",
           "#EF553B",
           "#00cc96",
           "#ab63fa",
           "#FFA15A",
           "#19d3f3",
           "#FF6692",
           "#B6E880",
           "#FF97FF",
           "#FECB52"
          ],
          "font": {
           "color": "#2a3f5f"
          },
          "geo": {
           "bgcolor": "white",
           "lakecolor": "white",
           "landcolor": "#E5ECF6",
           "showlakes": true,
           "showland": true,
           "subunitcolor": "white"
          },
          "hoverlabel": {
           "align": "left"
          },
          "hovermode": "closest",
          "mapbox": {
           "style": "light"
          },
          "paper_bgcolor": "white",
          "plot_bgcolor": "#E5ECF6",
          "polar": {
           "angularaxis": {
            "gridcolor": "white",
            "linecolor": "white",
            "ticks": ""
           },
           "bgcolor": "#E5ECF6",
           "radialaxis": {
            "gridcolor": "white",
            "linecolor": "white",
            "ticks": ""
           }
          },
          "scene": {
           "xaxis": {
            "backgroundcolor": "#E5ECF6",
            "gridcolor": "white",
            "gridwidth": 2,
            "linecolor": "white",
            "showbackground": true,
            "ticks": "",
            "zerolinecolor": "white"
           },
           "yaxis": {
            "backgroundcolor": "#E5ECF6",
            "gridcolor": "white",
            "gridwidth": 2,
            "linecolor": "white",
            "showbackground": true,
            "ticks": "",
            "zerolinecolor": "white"
           },
           "zaxis": {
            "backgroundcolor": "#E5ECF6",
            "gridcolor": "white",
            "gridwidth": 2,
            "linecolor": "white",
            "showbackground": true,
            "ticks": "",
            "zerolinecolor": "white"
           }
          },
          "shapedefaults": {
           "line": {
            "color": "#2a3f5f"
           }
          },
          "ternary": {
           "aaxis": {
            "gridcolor": "white",
            "linecolor": "white",
            "ticks": ""
           },
           "baxis": {
            "gridcolor": "white",
            "linecolor": "white",
            "ticks": ""
           },
           "bgcolor": "#E5ECF6",
           "caxis": {
            "gridcolor": "white",
            "linecolor": "white",
            "ticks": ""
           }
          },
          "title": {
           "x": 0.05
          },
          "xaxis": {
           "automargin": true,
           "gridcolor": "white",
           "linecolor": "white",
           "ticks": "",
           "title": {
            "standoff": 15
           },
           "zerolinecolor": "white",
           "zerolinewidth": 2
          },
          "yaxis": {
           "automargin": true,
           "gridcolor": "white",
           "linecolor": "white",
           "ticks": "",
           "title": {
            "standoff": 15
           },
           "zerolinecolor": "white",
           "zerolinewidth": 2
          }
         }
        },
        "title": {
         "text": "Happiness Index 2019"
        }
       }
      },
      "text/html": [
       "<div>\n",
       "        \n",
       "        \n",
       "            <div id=\"6e4318b8-a1a6-406a-8b86-b9c9228e891f\" class=\"plotly-graph-div\" style=\"height:525px; width:100%;\"></div>\n",
       "            <script type=\"text/javascript\">\n",
       "                require([\"plotly\"], function(Plotly) {\n",
       "                    window.PLOTLYENV=window.PLOTLYENV || {};\n",
       "                    \n",
       "                if (document.getElementById(\"6e4318b8-a1a6-406a-8b86-b9c9228e891f\")) {\n",
       "                    Plotly.newPlot(\n",
       "                        '6e4318b8-a1a6-406a-8b86-b9c9228e891f',\n",
       "                        [{\"colorbar\": {\"title\": {\"text\": \"Happiness\"}}, \"colorscale\": [[0.0, \"rgb(247,251,255)\"], [0.125, \"rgb(222,235,247)\"], [0.25, \"rgb(198,219,239)\"], [0.375, \"rgb(158,202,225)\"], [0.5, \"rgb(107,174,214)\"], [0.625, \"rgb(66,146,198)\"], [0.75, \"rgb(33,113,181)\"], [0.875, \"rgb(8,81,156)\"], [1.0, \"rgb(8,48,107)\"]], \"locationmode\": \"country names\", \"locations\": [\"Finland\", \"Denmark\", \"Norway\", \"Iceland\", \"Netherlands\", \"Switzerland\", \"Sweden\", \"New Zealand\", \"Canada\", \"Austria\", \"Australia\", \"Costa Rica\", \"Israel\", \"Luxembourg\", \"United Kingdom\", \"Ireland\", \"Germany\", \"Belgium\", \"United States\", \"Czech Republic\", \"United Arab Emirates\", \"Malta\", \"Mexico\", \"France\", \"Taiwan\", \"Chile\", \"Guatemala\", \"Saudi Arabia\", \"Qatar\", \"Spain\", \"Panama\", \"Brazil\", \"Uruguay\", \"Singapore\", \"El Salvador\", \"Italy\", \"Bahrain\", \"Slovakia\", \"Trinidad & Tobago\", \"Poland\", \"Uzbekistan\", \"Lithuania\", \"Colombia\", \"Slovenia\", \"Nicaragua\", \"Kosovo\", \"Argentina\", \"Romania\", \"Cyprus\", \"Ecuador\", \"Kuwait\", \"Thailand\", \"Latvia\", \"South Korea\", \"Estonia\", \"Jamaica\", \"Mauritius\", \"Japan\", \"Honduras\", \"Kazakhstan\", \"Bolivia\", \"Hungary\", \"Paraguay\", \"Northern Cyprus\", \"Peru\", \"Portugal\", \"Pakistan\", \"Russia\", \"Philippines\", \"Serbia\", \"Moldova\", \"Libya\", \"Montenegro\", \"Tajikistan\", \"Croatia\", \"Hong Kong\", \"Dominican Republic\", \"Bosnia and Herzegovina\", \"Turkey\", \"Malaysia\", \"Belarus\", \"Greece\", \"Mongolia\", \"North Macedonia\", \"Nigeria\", \"Kyrgyzstan\", \"Turkmenistan\", \"Algeria\", \"Morocco\", \"Azerbaijan\", \"Lebanon\", \"Indonesia\", \"China\", \"Vietnam\", \"Bhutan\", \"Cameroon\", \"Bulgaria\", \"Ghana\", \"Ivory Coast\", \"Nepal\", \"Jordan\", \"Benin\", \"Congo (Brazzaville)\", \"Gabon\", \"Laos\", \"South Africa\", \"Albania\", \"Venezuela\", \"Cambodia\", \"Palestinian Territories\", \"Senegal\", \"Somalia\", \"Namibia\", \"Niger\", \"Burkina Faso\", \"Armenia\", \"Iran\", \"Guinea\", \"Georgia\", \"Gambia\", \"Kenya\", \"Mauritania\", \"Mozambique\", \"Tunisia\", \"Bangladesh\", \"Iraq\", \"Congo (Kinshasa)\", \"Mali\", \"Sierra Leone\", \"Sri Lanka\", \"Myanmar\", \"Chad\", \"Ukraine\", \"Ethiopia\", \"Swaziland\", \"Uganda\", \"Egypt\", \"Zambia\", \"Togo\", \"India\", \"Liberia\", \"Comoros\", \"Madagascar\", \"Lesotho\", \"Burundi\", \"Zimbabwe\", \"Haiti\", \"Botswana\", \"Syria\", \"Malawi\", \"Yemen\", \"Rwanda\", \"Tanzania\", \"Afghanistan\", \"Central African Republic\", \"South Sudan\"], \"text\": [\"Finland\", \"Denmark\", \"Norway\", \"Iceland\", \"Netherlands\", \"Switzerland\", \"Sweden\", \"New Zealand\", \"Canada\", \"Austria\", \"Australia\", \"Costa Rica\", \"Israel\", \"Luxembourg\", \"United Kingdom\", \"Ireland\", \"Germany\", \"Belgium\", \"United States\", \"Czech Republic\", \"United Arab Emirates\", \"Malta\", \"Mexico\", \"France\", \"Taiwan\", \"Chile\", \"Guatemala\", \"Saudi Arabia\", \"Qatar\", \"Spain\", \"Panama\", \"Brazil\", \"Uruguay\", \"Singapore\", \"El Salvador\", \"Italy\", \"Bahrain\", \"Slovakia\", \"Trinidad & Tobago\", \"Poland\", \"Uzbekistan\", \"Lithuania\", \"Colombia\", \"Slovenia\", \"Nicaragua\", \"Kosovo\", \"Argentina\", \"Romania\", \"Cyprus\", \"Ecuador\", \"Kuwait\", \"Thailand\", \"Latvia\", \"South Korea\", \"Estonia\", \"Jamaica\", \"Mauritius\", \"Japan\", \"Honduras\", \"Kazakhstan\", \"Bolivia\", \"Hungary\", \"Paraguay\", \"Northern Cyprus\", \"Peru\", \"Portugal\", \"Pakistan\", \"Russia\", \"Philippines\", \"Serbia\", \"Moldova\", \"Libya\", \"Montenegro\", \"Tajikistan\", \"Croatia\", \"Hong Kong\", \"Dominican Republic\", \"Bosnia and Herzegovina\", \"Turkey\", \"Malaysia\", \"Belarus\", \"Greece\", \"Mongolia\", \"North Macedonia\", \"Nigeria\", \"Kyrgyzstan\", \"Turkmenistan\", \"Algeria\", \"Morocco\", \"Azerbaijan\", \"Lebanon\", \"Indonesia\", \"China\", \"Vietnam\", \"Bhutan\", \"Cameroon\", \"Bulgaria\", \"Ghana\", \"Ivory Coast\", \"Nepal\", \"Jordan\", \"Benin\", \"Congo (Brazzaville)\", \"Gabon\", \"Laos\", \"South Africa\", \"Albania\", \"Venezuela\", \"Cambodia\", \"Palestinian Territories\", \"Senegal\", \"Somalia\", \"Namibia\", \"Niger\", \"Burkina Faso\", \"Armenia\", \"Iran\", \"Guinea\", \"Georgia\", \"Gambia\", \"Kenya\", \"Mauritania\", \"Mozambique\", \"Tunisia\", \"Bangladesh\", \"Iraq\", \"Congo (Kinshasa)\", \"Mali\", \"Sierra Leone\", \"Sri Lanka\", \"Myanmar\", \"Chad\", \"Ukraine\", \"Ethiopia\", \"Swaziland\", \"Uganda\", \"Egypt\", \"Zambia\", \"Togo\", \"India\", \"Liberia\", \"Comoros\", \"Madagascar\", \"Lesotho\", \"Burundi\", \"Zimbabwe\", \"Haiti\", \"Botswana\", \"Syria\", \"Malawi\", \"Yemen\", \"Rwanda\", \"Tanzania\", \"Afghanistan\", \"Central African Republic\", \"South Sudan\"], \"type\": \"choropleth\", \"z\": [7.769, 7.6, 7.553999999999999, 7.494, 7.4879999999999995, 7.48, 7.343, 7.307, 7.278, 7.246, 7.228, 7.167000000000001, 7.138999999999999, 7.09, 7.053999999999999, 7.021, 6.985, 6.922999999999999, 6.892, 6.852, 6.825, 6.726, 6.595, 6.5920000000000005, 6.446000000000001, 6.444, 6.436, 6.375, 6.374, 6.354, 6.321000000000001, 6.3, 6.292999999999999, 6.2620000000000005, 6.252999999999999, 6.223, 6.199, 6.1979999999999995, 6.192, 6.182, 6.1739999999999995, 6.149, 6.125, 6.117999999999999, 6.105, 6.1, 6.086, 6.07, 6.046, 6.028, 6.021, 6.007999999999999, 5.94, 5.895, 5.893, 5.89, 5.888, 5.886, 5.86, 5.809, 5.779, 5.757999999999999, 5.742999999999999, 5.718, 5.697, 5.693, 5.653, 5.648, 5.631, 5.603, 5.529, 5.525, 5.523, 5.4670000000000005, 5.432, 5.43, 5.425, 5.386, 5.372999999999999, 5.3389999999999995, 5.3229999999999995, 5.287000000000001, 5.285, 5.274, 5.265, 5.261, 5.247000000000001, 5.211, 5.207999999999999, 5.207999999999999, 5.197, 5.192, 5.191, 5.175, 5.082, 5.044, 5.011, 4.996, 4.944, 4.913, 4.906000000000001, 4.883, 4.812, 4.7989999999999995, 4.796, 4.7219999999999995, 4.718999999999999, 4.707, 4.7, 4.696000000000001, 4.681, 4.668, 4.638999999999999, 4.628, 4.587, 4.559, 4.548, 4.534, 4.519, 4.516, 4.5089999999999995, 4.49, 4.466, 4.461, 4.456, 4.437, 4.418, 4.39, 4.374, 4.3660000000000005, 4.36, 4.35, 4.332, 4.2860000000000005, 4.212, 4.189, 4.166, 4.107, 4.085, 4.015, 3.975, 3.9730000000000003, 3.9330000000000003, 3.802, 3.775, 3.6630000000000003, 3.597, 3.488, 3.4619999999999997, 3.41, 3.38, 3.3339999999999996, 3.2310000000000003, 3.2030000000000003, 3.083, 2.853]}],\n",
       "                        {\"template\": {\"data\": {\"bar\": [{\"error_x\": {\"color\": \"#2a3f5f\"}, \"error_y\": {\"color\": \"#2a3f5f\"}, \"marker\": {\"line\": {\"color\": \"#E5ECF6\", \"width\": 0.5}}, \"type\": \"bar\"}], \"barpolar\": [{\"marker\": {\"line\": {\"color\": \"#E5ECF6\", \"width\": 0.5}}, \"type\": \"barpolar\"}], \"carpet\": [{\"aaxis\": {\"endlinecolor\": \"#2a3f5f\", \"gridcolor\": \"white\", \"linecolor\": \"white\", \"minorgridcolor\": \"white\", \"startlinecolor\": \"#2a3f5f\"}, \"baxis\": {\"endlinecolor\": \"#2a3f5f\", \"gridcolor\": \"white\", \"linecolor\": \"white\", \"minorgridcolor\": \"white\", \"startlinecolor\": \"#2a3f5f\"}, \"type\": \"carpet\"}], \"choropleth\": [{\"colorbar\": {\"outlinewidth\": 0, \"ticks\": \"\"}, \"type\": \"choropleth\"}], \"contour\": [{\"colorbar\": {\"outlinewidth\": 0, \"ticks\": \"\"}, \"colorscale\": [[0.0, \"#0d0887\"], [0.1111111111111111, \"#46039f\"], [0.2222222222222222, \"#7201a8\"], [0.3333333333333333, \"#9c179e\"], [0.4444444444444444, \"#bd3786\"], [0.5555555555555556, \"#d8576b\"], [0.6666666666666666, \"#ed7953\"], [0.7777777777777778, \"#fb9f3a\"], [0.8888888888888888, \"#fdca26\"], [1.0, \"#f0f921\"]], \"type\": \"contour\"}], \"contourcarpet\": [{\"colorbar\": {\"outlinewidth\": 0, \"ticks\": \"\"}, \"type\": \"contourcarpet\"}], \"heatmap\": [{\"colorbar\": {\"outlinewidth\": 0, \"ticks\": \"\"}, \"colorscale\": [[0.0, \"#0d0887\"], [0.1111111111111111, \"#46039f\"], [0.2222222222222222, \"#7201a8\"], [0.3333333333333333, \"#9c179e\"], [0.4444444444444444, \"#bd3786\"], [0.5555555555555556, \"#d8576b\"], [0.6666666666666666, \"#ed7953\"], [0.7777777777777778, \"#fb9f3a\"], [0.8888888888888888, \"#fdca26\"], [1.0, \"#f0f921\"]], \"type\": \"heatmap\"}], \"heatmapgl\": [{\"colorbar\": {\"outlinewidth\": 0, \"ticks\": \"\"}, \"colorscale\": [[0.0, \"#0d0887\"], [0.1111111111111111, \"#46039f\"], [0.2222222222222222, \"#7201a8\"], [0.3333333333333333, \"#9c179e\"], [0.4444444444444444, \"#bd3786\"], [0.5555555555555556, \"#d8576b\"], [0.6666666666666666, \"#ed7953\"], [0.7777777777777778, \"#fb9f3a\"], [0.8888888888888888, \"#fdca26\"], [1.0, \"#f0f921\"]], \"type\": \"heatmapgl\"}], \"histogram\": [{\"marker\": {\"colorbar\": {\"outlinewidth\": 0, \"ticks\": \"\"}}, \"type\": \"histogram\"}], \"histogram2d\": [{\"colorbar\": {\"outlinewidth\": 0, \"ticks\": \"\"}, \"colorscale\": [[0.0, \"#0d0887\"], [0.1111111111111111, \"#46039f\"], [0.2222222222222222, \"#7201a8\"], [0.3333333333333333, \"#9c179e\"], [0.4444444444444444, \"#bd3786\"], [0.5555555555555556, \"#d8576b\"], [0.6666666666666666, \"#ed7953\"], [0.7777777777777778, \"#fb9f3a\"], [0.8888888888888888, \"#fdca26\"], [1.0, \"#f0f921\"]], \"type\": \"histogram2d\"}], \"histogram2dcontour\": [{\"colorbar\": {\"outlinewidth\": 0, \"ticks\": \"\"}, \"colorscale\": [[0.0, \"#0d0887\"], [0.1111111111111111, \"#46039f\"], [0.2222222222222222, \"#7201a8\"], [0.3333333333333333, \"#9c179e\"], [0.4444444444444444, \"#bd3786\"], [0.5555555555555556, \"#d8576b\"], [0.6666666666666666, \"#ed7953\"], [0.7777777777777778, \"#fb9f3a\"], [0.8888888888888888, \"#fdca26\"], [1.0, \"#f0f921\"]], \"type\": \"histogram2dcontour\"}], \"mesh3d\": [{\"colorbar\": {\"outlinewidth\": 0, \"ticks\": \"\"}, \"type\": \"mesh3d\"}], \"parcoords\": [{\"line\": {\"colorbar\": {\"outlinewidth\": 0, \"ticks\": \"\"}}, \"type\": \"parcoords\"}], \"pie\": [{\"automargin\": true, \"type\": \"pie\"}], \"scatter\": [{\"marker\": {\"colorbar\": {\"outlinewidth\": 0, \"ticks\": \"\"}}, \"type\": \"scatter\"}], \"scatter3d\": [{\"line\": {\"colorbar\": {\"outlinewidth\": 0, \"ticks\": \"\"}}, \"marker\": {\"colorbar\": {\"outlinewidth\": 0, \"ticks\": \"\"}}, \"type\": \"scatter3d\"}], \"scattercarpet\": [{\"marker\": {\"colorbar\": {\"outlinewidth\": 0, \"ticks\": \"\"}}, \"type\": \"scattercarpet\"}], \"scattergeo\": [{\"marker\": {\"colorbar\": {\"outlinewidth\": 0, \"ticks\": \"\"}}, \"type\": \"scattergeo\"}], \"scattergl\": [{\"marker\": {\"colorbar\": {\"outlinewidth\": 0, \"ticks\": \"\"}}, \"type\": \"scattergl\"}], \"scattermapbox\": [{\"marker\": {\"colorbar\": {\"outlinewidth\": 0, \"ticks\": \"\"}}, \"type\": \"scattermapbox\"}], \"scatterpolar\": [{\"marker\": {\"colorbar\": {\"outlinewidth\": 0, \"ticks\": \"\"}}, \"type\": \"scatterpolar\"}], \"scatterpolargl\": [{\"marker\": {\"colorbar\": {\"outlinewidth\": 0, \"ticks\": \"\"}}, \"type\": \"scatterpolargl\"}], \"scatterternary\": [{\"marker\": {\"colorbar\": {\"outlinewidth\": 0, \"ticks\": \"\"}}, \"type\": \"scatterternary\"}], \"surface\": [{\"colorbar\": {\"outlinewidth\": 0, \"ticks\": \"\"}, \"colorscale\": [[0.0, \"#0d0887\"], [0.1111111111111111, \"#46039f\"], [0.2222222222222222, \"#7201a8\"], [0.3333333333333333, \"#9c179e\"], [0.4444444444444444, \"#bd3786\"], [0.5555555555555556, \"#d8576b\"], [0.6666666666666666, \"#ed7953\"], [0.7777777777777778, \"#fb9f3a\"], [0.8888888888888888, \"#fdca26\"], [1.0, \"#f0f921\"]], \"type\": \"surface\"}], \"table\": [{\"cells\": {\"fill\": {\"color\": \"#EBF0F8\"}, \"line\": {\"color\": \"white\"}}, \"header\": {\"fill\": {\"color\": \"#C8D4E3\"}, \"line\": {\"color\": \"white\"}}, \"type\": \"table\"}]}, \"layout\": {\"annotationdefaults\": {\"arrowcolor\": \"#2a3f5f\", \"arrowhead\": 0, \"arrowwidth\": 1}, \"coloraxis\": {\"colorbar\": {\"outlinewidth\": 0, \"ticks\": \"\"}}, \"colorscale\": {\"diverging\": [[0, \"#8e0152\"], [0.1, \"#c51b7d\"], [0.2, \"#de77ae\"], [0.3, \"#f1b6da\"], [0.4, \"#fde0ef\"], [0.5, \"#f7f7f7\"], [0.6, \"#e6f5d0\"], [0.7, \"#b8e186\"], [0.8, \"#7fbc41\"], [0.9, \"#4d9221\"], [1, \"#276419\"]], \"sequential\": [[0.0, \"#0d0887\"], [0.1111111111111111, \"#46039f\"], [0.2222222222222222, \"#7201a8\"], [0.3333333333333333, \"#9c179e\"], [0.4444444444444444, \"#bd3786\"], [0.5555555555555556, \"#d8576b\"], [0.6666666666666666, \"#ed7953\"], [0.7777777777777778, \"#fb9f3a\"], [0.8888888888888888, \"#fdca26\"], [1.0, \"#f0f921\"]], \"sequentialminus\": [[0.0, \"#0d0887\"], [0.1111111111111111, \"#46039f\"], [0.2222222222222222, \"#7201a8\"], [0.3333333333333333, \"#9c179e\"], [0.4444444444444444, \"#bd3786\"], [0.5555555555555556, \"#d8576b\"], [0.6666666666666666, \"#ed7953\"], [0.7777777777777778, \"#fb9f3a\"], [0.8888888888888888, \"#fdca26\"], [1.0, \"#f0f921\"]]}, \"colorway\": [\"#636efa\", \"#EF553B\", \"#00cc96\", \"#ab63fa\", \"#FFA15A\", \"#19d3f3\", \"#FF6692\", \"#B6E880\", \"#FF97FF\", \"#FECB52\"], \"font\": {\"color\": \"#2a3f5f\"}, \"geo\": {\"bgcolor\": \"white\", \"lakecolor\": \"white\", \"landcolor\": \"#E5ECF6\", \"showlakes\": true, \"showland\": true, \"subunitcolor\": \"white\"}, \"hoverlabel\": {\"align\": \"left\"}, \"hovermode\": \"closest\", \"mapbox\": {\"style\": \"light\"}, \"paper_bgcolor\": \"white\", \"plot_bgcolor\": \"#E5ECF6\", \"polar\": {\"angularaxis\": {\"gridcolor\": \"white\", \"linecolor\": \"white\", \"ticks\": \"\"}, \"bgcolor\": \"#E5ECF6\", \"radialaxis\": {\"gridcolor\": \"white\", \"linecolor\": \"white\", \"ticks\": \"\"}}, \"scene\": {\"xaxis\": {\"backgroundcolor\": \"#E5ECF6\", \"gridcolor\": \"white\", \"gridwidth\": 2, \"linecolor\": \"white\", \"showbackground\": true, \"ticks\": \"\", \"zerolinecolor\": \"white\"}, \"yaxis\": {\"backgroundcolor\": \"#E5ECF6\", \"gridcolor\": \"white\", \"gridwidth\": 2, \"linecolor\": \"white\", \"showbackground\": true, \"ticks\": \"\", \"zerolinecolor\": \"white\"}, \"zaxis\": {\"backgroundcolor\": \"#E5ECF6\", \"gridcolor\": \"white\", \"gridwidth\": 2, \"linecolor\": \"white\", \"showbackground\": true, \"ticks\": \"\", \"zerolinecolor\": \"white\"}}, \"shapedefaults\": {\"line\": {\"color\": \"#2a3f5f\"}}, \"ternary\": {\"aaxis\": {\"gridcolor\": \"white\", \"linecolor\": \"white\", \"ticks\": \"\"}, \"baxis\": {\"gridcolor\": \"white\", \"linecolor\": \"white\", \"ticks\": \"\"}, \"bgcolor\": \"#E5ECF6\", \"caxis\": {\"gridcolor\": \"white\", \"linecolor\": \"white\", \"ticks\": \"\"}}, \"title\": {\"x\": 0.05}, \"xaxis\": {\"automargin\": true, \"gridcolor\": \"white\", \"linecolor\": \"white\", \"ticks\": \"\", \"title\": {\"standoff\": 15}, \"zerolinecolor\": \"white\", \"zerolinewidth\": 2}, \"yaxis\": {\"automargin\": true, \"gridcolor\": \"white\", \"linecolor\": \"white\", \"ticks\": \"\", \"title\": {\"standoff\": 15}, \"zerolinecolor\": \"white\", \"zerolinewidth\": 2}}}, \"title\": {\"text\": \"Happiness Index 2019\"}},\n",
       "                        {\"responsive\": true}\n",
       "                    ).then(function(){\n",
       "                            \n",
       "var gd = document.getElementById('6e4318b8-a1a6-406a-8b86-b9c9228e891f');\n",
       "var x = new MutationObserver(function (mutations, observer) {{\n",
       "        var display = window.getComputedStyle(gd).display;\n",
       "        if (!display || display === 'none') {{\n",
       "            console.log([gd, 'removed!']);\n",
       "            Plotly.purge(gd);\n",
       "            observer.disconnect();\n",
       "        }}\n",
       "}});\n",
       "\n",
       "// Listen for the removal of the full notebook cells\n",
       "var notebookContainer = gd.closest('#notebook-container');\n",
       "if (notebookContainer) {{\n",
       "    x.observe(notebookContainer, {childList: true});\n",
       "}}\n",
       "\n",
       "// Listen for the clearing of the current output cell\n",
       "var outputEl = gd.closest('.output');\n",
       "if (outputEl) {{\n",
       "    x.observe(outputEl, {childList: true});\n",
       "}}\n",
       "\n",
       "                        })\n",
       "                };\n",
       "                });\n",
       "            </script>\n",
       "        </div>"
      ]
     },
     "metadata": {},
     "output_type": "display_data"
    }
   ],
   "source": [
    "#Ref: https://plot.ly/python/choropleth-maps/\n",
    "data1 = dict(type = 'choropleth', \n",
    "           locations = df['Country_or_region'],\n",
    "           locationmode = 'country names',\n",
    "             colorscale = 'Blues',\n",
    "           z = df['Score'], \n",
    "           text = df['Country_or_region'],\n",
    "           colorbar = {'title':'Happiness'}) \n",
    "layout1 = dict(title = 'Happiness Index 2019')\n",
    "choromap1 = go.Figure(data = data1 , layout = layout1)\n",
    "iplot(choromap1)"
   ]
  },
  {
   "cell_type": "markdown",
   "metadata": {},
   "source": [
    "## Correlation \n",
    "Now lets take a look at how the variables correlate with each other using the correlation matrix."
   ]
  },
  {
   "cell_type": "code",
   "execution_count": 7,
   "metadata": {},
   "outputs": [
    {
     "data": {
      "text/plain": [
       "[Text(0.5, 0, 'Score'),\n",
       " Text(1.5, 0, 'GDP_per_capita'),\n",
       " Text(2.5, 0, 'Social_support'),\n",
       " Text(3.5, 0, 'Healthy_life_expectancy'),\n",
       " Text(4.5, 0, 'Freedom_to_make_life_choices'),\n",
       " Text(5.5, 0, 'Generosity'),\n",
       " Text(6.5, 0, 'Perceptions_of_corruption')]"
      ]
     },
     "execution_count": 7,
     "metadata": {},
     "output_type": "execute_result"
    },
    {
     "data": {
      "image/png": "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\n",
      "text/plain": [
       "<Figure size 432x288 with 2 Axes>"
      ]
     },
     "metadata": {
      "needs_background": "light"
     },
     "output_type": "display_data"
    }
   ],
   "source": [
    "#correlation matrix\n",
    "\n",
    "X = df[['Score','GDP_per_capita','Social_support','Healthy_life_expectancy','Freedom_to_make_life_choices', 'Generosity','Perceptions_of_corruption']] #Subsetting the data\n",
    "Y = X #Subsetting for future use\n",
    "\n",
    "cor = X.corr() #Calculate the correlation of the above variables\n",
    "cm=sns.heatmap(cor, cmap = 'Blues', square = True, annot = True) #Plot the correlation as heat map\n",
    "cm.set_xticklabels(cm.get_xticklabels(),\n",
    "        rotation=45,\n",
    "    horizontalalignment='right')"
   ]
  },
  {
   "cell_type": "markdown",
   "metadata": {},
   "source": [
    "The color palette on the side represents the amount of correlation among the variables. Darker the shade, stronger the correlation. We can see that happiness score is highly correlated with GDP per capita, Social Support and Healthy life expectancy. It is least correlated with Generosity."
   ]
  },
  {
   "cell_type": "markdown",
   "metadata": {},
   "source": [
    "## Clustering"
   ]
  },
  {
   "cell_type": "markdown",
   "metadata": {},
   "source": [
    "Clustering is the process of grouping together a set of objects in a way that objects in the same cluster are more similar to each other than to objects in other clusters. Clustering algorithms fall under the category of Unsupervised Learning Algorithms. \n",
    "\n",
    "Prior to clustering or applying any algorithm to data it is a good practice to scale and normalize the data. It helps handling disparities in units and during long processes it definitely helps speed up computation."
   ]
  },
  {
   "cell_type": "code",
   "execution_count": 8,
   "metadata": {},
   "outputs": [
    {
     "data": {
      "text/plain": [
       "array([[0.9550195 , 0.16472212, 0.19508508, ..., 0.07326446, 0.01880782,\n",
       "        0.04831029],\n",
       "       [0.95207674, 0.17325291, 0.19705483, ..., 0.07416177, 0.03156886,\n",
       "        0.05136203],\n",
       "       [0.94878312, 0.18689294, 0.19869935, ..., 0.07573686, 0.03403763,\n",
       "        0.04282963],\n",
       "       ...,\n",
       "       [0.97442048, 0.10647742, 0.15728236, ..., 0.        , 0.04806695,\n",
       "        0.00760553],\n",
       "       [0.9938098 , 0.00838114, 0.        , ..., 0.0725291 , 0.07575261,\n",
       "        0.0112823 ],\n",
       "       [0.96725314, 0.10374324, 0.19494236, ..., 0.0033903 , 0.0684841 ,\n",
       "        0.03085175]])"
      ]
     },
     "execution_count": 8,
     "metadata": {},
     "output_type": "execute_result"
    }
   ],
   "source": [
    "a = StandardScaler() \n",
    "a.fit_transform(X)\n",
    "normalize(X)"
   ]
  },
  {
   "cell_type": "markdown",
   "metadata": {},
   "source": [
    "## K-means Clustering"
   ]
  },
  {
   "cell_type": "markdown",
   "metadata": {},
   "source": [
    "K-means clustering is a clustering algorithm that aims to partition n observations into k clusters.\n",
    "\n",
    "There are 3 steps:\n",
    "\n",
    "1. K initial “means” (centroids) are generated at random\n",
    "2. K clusters are created by associating each observation with the nearest centroid\n",
    "3. Determine the new cluster center by computing the average of the assigned points\n",
    "\n",
    "Steps 2 and 3 are repeated until none of the cluster assignments change."
   ]
  },
  {
   "cell_type": "markdown",
   "metadata": {},
   "source": [
    "## Choosing the right number of clusters (Elbow Method)"
   ]
  },
  {
   "cell_type": "markdown",
   "metadata": {},
   "source": [
    "If the line chart resembles an arm, then the “elbow” (the point of inflection on the curve) is a good indication that the underlying model fits best at that point. We graph the relationship between the number of clusters and Within Cluster Sum of Squares (WCSS). Then we select the number of clusters where the change in WCSS begins to level off."
   ]
  },
  {
   "cell_type": "code",
   "execution_count": 9,
   "metadata": {
    "scrolled": true
   },
   "outputs": [
    {
     "data": {
      "image/png": "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\n",
      "text/plain": [
       "<Figure size 432x288 with 1 Axes>"
      ]
     },
     "metadata": {
      "needs_background": "light"
     },
     "output_type": "display_data"
    }
   ],
   "source": [
    "#Kmeans Clustering\n",
    "#Elbow method to find the ideal number of clusters or k \n",
    "\n",
    "wcss = []\n",
    "for i in range(1, 11):\n",
    "    kmeans = KMeans(n_clusters=i, init='k-means++', max_iter=156, n_init=10, random_state=0)\n",
    "    kmeans.fit(X)\n",
    "    wcss.append(kmeans.inertia_)\n",
    "plt.plot(range(1, 11), wcss)\n",
    "plt.title('Elbow Method')\n",
    "plt.xlabel('Number of clusters')\n",
    "plt.ylabel('WCSS')\n",
    "plt.show()\n",
    "#Choose 2 as the ideal number of clusters as it is the elbow or when the angle begins to appear"
   ]
  },
  {
   "cell_type": "markdown",
   "metadata": {},
   "source": [
    "The graph exhibits an angle at the point '2'. Hence we will choose the number 2 as the number of clusters. "
   ]
  },
  {
   "cell_type": "code",
   "execution_count": 10,
   "metadata": {
    "scrolled": false
   },
   "outputs": [
    {
     "name": "stdout",
     "output_type": "stream",
     "text": [
      "[0 0 0 0 0 0 0 0 0 0 0 0 0 0 0 0 0 0 0 0 0 0 0 0 0 0 0 0 0 0 0 0 0 0 0 0 0\n",
      " 0 0 0 0 0 0 0 0 0 0 0 0 0 0 0 0 0 0 0 0 0 0 0 0 0 0 0 0 0 0 0 0 0 0 0 0 1\n",
      " 0 0 0 0 0 0 0 0 0 0 1 1 0 1 1 1 1 1 1 1 1 1 1 1 1 1 1 1 1 1 1 1 1 1 1 1 1\n",
      " 1 1 1 1 1 1 1 1 1 1 1 1 1 1 1 1 1 1 1 1 1 1 1 1 1 1 1 1 1 1 1 1 1 1 1 1 1\n",
      " 1 1 1 1 1 1 1 1]\n"
     ]
    }
   ],
   "source": [
    "kmeansc = KMeans(n_clusters=2)\n",
    "y_kmeansc = kmeansc.fit_predict(X)\n",
    "print(y_kmeansc) #the grouped data that has been grouped by kmeans algorithm\n",
    "\n",
    "centroids = kmeansc.cluster_centers_ #getting the value of the means or centroids\n",
    "\n",
    "kmeans_clustering = pd.DataFrame(y_kmeansc)\n",
    "Y.insert((Y.shape[1]),'kmeans',kmeans_clustering) #inserting the kmeans groups data values into Y"
   ]
  },
  {
   "cell_type": "code",
   "execution_count": 11,
   "metadata": {
    "scrolled": true
   },
   "outputs": [
    {
     "data": {
      "text/plain": [
       "<matplotlib.collections.PathCollection at 0x1eee9efe448>"
      ]
     },
     "execution_count": 11,
     "metadata": {},
     "output_type": "execute_result"
    },
    {
     "data": {
      "image/png": "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\n",
      "text/plain": [
       "<Figure size 432x288 with 1 Axes>"
      ]
     },
     "metadata": {
      "needs_background": "light"
     },
     "output_type": "display_data"
    }
   ],
   "source": [
    "#Plotting the Clusters\n",
    "plt.scatter(X.iloc[:, 0], X.iloc[:, 1], c=y_kmeansc, cmap = 'winter') \n",
    "plt.scatter(centroids[:, 0], centroids[:, 1], c='black', s=50) "
   ]
  },
  {
   "cell_type": "markdown",
   "metadata": {},
   "source": [
    "## Agglomerative Hieracrchial clustering\n"
   ]
  },
  {
   "cell_type": "markdown",
   "metadata": {},
   "source": [
    "Agglomerative clustering is the most common type of hierarchical clustering used to group objects in clusters based on their similarity. It’s also known as AGNES (Agglomerative Nesting). \n",
    "\n",
    "Agglomerative clustering works in a “bottom-up” manner. That is, each object is initially considered as a single-element cluster (leaf). At each step of the algorithm, the two clusters that are the most similar are combined into a new bigger cluster (nodes). Pairs of clusters are successively merged until all clusters have been merged into one big cluster containing all objects. The result is a tree-based representation of the objects, named dendrogram."
   ]
  },
  {
   "cell_type": "code",
   "execution_count": 12,
   "metadata": {
    "scrolled": true
   },
   "outputs": [
    {
     "data": {
      "image/png": "iVBORw0KGgoAAAANSUhEUgAAAXwAAAD4CAYAAADvsV2wAAAABHNCSVQICAgIfAhkiAAAAAlwSFlzAAALEgAACxIB0t1+/AAAADh0RVh0U29mdHdhcmUAbWF0cGxvdGxpYiB2ZXJzaW9uMy4xLjEsIGh0dHA6Ly9tYXRwbG90bGliLm9yZy8QZhcZAAAgAElEQVR4nO3deZxcZZ3v8c/PsGmChKVJwhIDCogKaSQGEGfSqCAigguj0HMd9OoNesVlXjqIOorLzB2XGcerzIg9iMGlo1cBZQSBDJhEZE24DQkSw2KQmJAEIjEhCAZ+88fvOfTpk1PV1VXV6UrO9/169auqTp3lOdv3ec5Tp6rN3RERkR3fc8a6ACIism0o8EVEKkKBLyJSEQp8EZGKUOCLiFSEAl9EpCJ2GusClNlnn3182rRpY10MEZHtxuLFix9x965643Rk4E+bNo1FixaNdTFERLYbZvbgcOOoS0dEpCKGDXwzO9DMfmFm95jZ3Wb2oTR8LzObZ2b3psc9a0x/dhrnXjM7u90rICIijWmkhb8F+Ii7Hw4cC7zfzF4CnA9c7+6HANen10OY2V7ABcAxwEzggloVg4iIjK5hA9/dV7v7Hen5RuAeYH/gdODSNNqlwJtKJn8dMM/d17v7H4B5wMntKLiIiIzMiPrwzWwacBRwKzDJ3VdDVArAviWT7A88lHu9Mg0TEZFtrOHAN7MJwGXAh939j41OVjKs9Oc5zWy2mS0ys0Xr1q1rtFgiItKghgLfzHYmwv777n55GrzGzKak96cAa0smXQkcmHt9ALCqbBnu3ufuM9x9RldX3VtJRUSkCcPeh29mBnwLuMfdv5J760rgbOAL6fGnJZNfC/yf3Ae1JwEfb6nEO4C+PujvH+tSSJX09sLs2WNdChlrjbTwjwfeAbzazAbS3ylE0J9oZvcCJ6bXmNkMM7sYwN3XA58Hbk9/n0vDKq2/HwYGxroUUhUDA2pgSBi2he/uN1LeFw/wmpLxFwHvyb2+BLik2QLuqLq7Yf78sS6FVEFPz1iXQDqFvmkrIlIRCnwRkYpQ4IuIVIQCX0SkIhT4IiIVocAXEakIBb6ISEUo8EVEKkKBLyJSEQp8EZGKUOCLiFSEAl9EpCIU+CIiFaHAFxGpCAW+iEhFKPBFRCpCgS8iUhGN/E/bS4BTgbXu/rI07IfAYWmUicBj7t5dMu0KYCPwNLDF3We0qdwiIjJCwwY+MAe4EPhONsDd3549N7N/ATbUmf4Ed3+k2QKKiEh7NPI/bRea2bSy98zMgLcBr25vsUREpN1a7cP/C2CNu99b430HrjOzxWY2u8VliYhICxrp0qnnLGBunfePd/dVZrYvMM/Mlrn7wrIRU4UwG2Dq1KktFktERIqabuGb2U7AW4Af1hrH3Velx7XAFcDMOuP2ufsMd5/R1dXVbLFERKSGVrp0Xgssc/eVZW+a2Xgz2z17DpwELG1heSIi0oJhA9/M5gI3A4eZ2Uoze3d660wK3Tlmtp+ZXZ1eTgJuNLM7gduAq9z9mvYVXURERqKRu3TOqjH8nSXDVgGnpOcPANNbLJ+IiLSJvmkrIlIRCnwRkYpQ4IuIVIQCX0SkIhT4IiIVocAXEakIBb6ISEUo8EVEKkKBLyJSEQp8EZGKUOCLiFSEAl9EpCIU+CIiFaHAFxGpCAW+iEhFKPBFRCpCgS8iUhEKfBGRimjkf9peYmZrzWxpbthnzOz3ZjaQ/k6pMe3JZvYbM7vPzM5vZ8FFRGRkGmnhzwFOLhn+r+7enf6uLr5pZuOAfwNeD7wEOMvMXtJKYUVEpHnDBr67LwTWNzHvmcB97v6Auz8F/AA4vYn5iIhIG7TSh3+umd2Vunz2LHl/f+Ch3OuVaVgpM5ttZovMbNG6detaKJaIiJRpNvC/AbwQ6AZWA/9SMo6VDPNaM3T3Pnef4e4zurq6miyWiIjU0lTgu/sad3/a3Z8B/oPovilaCRyYe30AsKqZ5YmISOuaCnwzm5J7+WZgaclotwOHmNlBZrYLcCZwZTPLExGR1u003AhmNhfoAfYxs5XABUCPmXUTXTQrgHPSuPsBF7v7Ke6+xczOBa4FxgGXuPvdo7IWIiIyrGED393PKhn8rRrjrgJOyb2+Gtjqlk0REdn29E1bEZGKUOCLiFSEAl9EpCIU+CIiFaHAFxGpCAW+iEhFKPBFRCpCgS8iUhEKfBGRilDgi4hUhAJfRKQiFPgiIhWhwBcRqQgFvohIRSjwRUQqQoEvIlIRCnwRkYoYNvDN7BIzW2tmS3PDvmxmy8zsLjO7wswm1ph2hZktMbMBM1vUzoKLiMjINNLCnwOcXBg2D3iZux8JLAc+Xmf6E9y9291nNFdEERFph2ED390XAusLw65z9y3p5S3AAaNQNhERaaN29OH/T+DnNd5z4DozW2xms9uwLBERadJOrUxsZp8EtgDfrzHK8e6+ysz2BeaZ2bJ0xVA2r9nAbICpU6e2UiwRESnRdAvfzM4GTgX+2t29bBx3X5Ue1wJXADNrzc/d+9x9hrvP6OrqarZYIiJSQ1OBb2YnAx8DTnP3zTXGGW9mu2fPgZOApWXjiojI6Gvktsy5wM3AYWa20szeDVwI7E500wyY2UVp3P3M7Oo06STgRjO7E7gNuMrdrxmVtRARkWEN24fv7meVDP5WjXFXAaek5w8A01sqnYiItI2+aSsiUhEKfBGRilDgi4hUhAJfRKQiFPgiIhWhwBcRqQgFvohIRSjwRUQqQoEvIlIRCnwRkYpQ4IuIVIQCX0SkIhT4IiIVocAXEakIBb6ISEUo8EVEKkKBLyJSEQ0FvpldYmZrzWxpbtheZjbPzO5Nj3vWmPbsNM696R+fi4jIGGi0hT8HOLkw7Hzgenc/BLg+vR7CzPYCLgCOAWYCF9SqGEREZHQ1FPjuvhBYXxh8OnBpen4p8KaSSV8HzHP39e7+B2AeW1ccIiKyDbTShz/J3VcDpMd9S8bZH3go93plGiYiItvYaH9oayXDvHREs9lmtsjMFq1bt26UiyUiUj2tBP4aM5sCkB7XloyzEjgw9/oAYFXZzNy9z91nuPuMrq6uFoolIiJlWgn8K4HsrpuzgZ+WjHMtcJKZ7Zk+rD0pDRMRkW2s0dsy5wI3A4eZ2UozezfwBeBEM7sXODG9xsxmmNnFAO6+Hvg8cHv6+1waJiIi29hOjYzk7mfVeOs1JeMuAt6Te30JcElTpRMRkbbRN21FRCpCgS8iUhEKfBGRilDgi4hUhAJfRKQiFPgiIhWhwBcRqQgFvohIRSjwRUQqQoEvIlIRCnwRkYpQ4IuIVIQCX0SkIhT4IiIVocAXEakIBb6ISEUo8EVEKkKBLyJSEQ39i8MyZnYY8MPcoIOBT7v7V3Pj9BD/3Py3adDl7v65Zpcpsl3o64P+/rEuxaCBdEr2fHhsy1HU2wuzZ491KSql6cB3998A3QBmNg74PXBFyai/dPdTm12OyHanvx8GBqC7e6xLAsD87g4LeojtAwr8bazpwC94DXC/uz/YpvmJbN+6u2H+/LEuRefq6RnrElRSu/rwzwTm1njvODO708x+bmYvrTUDM5ttZovMbNG6devaVCwREcm0HPhmtgtwGvCjkrfvAF7g7tOBrwM/qTUfd+9z9xnuPqOrq6vVYomISEE7WvivB+5w9zXFN9z9j+6+KT2/GtjZzPZpwzJFRGSE2hH4Z1GjO8fMJpuZpecz0/IebcMyRURkhFr60NbMngecCJyTG/ZeAHe/CDgDeJ+ZbQGeAM50d29lmSIi0pyWAt/dNwN7F4ZdlHt+IXBhK8sQEZH20DdtRUQqQoEvIlIRCnwRkYpQ4IuIVIQCX0SkItr1WzodpW9xH/1LOujXCgsGHo5fL+yZ04E/apX0HtHL7KP1w1YiO5IdMvD7l/Qz8PAA3ZM749cKi7rP79ygBxh4OH7JUIEvsmPZIQMfoHtyN/PfOX+si7Fd6pnTM9ZFEJFRoD58EZGKUOCLiFSEAl9EpCIU+CIiFaHAFxGpCAW+iEhFKPBFRCpCgS8iUhEKfBGRimg58M1shZktMbMBM1tU8r6Z2dfM7D4zu8vMXt7qMkVEZOTa9dMKJ7j7IzXeez1wSPo7BvhGehQRkW1oW3TpnA58x8MtwEQzm7INlisiIjntCHwHrjOzxWZW9vOK+wMP5V6vTMNERGQbakeXzvHuvsrM9gXmmdkyd1+Ye99KpvHigFRZzAaYOnVqG4olIiJ5Lbfw3X1VelwLXAHMLIyyEjgw9/oAYFXJfPrcfYa7z+jq6mq1WCIiUtBS4JvZeDPbPXsOnAQsLYx2JfA36W6dY4EN7r66leWKiMjItdqlMwm4wsyyefW7+zVm9l4Ad78IuBo4BbgP2Ay8q8VliohIE1oKfHd/AJheMvyi3HMH3t/KckREpHX6pq2ISEUo8EVEKkKBLyJSEQp8EZGKUOCLiFSEAl9EpCIU+CIiFaHAFxGpCAW+iEhFKPBFRCpCgS8iUhEKfBGRilDgi4hUhAJfRKQi2vEvDmUb6VvcR/+S/lFfzsDDAwD0zOkZ1eX0HtHL7KPL/g2yjKq+Pugf/eOoroE4xujpGdNi0NsLs6tzDKqFvx3pX9L/bBiPpu7J3XRP7h7VZQw8PLBNKi8p0d8/GLhjpbs7/sbSwMDYV3zbmFr425nuyd3Mf+f8sS5Gy0b76kGG0d0N8+ePdSnG1lhfXYyBplv4Znagmf3CzO4xs7vN7EMl4/SY2QYzG0h/n26tuCIi0qxWWvhbgI+4+x3pH5kvNrN57v7rwni/dPdTW1iOiIi0QdMtfHdf7e53pOcbgXuA/dtVMBERaa+29OGb2TTgKODWkrePM7M7gVXAR9397maWMZI7VEZyl4nuFBGRqmj5Lh0zmwBcBnzY3f9YePsO4AXuPh34OvCTOvOZbWaLzGzRunXrtnp/JHeoNHqXie4UEZEqaamFb2Y7E2H/fXe/vPh+vgJw96vN7N/NbB93f6Rk3D6gD2DGjBletrx236GiO0XaZ6TfEWj2Xn9dkYk0r+nANzMDvgXc4+5fqTHOZGCNu7uZzSSuKB5tdpnSubIrsEbv32/mPv+sklDgV9BofFlsNL781eFf5GqlhX888A5giZllfS2fAKYCuPtFwBnA+8xsC/AEcKa7l7beZfs32t8R0BVZhWVfFmvnl7Xa/cWvrALZEQPf3W8EbJhxLgQubHYZIiLP6vQvi20HX+TSN21F6mmmK6GZroIO7wqQHYN+S0eknmZ+d2akvxNTwd90kbGhFn4HaPQOF32/YIyMdlfCdtAVIDsGBX4HaPQOl0bvbNHdLCJNaPVOoHbd9TOK3XsK/A7RzjtcdDeLSBNavROoHXf9jPKdPjt84NfrLmmki0RdIyIVMtZ3Ao1y994OH/j1ukuG6yLp1K6R4fr8t+eKrJUKulPXSaRT7PCBD413l5SFzcDDA0MCphNCZbg+/+21IoPmK+hOXieRTlGJwG9UMWyKAdNJodJKn3+n9/E3s26dvk7SgHofmg73gai+x9CQjg38Ymu77HJ+NFrb9cJGoSIyiup9aFrvA9Ht4CcNOkXHBn5Za3v1xtXPBv+GJzc8+/PGndDNUk+rfe6dtH611qXeOnRS+Xd4jdxa2Ojtg2PRam7mQ1N9j6FhHRv4sHVru2dOD2seXzOkq6VWN0sWTPkgGqvgaaXPvZO6kaD2utRah9Eof63PWmDrCqfjKpuyQK4VwM0EbiO3FjZy+6BazTukjg78MlklkD/p8x+sZid4MZhaCZ52VB7N9rm32o3UaDiOZH1Gsi6j0Q1WVumUVTgN7/Nt2XdcFshlAdxK4A7XSm70C0YDA515FZDJ1qO4j7aX/vyRVP7QlvXa7gI/U3bSF0/wfDC1EjztrDy2tVrhWKt7LLMtW8bFyhvYqgIvaqTSaXifb+u+40a6LUazm2JHuQooW4+RlKkYuNu64hiu8l+9GtasiecbNgz9zaUmy7bdBj6Ud/kUFVvnfYv7hgRIo2HTPbmb3iN6t7qqGM1g7FvcN6TcQFNXGmXhWNY9limr0MqucqA8kGtt01plzVdKjXTX1TLcB/11t1WjfcdlIbG9tSyh+fUtqncV0Oj2aKWlXlyPkVSU+cBdvXpw+MDA1gHbaHlGqt5+6OmJwC9Wvi1UtB0Z+Os2r+O+h+8DGg+1snCEoWGStWLz8xpJ2DTa0i8LnqeefoqJX5j47LD8suoFYfF5O680ihVBMajzlWMjV1T5sua36eqNq1nw4IK6H7LXqpRGot5ttW27KsuHxEhalmWhVgyQfLg2E359fYPT9fUNjj9cS7be/Bu9+sm3RmFkLdJi8BYDd7h1b2W7ZYFbDNdsfbL5lVUAjcy/VVn52tTQ6MifR17/xHoAJo2fxIIHF3DevPOGhHgW7lkoQXk4ZrIwyQdA3+I+eub0DPnH6L1H9DL/nfPpPaIXYMj8i/Mqzi+v+A/Xuyd3s8u4Xdj01Katxh3uH6kXK6Js+fky9szp2aqc+fUrrkd+++WnLQZmre2YLbve8vPbacruU9hj1z2GVLr15Mt+2+9vY+IXJj67jFplz1f42X4ctqx9fXHSDAwMnkB9fQwrOwnzf8N1geRDbdIkWLAAzjtv6PLyFUI23sDA4Lg9PfXLmA+E4vP8Tzzn512cf1/Jtsn09m693tnflCmD8+7uhlmzystfq+zZNs3mc+ih8djItPn1mzQpHhtdbrEMvel4WbMmQn7SpMH1yVdI2fw//GGYODH+sv1Ta3nZNs3+8sfdcGUsHhvZ8TbCn9buyBY+DLbO1jwerYZagZ5vsde726V4BVCvtV6v8ihOD+VXIWUfLk/YZQJfOvFLz46XlSkLtawsjVzRZPPMKsVi6zkr36Txk1i+fjnnzTtvq/XLT5svd+8RvUMqinot+OK2K27nYpdYWUVdHL94VbbpqU1DylhW9lrHRH5e+SsNgNnZSTRpUpzgCxY03qociXzLu7c35p+1hvv7hy4nf4mftTpnzWq85ZuveIpXFfnxy7oL8lcpZdvmxhsjQLNpissv615ZsybCeyTbN5v/SKYta6lnrfSR7Nd8xTwwEBVQ2TrlA3fTJpgwYXB52T7KtmXZvLMyF/drcRoYPH6eempw+qxiyiqNRio0Wgx8MzsZ+L/AOOBid/9C4f1dge8ARxP/vPzt7r5iJMto9ucDispCPB/KxSCqN/+RBF4jwZu1/ldvXM3y9cu3Crda8pVirfDO3s/KXawcR1KhZuuUb0ln659tu3rT1uuiKna3ZfumrFunVtmL+6xY1v4l/UO3BTQXLs8uoEZXQnGaspZ38Yqg2B2Tn2e+kiiWEYbvKpk0CZYvj7DOj58P6Gz5+fDIb5s99ohgy0InH1D11j8/j1mzho47e3b5emfq7ZsytSrWrMJsZJtly+3tHdoCzwdsNv/s9YQJ8KUvDV1edvzku9XKQju/X8v2EQweM7vsEvugbP0bbOU3HfhmNg74N+BEYCVwu5ld6e6/zo32buAP7v4iMzsT+CLw9maX2ap6XTBlz4ebV1llUatigfrBmykL4EbKUm/aepXXSCvUetuqVvDWm2+tln8jhqv06+2LrWdWCKYsIG67bbBVm53kECfweedF8B166NCWcNk0jXT5lD3Pvy4GYBYQWcU03Hrl51UM6HrLL/vQMB9qmayrqiyQ8gGXzaPYL10rtIr7plY3Rq2KNd/yz79Xq6IpTt9IwObHL6ss6oV22T6qd+XWyPAaWmnhzwTuc/cHAMzsB8DpQD7wTwc+k57/GLjQzMzdvYXljoqRXjFk+pf0s+HJDc8+rzevRpbRbDlanbaV5bS63LJt2C4jLls+IJYvjxN0w4YIsrz+/hgOg/3Oy5cPBlLZNI0su97r4vDly+N5I8vJzysr+6xZQ6dtNDzy26isTBs21A7kBQsGl1vramckyy0bp5H38vuvXkVTaz3rLa/Z7duO39MfhjWbvWZ2BnCyu78nvX4HcIy7n5sbZ2kaZ2V6fX8a55GS+c0GsmrtMOA3TRVMRKSaXuDuXfVGaKWFbyXDirVHI+PEQPc+oPHreRERGZFWbstcCRyYe30AsKrWOGa2E7AHsL6FZYqISJNaCfzbgUPM7CAz2wU4E7iyMM6VwNnp+RnADZ3Yfy8iUgVNd+m4+xYzOxe4lrgt8xJ3v9vMPgcscvcrgW8B3zWz+4iW/ZntKLSIiIxc0x/aiojI9qUjf1pBRETaT4EvIlIRCnwRkYrouB9PM7OJwNPuvrHkvQnuvvVPTsZ7exMfDO8ObHR3T/PC3R8rWcZWw3PvPx/YCIx3901mNoHYVqXlKps2uxspV67xtcpeUrZnl5P/ZnLZ+heXlxtuwHRgC3F7LO7+WH7+ZnY4sAx4GfBYWmdy405I619cp4m5RY14X+XG2dnd/2xm49398VyZAe4E9gKecPfNxfUFXg4sB3YBnq5VjhrLfT8wPs3jj8AS4In0fDowIY26ErgJOArYD7iH+E0ogM8B/x+4DXhFGrYbcEea/kl3/3Ij5ZHmZOdWrTv/cufts+d6rfOz2bsHi1lSL786QUd9aGtmnyd20OHAr4AuoBv4HfB84AhgDfEt3CnA0jTsp8TtnxOIAHiMOBnvAE4D9iZ+8mEK8V2Ax4hbRl8IfBX4aFrOH4B9iAB5HrAvcC/wIuD3qVy3Ej8XcRpRuTw/zXf/NN3lwMFEGM0gQms34tvDdwAfz037EmAi8Exar/VEoMwAFgPz07h/Bg4ivrS2F7AAODJNew/wAuAQYAXwD8DdwGfTuAel4dcC/wO4BXgbEajdaXnL0jpsTGXZjbjz6jBgNdCftlEfEXx3AG9O67532j9fJMLyhWmZ04CHgGuIH8+7Dnhvmu+f0r69DTgUeDLN6660DXZJw38OfIT4Ab6ZaT32Tctcmsq3Ja3n+FSOjwHvSfspW97StH47p235DHA/8DBwSnrcO+2/PdO2mgBcAFwGPNfd/9LMPp2mPzhts5cAU4FfAk8Bx6Yy3Ae8AbieqEiMqBQmpO23M/AA8EHg34Hnpn27S9oftxPH03jieyxPp20+NS1zWSr/W4GvE+fAY2l/Po84Ln6b1vtx4hhaBrySqNzen33b3cy+k/bHi9Jyj0pl3pT2y2Fp+Y8Dk1M5f0NUhM919y+Z2QfT+u2e1u1/AccRx9ljqSy7AmvTcjYRjYz/l8Yl7deH0jr/KW2zndM2WUYcU89N42wCbgZel6a7J+3Tl6WyP8RgXixJ+3M2sIg4LvchjsupaV2mprK9Lm33ecA64tj5HbC/u59vZmcRx+HMtE2eTH9PpHU/iMiJienxHOALaT+8La1HdvzuByxM2+YJIjdmpO11MnEcdBPn8qtTeb6btv8HiePtj2l/X5HtC4bRaS38XYFvAz8CNhPlW0fs4Kw1+hNig+/p7p8ws+uInfQQsYN/QoT6ZGKDLWGwpbsncXKOA24AzkvznJaWsyex0/4ReEuadh7wfuBcItR+lcY5ngjCmWm6a4gfknsNsVP2IQ7ufuLg/xVxW+ob0rTfJ3bqc4jw3okIwaycE4BPEAfUAHEQXQbs5u5fNLMfpXI8RBxEXyNOln8iAmw34mTZSATQDUQQXprmnQX1g8SJtZao8JwI4tOIyu5B4L+AvwK+DMxN23UVcVC/IL3/VeIgXJi2/wPAje7+dTO7FXiEODCPJU7Wo1J5dwGuTsvtSdtsBXECLQN+6+4XmNnFxAmxkKhUDkzTP5TWd3Iqx3FpG/85Le+43DadB/xFWt6biUrvAiJc9nH3y8zsnWncO9LVzc+BE9LjKuKEfFXaH19J274b+M+0r+4jwqU/7e9xabtMS+VZAhyTjoe/IU58I07qvyeO1WcYvNq4jjhGXpL22xqiMruGOI6uBE5N87ycOAYvTfOdmqZ9nKi4v5m20wIzW53mfUzaFz9Ljzel7TWOOLZvAU5I5d2ZOA+fl/br8rgo40TifL2dOI5/QRxLa9LxsR/RAHszEVDvBC5J2+5naTl/Jo65rEF0IRHAe6eyr2YwZP+SOOc3Ew2jzbn9Oo44jw4njo2PEd5FHGv3pMdu4jg6hDhH9iOOu0eIY346MM7d/87MfmNm64lzewpxHJ2Q9sMEojE5M22fc4F/JRpr2f79FjArjX9YWodD0/aaToT+XOIc3Agc7O5HmNlVxPGyMu23c9L2vRJ4I3AjcFLaF5+iAZ3Wwj+IuMz+NbGDDwIedPf1ZvY2IuS/aWbTgUPd/Udm9nJi5+9PhPnLiBp1NREgexM/3DaVCJNfEC3dlcC97r7EzLKriIlEK2gFcRLum+b5VmJn3Av8LnV3HOjuD6WyvIg4oA9O81hGnPhvJlordwGvd/cL03pOdfffmdlRxA58jMGrgpcTJ9lmopXye+IkMCIIxrv7x9NvD52c1vdposJ6TlqP76dyH02E2glEoE4lWgc3ECf2qjTei4iT/Zn0t5k40D5PtDCMOMl+lpZ5dBo2j2hd70EcxJuJExqixfdF4orjYqIl9do07t1EC/VrRCCMS+VfTRzUU4kWkQP/7O7fMLODiSB6AVGZrgImESfU40QF82t3/4OZvZe4Cno8bcNxxIn9M+IXXFcRXwJMv541PDOb7u53pufnuPs364x7CHHl8Fpi3ywFXkyE2JnE8fBqIoQ+mbbJ84ltf5+7f9bMTgdeSgTtq9z9H83sH4hAOoQ4vialluen0nbZMw1/KdFqvIrY988QgbqWCMKdiEryyTSvG4hK6ai0H44kzp3riP35KHEePUrs7/uJ43p/InzeTgTVzsSx/Cixr15JhP7ziXPixWmcVxBXb78mAm9zKvuTRMjPJUJ/QXr8j1S2x4nz9jlE5TaXaABsSWV6ORHW44hQfyURvN3EuXs5UcEvIxqXEMfxJqJCvY9oaFyctucGItDfAfwtcT7/juhN+AmRT2vS+qxM63E1cdV1OXGF+Zm0H65MZXkjcc5NSGWaTJwPh6dtf0qa9+xU1luAN6X9OT0t/wDiuDoslXU34B53/y7D6LTAP4/YAW8kdspuxIG0e43HPxAH901EbbqCaEmtIE6i3xA7ZSODLcdpxEGRtWIWEDtwBdFqfIg4OXbOvc6C7AnisvIaora/iajZn5vG2SPN77BU9plsTQYAAAUhSURBVIlEa+Y4IpheRRw4x6XW5AdKhv0V0Yp4BYN9yzsBJ7r7KWZ2NVFpvYY4kE4lLllflx5nEQfzjUQrYinRD/51M5vr7meZWfaNaGfobxv9ObcORxCtoZnu/obUwr2XOMB3SuV7flrmTsTJlS9HDxHCj6b38tMeXVj+TQzt+uhK6zaeaIHelN7Lj5NtG9I2XJLW9zaiBfql3Pa9i8HL+8OIllVDl8AZM5tLVOoGvNLdTx9m3AFiHz1FnNyL07ZZR2znp4humjOIsPgl0RB5GpgD9DLYBVX2+B3gA0Sl+do0v13Tsq4hAu/4tNyj0+OR6f2fEg2FLOAuIK4+JhDdLKemeZxGBFX+8ao07f3EvhxH7OP8OJenecxL404GvpfW73vEOTmhsNysTF3EfnqkzrS7EsH3XCKop6Rh/0Uca7cR59zN6fEtqdyXEcfUGcAPiIrqh+lxLpEl+zP4kzB7ufux6Zz7LPDp9N4B+XFy004jKq35qVwrUnluIiqVU4lGx6m5si4kQv46BiuobNq/TNtnfGGcW9M4ewNL3P2jZvZpd/8cw+i0wD+TaOV9gthpECfsjWWP7n5C+lnmbxCtpW/nHrN53E2ceDsX3u8mAmh1btjfpnmvJC5T906vPb2eRwTvySkAr8+9t5A4AY4hDoL/TK//mqiYHiMOhpuB/0209l6dhr04jTOROOFXERXIrkRr5mEizL5NtLDPIE6sDxAn1+FEOB9OBMIc4J+JwM0u669n8MCfRLQM3ky0/h4nQmMBg+H9IFHJ7UMcdC8lDtLXp+kXpmkPT69/USjHIqJb5E4zeysRSCcTJ/DDheUfm8poab3npHX7AHGJfG4qd36cbNs8k7bhTsQJepyZLU/zz7bvrml9DsiN8yl3/zwNMrNZ7r4gPT/S3e8abtzUSv8tcfX2CtLxQxyXWR/7pcCP3f2n6Wrxo+7+DjObRRwTe5Y9uvtdZvYud/92bjm7E8FwW9oeT6fl3p4erwZOcfdPmtnfk66M0rKPT9OuTeX9YW6Z+xHH5H7u/uPctLcSLdBj8+MQoXmwu3/IzP6OaFwtIrrksschy82V6WjgMnf/Xp1pryWO5elEt9pM4rOfxcD5xDn5J6LR9SfieLmN6MI5hjjOX8RgQ25zmuZOooG3gGhVbyGO14PSVfUJ6b1ZhXFmpWkXEb0BRwJfcfebzezDROW1N4MVxQHEuXw+UWksICra84lKLJv2pcQ58prCOI8SjdnX5bbVKe5+NcPoqMAHSHeOvI/oylhGeSvjSuA0d3+3mX2SCL3jGAyArF/896m/+6tEKy///jNpGb/LTTsZuN3drzWzc4jWxu3ETppGukJw96vM7H2pqyGr2TcRLZUVRNDclV6vJGrqu4AXpy6pf0oH0Cwi7G9J4ywkTp4biK6QFcDK1Do/J02bdRcAPOPuXy9svyxsDiH68++vM499iHC+lzhZszJvAo5M03yguIxWlSz//rSdrknrfVO2brlx9yuMsyK9vovYhjcCr07TnOvuF+a27zLieLghN84b3P2qdq6XSKfrqMDPXTYPdzlbdlnb6DTb47TfIXUj5LoLoKRroc42LJvHWY0ut+ZOa0IDy2+mrCPZvqOyXiKdrtPu0rkotU5vpc7lLEMva9emy9qGptkep03THJnfRhBdC41uw7J5mNktI1huO9VdfjNlZQTbdxTXS6SjdVQLX0RERo9+WkFEpCIU+CIiFaHAFxGpCAW+iEhFKPBFRCrivwGFJJOkupVcogAAAABJRU5ErkJggg==\n",
      "text/plain": [
       "<Figure size 432x288 with 1 Axes>"
      ]
     },
     "metadata": {
      "needs_background": "light"
     },
     "output_type": "display_data"
    }
   ],
   "source": [
    "# create dendrogram\n",
    "#n_clusters= 2, in hc = AgglomerativeClustering() to specify clusters manually otherwise the algorithm makes its own clusters\n",
    "dendrogram = sch.dendrogram(sch.linkage(X,  method='ward'))\n",
    "# create clusters\n",
    "Agc = AgglomerativeClustering(affinity = 'euclidean', linkage = 'ward')\n",
    "# save clusters for chart\n",
    "y_Agc = Agc.fit_predict(X)\n",
    "\n",
    "\n",
    "Agglomerative_Clustering = pd.DataFrame(y_Agc)\n",
    "Y.insert((Y.shape[1]),'Agglomerative',Agglomerative_Clustering)"
   ]
  },
  {
   "cell_type": "code",
   "execution_count": 13,
   "metadata": {},
   "outputs": [
    {
     "data": {
      "text/plain": [
       "<matplotlib.collections.PathCollection at 0x1eeeb634548>"
      ]
     },
     "execution_count": 13,
     "metadata": {},
     "output_type": "execute_result"
    },
    {
     "data": {
      "image/png": "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\n",
      "text/plain": [
       "<Figure size 432x288 with 1 Axes>"
      ]
     },
     "metadata": {
      "needs_background": "light"
     },
     "output_type": "display_data"
    }
   ],
   "source": [
    "#Plotting the clusters\n",
    "plt.scatter(X.iloc[:, 0], X.iloc[:, 1], c=y_Agc, cmap = 'spring')"
   ]
  },
  {
   "cell_type": "markdown",
   "metadata": {},
   "source": [
    "## Affinity Propagation"
   ]
  },
  {
   "cell_type": "markdown",
   "metadata": {},
   "source": [
    "Affinity Propagation was first published in 2007 by Brendan Frey and Delbert Dueck in Science. In contrast to other traditional clustering methods, Affinity Propagation does not require you to specify the number of clusters.\n",
    "\n",
    "Each data point sends messages to all other points informing its targets of each target’s relative attractiveness to the sender. Each target then responds to all senders with a reply informing each sender of its availability to associate with the sender, given the attractiveness of the messages that it has received from all other senders. Senders reply to the targets with messages informing each target of the target’s revised relative attractiveness to the sender, given the availability messages it has received from all targets. The message-passing procedure proceeds until a consensus is reached. Once the sender is associated with one of its targets, that target becomes the point’s exemplar. All points with the same exemplar are placed in the same cluster."
   ]
  },
  {
   "cell_type": "code",
   "execution_count": 14,
   "metadata": {
    "scrolled": false
   },
   "outputs": [
    {
     "data": {
      "image/png": "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\n",
      "text/plain": [
       "<Figure size 432x288 with 1 Axes>"
      ]
     },
     "metadata": {
      "needs_background": "light"
     },
     "output_type": "display_data"
    }
   ],
   "source": [
    "af = AffinityPropagation() \n",
    "clusters=af.fit_predict(X)\n",
    "plt.scatter(X.iloc[:,0], X.iloc[:,1], c=clusters, cmap='rainbow') #This clustering method created 7 clusters based on its understanding of the data\n",
    "\n",
    "\n",
    "Affinity_Propagation = pd.DataFrame(clusters)\n",
    "Y.insert((Y.shape[1]),'Affinity_Propagation',Affinity_Propagation)"
   ]
  },
  {
   "cell_type": "markdown",
   "metadata": {},
   "source": [
    "Now that we have seen how the different clustering algorithms have clustered the data, let's visualize them on a map to better understand the grouping of all the countries."
   ]
  },
  {
   "cell_type": "markdown",
   "metadata": {},
   "source": [
    "## Visualizing Clusters"
   ]
  },
  {
   "cell_type": "markdown",
   "metadata": {},
   "source": [
    "## K-means"
   ]
  },
  {
   "cell_type": "code",
   "execution_count": 15,
   "metadata": {
    "scrolled": true
   },
   "outputs": [
    {
     "data": {
      "application/vnd.plotly.v1+json": {
       "config": {
        "linkText": "Export to plot.ly",
        "plotlyServerURL": "https://plot.ly",
        "showLink": false
       },
       "data": [
        {
         "colorbar": {
          "title": {
           "text": "Cluster Group"
          }
         },
         "colorscale": [
          [
           0,
           "rgb(255,245,240)"
          ],
          [
           0.125,
           "rgb(254,224,210)"
          ],
          [
           0.25,
           "rgb(252,187,161)"
          ],
          [
           0.375,
           "rgb(252,146,114)"
          ],
          [
           0.5,
           "rgb(251,106,74)"
          ],
          [
           0.625,
           "rgb(239,59,44)"
          ],
          [
           0.75,
           "rgb(203,24,29)"
          ],
          [
           0.875,
           "rgb(165,15,21)"
          ],
          [
           1,
           "rgb(103,0,13)"
          ]
         ],
         "locationmode": "country names",
         "locations": [
          "Finland",
          "Denmark",
          "Norway",
          "Iceland",
          "Netherlands",
          "Switzerland",
          "Sweden",
          "New Zealand",
          "Canada",
          "Austria",
          "Australia",
          "Costa Rica",
          "Israel",
          "Luxembourg",
          "United Kingdom",
          "Ireland",
          "Germany",
          "Belgium",
          "United States",
          "Czech Republic",
          "United Arab Emirates",
          "Malta",
          "Mexico",
          "France",
          "Taiwan",
          "Chile",
          "Guatemala",
          "Saudi Arabia",
          "Qatar",
          "Spain",
          "Panama",
          "Brazil",
          "Uruguay",
          "Singapore",
          "El Salvador",
          "Italy",
          "Bahrain",
          "Slovakia",
          "Trinidad & Tobago",
          "Poland",
          "Uzbekistan",
          "Lithuania",
          "Colombia",
          "Slovenia",
          "Nicaragua",
          "Kosovo",
          "Argentina",
          "Romania",
          "Cyprus",
          "Ecuador",
          "Kuwait",
          "Thailand",
          "Latvia",
          "South Korea",
          "Estonia",
          "Jamaica",
          "Mauritius",
          "Japan",
          "Honduras",
          "Kazakhstan",
          "Bolivia",
          "Hungary",
          "Paraguay",
          "Northern Cyprus",
          "Peru",
          "Portugal",
          "Pakistan",
          "Russia",
          "Philippines",
          "Serbia",
          "Moldova",
          "Libya",
          "Montenegro",
          "Tajikistan",
          "Croatia",
          "Hong Kong",
          "Dominican Republic",
          "Bosnia and Herzegovina",
          "Turkey",
          "Malaysia",
          "Belarus",
          "Greece",
          "Mongolia",
          "North Macedonia",
          "Nigeria",
          "Kyrgyzstan",
          "Turkmenistan",
          "Algeria",
          "Morocco",
          "Azerbaijan",
          "Lebanon",
          "Indonesia",
          "China",
          "Vietnam",
          "Bhutan",
          "Cameroon",
          "Bulgaria",
          "Ghana",
          "Ivory Coast",
          "Nepal",
          "Jordan",
          "Benin",
          "Congo (Brazzaville)",
          "Gabon",
          "Laos",
          "South Africa",
          "Albania",
          "Venezuela",
          "Cambodia",
          "Palestinian Territories",
          "Senegal",
          "Somalia",
          "Namibia",
          "Niger",
          "Burkina Faso",
          "Armenia",
          "Iran",
          "Guinea",
          "Georgia",
          "Gambia",
          "Kenya",
          "Mauritania",
          "Mozambique",
          "Tunisia",
          "Bangladesh",
          "Iraq",
          "Congo (Kinshasa)",
          "Mali",
          "Sierra Leone",
          "Sri Lanka",
          "Myanmar",
          "Chad",
          "Ukraine",
          "Ethiopia",
          "Swaziland",
          "Uganda",
          "Egypt",
          "Zambia",
          "Togo",
          "India",
          "Liberia",
          "Comoros",
          "Madagascar",
          "Lesotho",
          "Burundi",
          "Zimbabwe",
          "Haiti",
          "Botswana",
          "Syria",
          "Malawi",
          "Yemen",
          "Rwanda",
          "Tanzania",
          "Afghanistan",
          "Central African Republic",
          "South Sudan"
         ],
         "text": [
          "Finland",
          "Denmark",
          "Norway",
          "Iceland",
          "Netherlands",
          "Switzerland",
          "Sweden",
          "New Zealand",
          "Canada",
          "Austria",
          "Australia",
          "Costa Rica",
          "Israel",
          "Luxembourg",
          "United Kingdom",
          "Ireland",
          "Germany",
          "Belgium",
          "United States",
          "Czech Republic",
          "United Arab Emirates",
          "Malta",
          "Mexico",
          "France",
          "Taiwan",
          "Chile",
          "Guatemala",
          "Saudi Arabia",
          "Qatar",
          "Spain",
          "Panama",
          "Brazil",
          "Uruguay",
          "Singapore",
          "El Salvador",
          "Italy",
          "Bahrain",
          "Slovakia",
          "Trinidad & Tobago",
          "Poland",
          "Uzbekistan",
          "Lithuania",
          "Colombia",
          "Slovenia",
          "Nicaragua",
          "Kosovo",
          "Argentina",
          "Romania",
          "Cyprus",
          "Ecuador",
          "Kuwait",
          "Thailand",
          "Latvia",
          "South Korea",
          "Estonia",
          "Jamaica",
          "Mauritius",
          "Japan",
          "Honduras",
          "Kazakhstan",
          "Bolivia",
          "Hungary",
          "Paraguay",
          "Northern Cyprus",
          "Peru",
          "Portugal",
          "Pakistan",
          "Russia",
          "Philippines",
          "Serbia",
          "Moldova",
          "Libya",
          "Montenegro",
          "Tajikistan",
          "Croatia",
          "Hong Kong",
          "Dominican Republic",
          "Bosnia and Herzegovina",
          "Turkey",
          "Malaysia",
          "Belarus",
          "Greece",
          "Mongolia",
          "North Macedonia",
          "Nigeria",
          "Kyrgyzstan",
          "Turkmenistan",
          "Algeria",
          "Morocco",
          "Azerbaijan",
          "Lebanon",
          "Indonesia",
          "China",
          "Vietnam",
          "Bhutan",
          "Cameroon",
          "Bulgaria",
          "Ghana",
          "Ivory Coast",
          "Nepal",
          "Jordan",
          "Benin",
          "Congo (Brazzaville)",
          "Gabon",
          "Laos",
          "South Africa",
          "Albania",
          "Venezuela",
          "Cambodia",
          "Palestinian Territories",
          "Senegal",
          "Somalia",
          "Namibia",
          "Niger",
          "Burkina Faso",
          "Armenia",
          "Iran",
          "Guinea",
          "Georgia",
          "Gambia",
          "Kenya",
          "Mauritania",
          "Mozambique",
          "Tunisia",
          "Bangladesh",
          "Iraq",
          "Congo (Kinshasa)",
          "Mali",
          "Sierra Leone",
          "Sri Lanka",
          "Myanmar",
          "Chad",
          "Ukraine",
          "Ethiopia",
          "Swaziland",
          "Uganda",
          "Egypt",
          "Zambia",
          "Togo",
          "India",
          "Liberia",
          "Comoros",
          "Madagascar",
          "Lesotho",
          "Burundi",
          "Zimbabwe",
          "Haiti",
          "Botswana",
          "Syria",
          "Malawi",
          "Yemen",
          "Rwanda",
          "Tanzania",
          "Afghanistan",
          "Central African Republic",
          "South Sudan"
         ],
         "type": "choropleth",
         "z": [
          0,
          0,
          0,
          0,
          0,
          0,
          0,
          0,
          0,
          0,
          0,
          0,
          0,
          0,
          0,
          0,
          0,
          0,
          0,
          0,
          0,
          0,
          0,
          0,
          0,
          0,
          0,
          0,
          0,
          0,
          0,
          0,
          0,
          0,
          0,
          0,
          0,
          0,
          0,
          0,
          0,
          0,
          0,
          0,
          0,
          0,
          0,
          0,
          0,
          0,
          0,
          0,
          0,
          0,
          0,
          0,
          0,
          0,
          0,
          0,
          0,
          0,
          0,
          0,
          0,
          0,
          0,
          0,
          0,
          0,
          0,
          0,
          0,
          1,
          0,
          0,
          0,
          0,
          0,
          0,
          0,
          0,
          0,
          0,
          1,
          1,
          0,
          1,
          1,
          1,
          1,
          1,
          1,
          1,
          1,
          1,
          1,
          1,
          1,
          1,
          1,
          1,
          1,
          1,
          1,
          1,
          1,
          1,
          1,
          1,
          1,
          1,
          1,
          1,
          1,
          1,
          1,
          1,
          1,
          1,
          1,
          1,
          1,
          1,
          1,
          1,
          1,
          1,
          1,
          1,
          1,
          1,
          1,
          1,
          1,
          1,
          1,
          1,
          1,
          1,
          1,
          1,
          1,
          1,
          1,
          1,
          1,
          1,
          1,
          1,
          1,
          1,
          1,
          1,
          1,
          1
         ]
        }
       ],
       "layout": {
        "template": {
         "data": {
          "bar": [
           {
            "error_x": {
             "color": "#2a3f5f"
            },
            "error_y": {
             "color": "#2a3f5f"
            },
            "marker": {
             "line": {
              "color": "#E5ECF6",
              "width": 0.5
             }
            },
            "type": "bar"
           }
          ],
          "barpolar": [
           {
            "marker": {
             "line": {
              "color": "#E5ECF6",
              "width": 0.5
             }
            },
            "type": "barpolar"
           }
          ],
          "carpet": [
           {
            "aaxis": {
             "endlinecolor": "#2a3f5f",
             "gridcolor": "white",
             "linecolor": "white",
             "minorgridcolor": "white",
             "startlinecolor": "#2a3f5f"
            },
            "baxis": {
             "endlinecolor": "#2a3f5f",
             "gridcolor": "white",
             "linecolor": "white",
             "minorgridcolor": "white",
             "startlinecolor": "#2a3f5f"
            },
            "type": "carpet"
           }
          ],
          "choropleth": [
           {
            "colorbar": {
             "outlinewidth": 0,
             "ticks": ""
            },
            "type": "choropleth"
           }
          ],
          "contour": [
           {
            "colorbar": {
             "outlinewidth": 0,
             "ticks": ""
            },
            "colorscale": [
             [
              0,
              "#0d0887"
             ],
             [
              0.1111111111111111,
              "#46039f"
             ],
             [
              0.2222222222222222,
              "#7201a8"
             ],
             [
              0.3333333333333333,
              "#9c179e"
             ],
             [
              0.4444444444444444,
              "#bd3786"
             ],
             [
              0.5555555555555556,
              "#d8576b"
             ],
             [
              0.6666666666666666,
              "#ed7953"
             ],
             [
              0.7777777777777778,
              "#fb9f3a"
             ],
             [
              0.8888888888888888,
              "#fdca26"
             ],
             [
              1,
              "#f0f921"
             ]
            ],
            "type": "contour"
           }
          ],
          "contourcarpet": [
           {
            "colorbar": {
             "outlinewidth": 0,
             "ticks": ""
            },
            "type": "contourcarpet"
           }
          ],
          "heatmap": [
           {
            "colorbar": {
             "outlinewidth": 0,
             "ticks": ""
            },
            "colorscale": [
             [
              0,
              "#0d0887"
             ],
             [
              0.1111111111111111,
              "#46039f"
             ],
             [
              0.2222222222222222,
              "#7201a8"
             ],
             [
              0.3333333333333333,
              "#9c179e"
             ],
             [
              0.4444444444444444,
              "#bd3786"
             ],
             [
              0.5555555555555556,
              "#d8576b"
             ],
             [
              0.6666666666666666,
              "#ed7953"
             ],
             [
              0.7777777777777778,
              "#fb9f3a"
             ],
             [
              0.8888888888888888,
              "#fdca26"
             ],
             [
              1,
              "#f0f921"
             ]
            ],
            "type": "heatmap"
           }
          ],
          "heatmapgl": [
           {
            "colorbar": {
             "outlinewidth": 0,
             "ticks": ""
            },
            "colorscale": [
             [
              0,
              "#0d0887"
             ],
             [
              0.1111111111111111,
              "#46039f"
             ],
             [
              0.2222222222222222,
              "#7201a8"
             ],
             [
              0.3333333333333333,
              "#9c179e"
             ],
             [
              0.4444444444444444,
              "#bd3786"
             ],
             [
              0.5555555555555556,
              "#d8576b"
             ],
             [
              0.6666666666666666,
              "#ed7953"
             ],
             [
              0.7777777777777778,
              "#fb9f3a"
             ],
             [
              0.8888888888888888,
              "#fdca26"
             ],
             [
              1,
              "#f0f921"
             ]
            ],
            "type": "heatmapgl"
           }
          ],
          "histogram": [
           {
            "marker": {
             "colorbar": {
              "outlinewidth": 0,
              "ticks": ""
             }
            },
            "type": "histogram"
           }
          ],
          "histogram2d": [
           {
            "colorbar": {
             "outlinewidth": 0,
             "ticks": ""
            },
            "colorscale": [
             [
              0,
              "#0d0887"
             ],
             [
              0.1111111111111111,
              "#46039f"
             ],
             [
              0.2222222222222222,
              "#7201a8"
             ],
             [
              0.3333333333333333,
              "#9c179e"
             ],
             [
              0.4444444444444444,
              "#bd3786"
             ],
             [
              0.5555555555555556,
              "#d8576b"
             ],
             [
              0.6666666666666666,
              "#ed7953"
             ],
             [
              0.7777777777777778,
              "#fb9f3a"
             ],
             [
              0.8888888888888888,
              "#fdca26"
             ],
             [
              1,
              "#f0f921"
             ]
            ],
            "type": "histogram2d"
           }
          ],
          "histogram2dcontour": [
           {
            "colorbar": {
             "outlinewidth": 0,
             "ticks": ""
            },
            "colorscale": [
             [
              0,
              "#0d0887"
             ],
             [
              0.1111111111111111,
              "#46039f"
             ],
             [
              0.2222222222222222,
              "#7201a8"
             ],
             [
              0.3333333333333333,
              "#9c179e"
             ],
             [
              0.4444444444444444,
              "#bd3786"
             ],
             [
              0.5555555555555556,
              "#d8576b"
             ],
             [
              0.6666666666666666,
              "#ed7953"
             ],
             [
              0.7777777777777778,
              "#fb9f3a"
             ],
             [
              0.8888888888888888,
              "#fdca26"
             ],
             [
              1,
              "#f0f921"
             ]
            ],
            "type": "histogram2dcontour"
           }
          ],
          "mesh3d": [
           {
            "colorbar": {
             "outlinewidth": 0,
             "ticks": ""
            },
            "type": "mesh3d"
           }
          ],
          "parcoords": [
           {
            "line": {
             "colorbar": {
              "outlinewidth": 0,
              "ticks": ""
             }
            },
            "type": "parcoords"
           }
          ],
          "pie": [
           {
            "automargin": true,
            "type": "pie"
           }
          ],
          "scatter": [
           {
            "marker": {
             "colorbar": {
              "outlinewidth": 0,
              "ticks": ""
             }
            },
            "type": "scatter"
           }
          ],
          "scatter3d": [
           {
            "line": {
             "colorbar": {
              "outlinewidth": 0,
              "ticks": ""
             }
            },
            "marker": {
             "colorbar": {
              "outlinewidth": 0,
              "ticks": ""
             }
            },
            "type": "scatter3d"
           }
          ],
          "scattercarpet": [
           {
            "marker": {
             "colorbar": {
              "outlinewidth": 0,
              "ticks": ""
             }
            },
            "type": "scattercarpet"
           }
          ],
          "scattergeo": [
           {
            "marker": {
             "colorbar": {
              "outlinewidth": 0,
              "ticks": ""
             }
            },
            "type": "scattergeo"
           }
          ],
          "scattergl": [
           {
            "marker": {
             "colorbar": {
              "outlinewidth": 0,
              "ticks": ""
             }
            },
            "type": "scattergl"
           }
          ],
          "scattermapbox": [
           {
            "marker": {
             "colorbar": {
              "outlinewidth": 0,
              "ticks": ""
             }
            },
            "type": "scattermapbox"
           }
          ],
          "scatterpolar": [
           {
            "marker": {
             "colorbar": {
              "outlinewidth": 0,
              "ticks": ""
             }
            },
            "type": "scatterpolar"
           }
          ],
          "scatterpolargl": [
           {
            "marker": {
             "colorbar": {
              "outlinewidth": 0,
              "ticks": ""
             }
            },
            "type": "scatterpolargl"
           }
          ],
          "scatterternary": [
           {
            "marker": {
             "colorbar": {
              "outlinewidth": 0,
              "ticks": ""
             }
            },
            "type": "scatterternary"
           }
          ],
          "surface": [
           {
            "colorbar": {
             "outlinewidth": 0,
             "ticks": ""
            },
            "colorscale": [
             [
              0,
              "#0d0887"
             ],
             [
              0.1111111111111111,
              "#46039f"
             ],
             [
              0.2222222222222222,
              "#7201a8"
             ],
             [
              0.3333333333333333,
              "#9c179e"
             ],
             [
              0.4444444444444444,
              "#bd3786"
             ],
             [
              0.5555555555555556,
              "#d8576b"
             ],
             [
              0.6666666666666666,
              "#ed7953"
             ],
             [
              0.7777777777777778,
              "#fb9f3a"
             ],
             [
              0.8888888888888888,
              "#fdca26"
             ],
             [
              1,
              "#f0f921"
             ]
            ],
            "type": "surface"
           }
          ],
          "table": [
           {
            "cells": {
             "fill": {
              "color": "#EBF0F8"
             },
             "line": {
              "color": "white"
             }
            },
            "header": {
             "fill": {
              "color": "#C8D4E3"
             },
             "line": {
              "color": "white"
             }
            },
            "type": "table"
           }
          ]
         },
         "layout": {
          "annotationdefaults": {
           "arrowcolor": "#2a3f5f",
           "arrowhead": 0,
           "arrowwidth": 1
          },
          "coloraxis": {
           "colorbar": {
            "outlinewidth": 0,
            "ticks": ""
           }
          },
          "colorscale": {
           "diverging": [
            [
             0,
             "#8e0152"
            ],
            [
             0.1,
             "#c51b7d"
            ],
            [
             0.2,
             "#de77ae"
            ],
            [
             0.3,
             "#f1b6da"
            ],
            [
             0.4,
             "#fde0ef"
            ],
            [
             0.5,
             "#f7f7f7"
            ],
            [
             0.6,
             "#e6f5d0"
            ],
            [
             0.7,
             "#b8e186"
            ],
            [
             0.8,
             "#7fbc41"
            ],
            [
             0.9,
             "#4d9221"
            ],
            [
             1,
             "#276419"
            ]
           ],
           "sequential": [
            [
             0,
             "#0d0887"
            ],
            [
             0.1111111111111111,
             "#46039f"
            ],
            [
             0.2222222222222222,
             "#7201a8"
            ],
            [
             0.3333333333333333,
             "#9c179e"
            ],
            [
             0.4444444444444444,
             "#bd3786"
            ],
            [
             0.5555555555555556,
             "#d8576b"
            ],
            [
             0.6666666666666666,
             "#ed7953"
            ],
            [
             0.7777777777777778,
             "#fb9f3a"
            ],
            [
             0.8888888888888888,
             "#fdca26"
            ],
            [
             1,
             "#f0f921"
            ]
           ],
           "sequentialminus": [
            [
             0,
             "#0d0887"
            ],
            [
             0.1111111111111111,
             "#46039f"
            ],
            [
             0.2222222222222222,
             "#7201a8"
            ],
            [
             0.3333333333333333,
             "#9c179e"
            ],
            [
             0.4444444444444444,
             "#bd3786"
            ],
            [
             0.5555555555555556,
             "#d8576b"
            ],
            [
             0.6666666666666666,
             "#ed7953"
            ],
            [
             0.7777777777777778,
             "#fb9f3a"
            ],
            [
             0.8888888888888888,
             "#fdca26"
            ],
            [
             1,
             "#f0f921"
            ]
           ]
          },
          "colorway": [
           "#636efa",
           "#EF553B",
           "#00cc96",
           "#ab63fa",
           "#FFA15A",
           "#19d3f3",
           "#FF6692",
           "#B6E880",
           "#FF97FF",
           "#FECB52"
          ],
          "font": {
           "color": "#2a3f5f"
          },
          "geo": {
           "bgcolor": "white",
           "lakecolor": "white",
           "landcolor": "#E5ECF6",
           "showlakes": true,
           "showland": true,
           "subunitcolor": "white"
          },
          "hoverlabel": {
           "align": "left"
          },
          "hovermode": "closest",
          "mapbox": {
           "style": "light"
          },
          "paper_bgcolor": "white",
          "plot_bgcolor": "#E5ECF6",
          "polar": {
           "angularaxis": {
            "gridcolor": "white",
            "linecolor": "white",
            "ticks": ""
           },
           "bgcolor": "#E5ECF6",
           "radialaxis": {
            "gridcolor": "white",
            "linecolor": "white",
            "ticks": ""
           }
          },
          "scene": {
           "xaxis": {
            "backgroundcolor": "#E5ECF6",
            "gridcolor": "white",
            "gridwidth": 2,
            "linecolor": "white",
            "showbackground": true,
            "ticks": "",
            "zerolinecolor": "white"
           },
           "yaxis": {
            "backgroundcolor": "#E5ECF6",
            "gridcolor": "white",
            "gridwidth": 2,
            "linecolor": "white",
            "showbackground": true,
            "ticks": "",
            "zerolinecolor": "white"
           },
           "zaxis": {
            "backgroundcolor": "#E5ECF6",
            "gridcolor": "white",
            "gridwidth": 2,
            "linecolor": "white",
            "showbackground": true,
            "ticks": "",
            "zerolinecolor": "white"
           }
          },
          "shapedefaults": {
           "line": {
            "color": "#2a3f5f"
           }
          },
          "ternary": {
           "aaxis": {
            "gridcolor": "white",
            "linecolor": "white",
            "ticks": ""
           },
           "baxis": {
            "gridcolor": "white",
            "linecolor": "white",
            "ticks": ""
           },
           "bgcolor": "#E5ECF6",
           "caxis": {
            "gridcolor": "white",
            "linecolor": "white",
            "ticks": ""
           }
          },
          "title": {
           "x": 0.05
          },
          "xaxis": {
           "automargin": true,
           "gridcolor": "white",
           "linecolor": "white",
           "ticks": "",
           "title": {
            "standoff": 15
           },
           "zerolinecolor": "white",
           "zerolinewidth": 2
          },
          "yaxis": {
           "automargin": true,
           "gridcolor": "white",
           "linecolor": "white",
           "ticks": "",
           "title": {
            "standoff": 15
           },
           "zerolinecolor": "white",
           "zerolinewidth": 2
          }
         }
        },
        "title": {
         "text": "Clustering of Countries based on K-Means"
        }
       }
      },
      "text/html": [
       "<div>\n",
       "        \n",
       "        \n",
       "            <div id=\"236b33fa-6f6a-4867-b645-beb5fc93ff31\" class=\"plotly-graph-div\" style=\"height:525px; width:100%;\"></div>\n",
       "            <script type=\"text/javascript\">\n",
       "                require([\"plotly\"], function(Plotly) {\n",
       "                    window.PLOTLYENV=window.PLOTLYENV || {};\n",
       "                    \n",
       "                if (document.getElementById(\"236b33fa-6f6a-4867-b645-beb5fc93ff31\")) {\n",
       "                    Plotly.newPlot(\n",
       "                        '236b33fa-6f6a-4867-b645-beb5fc93ff31',\n",
       "                        [{\"colorbar\": {\"title\": {\"text\": \"Cluster Group\"}}, \"colorscale\": [[0.0, \"rgb(255,245,240)\"], [0.125, \"rgb(254,224,210)\"], [0.25, \"rgb(252,187,161)\"], [0.375, \"rgb(252,146,114)\"], [0.5, \"rgb(251,106,74)\"], [0.625, \"rgb(239,59,44)\"], [0.75, \"rgb(203,24,29)\"], [0.875, \"rgb(165,15,21)\"], [1.0, \"rgb(103,0,13)\"]], \"locationmode\": \"country names\", \"locations\": [\"Finland\", \"Denmark\", \"Norway\", \"Iceland\", \"Netherlands\", \"Switzerland\", \"Sweden\", \"New Zealand\", \"Canada\", \"Austria\", \"Australia\", \"Costa Rica\", \"Israel\", \"Luxembourg\", \"United Kingdom\", \"Ireland\", \"Germany\", \"Belgium\", \"United States\", \"Czech Republic\", \"United Arab Emirates\", \"Malta\", \"Mexico\", \"France\", \"Taiwan\", \"Chile\", \"Guatemala\", \"Saudi Arabia\", \"Qatar\", \"Spain\", \"Panama\", \"Brazil\", \"Uruguay\", \"Singapore\", \"El Salvador\", \"Italy\", \"Bahrain\", \"Slovakia\", \"Trinidad & Tobago\", \"Poland\", \"Uzbekistan\", \"Lithuania\", \"Colombia\", \"Slovenia\", \"Nicaragua\", \"Kosovo\", \"Argentina\", \"Romania\", \"Cyprus\", \"Ecuador\", \"Kuwait\", \"Thailand\", \"Latvia\", \"South Korea\", \"Estonia\", \"Jamaica\", \"Mauritius\", \"Japan\", \"Honduras\", \"Kazakhstan\", \"Bolivia\", \"Hungary\", \"Paraguay\", \"Northern Cyprus\", \"Peru\", \"Portugal\", \"Pakistan\", \"Russia\", \"Philippines\", \"Serbia\", \"Moldova\", \"Libya\", \"Montenegro\", \"Tajikistan\", \"Croatia\", \"Hong Kong\", \"Dominican Republic\", \"Bosnia and Herzegovina\", \"Turkey\", \"Malaysia\", \"Belarus\", \"Greece\", \"Mongolia\", \"North Macedonia\", \"Nigeria\", \"Kyrgyzstan\", \"Turkmenistan\", \"Algeria\", \"Morocco\", \"Azerbaijan\", \"Lebanon\", \"Indonesia\", \"China\", \"Vietnam\", \"Bhutan\", \"Cameroon\", \"Bulgaria\", \"Ghana\", \"Ivory Coast\", \"Nepal\", \"Jordan\", \"Benin\", \"Congo (Brazzaville)\", \"Gabon\", \"Laos\", \"South Africa\", \"Albania\", \"Venezuela\", \"Cambodia\", \"Palestinian Territories\", \"Senegal\", \"Somalia\", \"Namibia\", \"Niger\", \"Burkina Faso\", \"Armenia\", \"Iran\", \"Guinea\", \"Georgia\", \"Gambia\", \"Kenya\", \"Mauritania\", \"Mozambique\", \"Tunisia\", \"Bangladesh\", \"Iraq\", \"Congo (Kinshasa)\", \"Mali\", \"Sierra Leone\", \"Sri Lanka\", \"Myanmar\", \"Chad\", \"Ukraine\", \"Ethiopia\", \"Swaziland\", \"Uganda\", \"Egypt\", \"Zambia\", \"Togo\", \"India\", \"Liberia\", \"Comoros\", \"Madagascar\", \"Lesotho\", \"Burundi\", \"Zimbabwe\", \"Haiti\", \"Botswana\", \"Syria\", \"Malawi\", \"Yemen\", \"Rwanda\", \"Tanzania\", \"Afghanistan\", \"Central African Republic\", \"South Sudan\"], \"text\": [\"Finland\", \"Denmark\", \"Norway\", \"Iceland\", \"Netherlands\", \"Switzerland\", \"Sweden\", \"New Zealand\", \"Canada\", \"Austria\", \"Australia\", \"Costa Rica\", \"Israel\", \"Luxembourg\", \"United Kingdom\", \"Ireland\", \"Germany\", \"Belgium\", \"United States\", \"Czech Republic\", \"United Arab Emirates\", \"Malta\", \"Mexico\", \"France\", \"Taiwan\", \"Chile\", \"Guatemala\", \"Saudi Arabia\", \"Qatar\", \"Spain\", \"Panama\", \"Brazil\", \"Uruguay\", \"Singapore\", \"El Salvador\", \"Italy\", \"Bahrain\", \"Slovakia\", \"Trinidad & Tobago\", \"Poland\", \"Uzbekistan\", \"Lithuania\", \"Colombia\", \"Slovenia\", \"Nicaragua\", \"Kosovo\", \"Argentina\", \"Romania\", \"Cyprus\", \"Ecuador\", \"Kuwait\", \"Thailand\", \"Latvia\", \"South Korea\", \"Estonia\", \"Jamaica\", \"Mauritius\", \"Japan\", \"Honduras\", \"Kazakhstan\", \"Bolivia\", \"Hungary\", \"Paraguay\", \"Northern Cyprus\", \"Peru\", \"Portugal\", \"Pakistan\", \"Russia\", \"Philippines\", \"Serbia\", \"Moldova\", \"Libya\", \"Montenegro\", \"Tajikistan\", \"Croatia\", \"Hong Kong\", \"Dominican Republic\", \"Bosnia and Herzegovina\", \"Turkey\", \"Malaysia\", \"Belarus\", \"Greece\", \"Mongolia\", \"North Macedonia\", \"Nigeria\", \"Kyrgyzstan\", \"Turkmenistan\", \"Algeria\", \"Morocco\", \"Azerbaijan\", \"Lebanon\", \"Indonesia\", \"China\", \"Vietnam\", \"Bhutan\", \"Cameroon\", \"Bulgaria\", \"Ghana\", \"Ivory Coast\", \"Nepal\", \"Jordan\", \"Benin\", \"Congo (Brazzaville)\", \"Gabon\", \"Laos\", \"South Africa\", \"Albania\", \"Venezuela\", \"Cambodia\", \"Palestinian Territories\", \"Senegal\", \"Somalia\", \"Namibia\", \"Niger\", \"Burkina Faso\", \"Armenia\", \"Iran\", \"Guinea\", \"Georgia\", \"Gambia\", \"Kenya\", \"Mauritania\", \"Mozambique\", \"Tunisia\", \"Bangladesh\", \"Iraq\", \"Congo (Kinshasa)\", \"Mali\", \"Sierra Leone\", \"Sri Lanka\", \"Myanmar\", \"Chad\", \"Ukraine\", \"Ethiopia\", \"Swaziland\", \"Uganda\", \"Egypt\", \"Zambia\", \"Togo\", \"India\", \"Liberia\", \"Comoros\", \"Madagascar\", \"Lesotho\", \"Burundi\", \"Zimbabwe\", \"Haiti\", \"Botswana\", \"Syria\", \"Malawi\", \"Yemen\", \"Rwanda\", \"Tanzania\", \"Afghanistan\", \"Central African Republic\", \"South Sudan\"], \"type\": \"choropleth\", \"z\": [0, 0, 0, 0, 0, 0, 0, 0, 0, 0, 0, 0, 0, 0, 0, 0, 0, 0, 0, 0, 0, 0, 0, 0, 0, 0, 0, 0, 0, 0, 0, 0, 0, 0, 0, 0, 0, 0, 0, 0, 0, 0, 0, 0, 0, 0, 0, 0, 0, 0, 0, 0, 0, 0, 0, 0, 0, 0, 0, 0, 0, 0, 0, 0, 0, 0, 0, 0, 0, 0, 0, 0, 0, 1, 0, 0, 0, 0, 0, 0, 0, 0, 0, 0, 1, 1, 0, 1, 1, 1, 1, 1, 1, 1, 1, 1, 1, 1, 1, 1, 1, 1, 1, 1, 1, 1, 1, 1, 1, 1, 1, 1, 1, 1, 1, 1, 1, 1, 1, 1, 1, 1, 1, 1, 1, 1, 1, 1, 1, 1, 1, 1, 1, 1, 1, 1, 1, 1, 1, 1, 1, 1, 1, 1, 1, 1, 1, 1, 1, 1, 1, 1, 1, 1, 1, 1]}],\n",
       "                        {\"template\": {\"data\": {\"bar\": [{\"error_x\": {\"color\": \"#2a3f5f\"}, \"error_y\": {\"color\": \"#2a3f5f\"}, \"marker\": {\"line\": {\"color\": \"#E5ECF6\", \"width\": 0.5}}, \"type\": \"bar\"}], \"barpolar\": [{\"marker\": {\"line\": {\"color\": \"#E5ECF6\", \"width\": 0.5}}, \"type\": \"barpolar\"}], \"carpet\": [{\"aaxis\": {\"endlinecolor\": \"#2a3f5f\", \"gridcolor\": \"white\", \"linecolor\": \"white\", \"minorgridcolor\": \"white\", \"startlinecolor\": \"#2a3f5f\"}, \"baxis\": {\"endlinecolor\": \"#2a3f5f\", \"gridcolor\": \"white\", \"linecolor\": \"white\", \"minorgridcolor\": \"white\", \"startlinecolor\": \"#2a3f5f\"}, \"type\": \"carpet\"}], \"choropleth\": [{\"colorbar\": {\"outlinewidth\": 0, \"ticks\": \"\"}, \"type\": \"choropleth\"}], \"contour\": [{\"colorbar\": {\"outlinewidth\": 0, \"ticks\": \"\"}, \"colorscale\": [[0.0, \"#0d0887\"], [0.1111111111111111, \"#46039f\"], [0.2222222222222222, \"#7201a8\"], [0.3333333333333333, \"#9c179e\"], [0.4444444444444444, \"#bd3786\"], [0.5555555555555556, \"#d8576b\"], [0.6666666666666666, \"#ed7953\"], [0.7777777777777778, \"#fb9f3a\"], [0.8888888888888888, \"#fdca26\"], [1.0, \"#f0f921\"]], \"type\": \"contour\"}], \"contourcarpet\": [{\"colorbar\": {\"outlinewidth\": 0, \"ticks\": \"\"}, \"type\": \"contourcarpet\"}], \"heatmap\": [{\"colorbar\": {\"outlinewidth\": 0, \"ticks\": \"\"}, \"colorscale\": [[0.0, \"#0d0887\"], [0.1111111111111111, \"#46039f\"], [0.2222222222222222, \"#7201a8\"], [0.3333333333333333, \"#9c179e\"], [0.4444444444444444, \"#bd3786\"], [0.5555555555555556, \"#d8576b\"], [0.6666666666666666, \"#ed7953\"], [0.7777777777777778, \"#fb9f3a\"], [0.8888888888888888, \"#fdca26\"], [1.0, \"#f0f921\"]], \"type\": \"heatmap\"}], \"heatmapgl\": [{\"colorbar\": {\"outlinewidth\": 0, \"ticks\": \"\"}, \"colorscale\": [[0.0, \"#0d0887\"], [0.1111111111111111, \"#46039f\"], [0.2222222222222222, \"#7201a8\"], [0.3333333333333333, \"#9c179e\"], [0.4444444444444444, \"#bd3786\"], [0.5555555555555556, \"#d8576b\"], [0.6666666666666666, \"#ed7953\"], [0.7777777777777778, \"#fb9f3a\"], [0.8888888888888888, \"#fdca26\"], [1.0, \"#f0f921\"]], \"type\": \"heatmapgl\"}], \"histogram\": [{\"marker\": {\"colorbar\": {\"outlinewidth\": 0, \"ticks\": \"\"}}, \"type\": \"histogram\"}], \"histogram2d\": [{\"colorbar\": {\"outlinewidth\": 0, \"ticks\": \"\"}, \"colorscale\": [[0.0, \"#0d0887\"], [0.1111111111111111, \"#46039f\"], [0.2222222222222222, \"#7201a8\"], [0.3333333333333333, \"#9c179e\"], [0.4444444444444444, \"#bd3786\"], [0.5555555555555556, \"#d8576b\"], [0.6666666666666666, \"#ed7953\"], [0.7777777777777778, \"#fb9f3a\"], [0.8888888888888888, \"#fdca26\"], [1.0, \"#f0f921\"]], \"type\": \"histogram2d\"}], \"histogram2dcontour\": [{\"colorbar\": {\"outlinewidth\": 0, \"ticks\": \"\"}, \"colorscale\": [[0.0, \"#0d0887\"], [0.1111111111111111, \"#46039f\"], [0.2222222222222222, \"#7201a8\"], [0.3333333333333333, \"#9c179e\"], [0.4444444444444444, \"#bd3786\"], [0.5555555555555556, \"#d8576b\"], [0.6666666666666666, \"#ed7953\"], [0.7777777777777778, \"#fb9f3a\"], [0.8888888888888888, \"#fdca26\"], [1.0, \"#f0f921\"]], \"type\": \"histogram2dcontour\"}], \"mesh3d\": [{\"colorbar\": {\"outlinewidth\": 0, \"ticks\": \"\"}, \"type\": \"mesh3d\"}], \"parcoords\": [{\"line\": {\"colorbar\": {\"outlinewidth\": 0, \"ticks\": \"\"}}, \"type\": \"parcoords\"}], \"pie\": [{\"automargin\": true, \"type\": \"pie\"}], \"scatter\": [{\"marker\": {\"colorbar\": {\"outlinewidth\": 0, \"ticks\": \"\"}}, \"type\": \"scatter\"}], \"scatter3d\": [{\"line\": {\"colorbar\": {\"outlinewidth\": 0, \"ticks\": \"\"}}, \"marker\": {\"colorbar\": {\"outlinewidth\": 0, \"ticks\": \"\"}}, \"type\": \"scatter3d\"}], \"scattercarpet\": [{\"marker\": {\"colorbar\": {\"outlinewidth\": 0, \"ticks\": \"\"}}, \"type\": \"scattercarpet\"}], \"scattergeo\": [{\"marker\": {\"colorbar\": {\"outlinewidth\": 0, \"ticks\": \"\"}}, \"type\": \"scattergeo\"}], \"scattergl\": [{\"marker\": {\"colorbar\": {\"outlinewidth\": 0, \"ticks\": \"\"}}, \"type\": \"scattergl\"}], \"scattermapbox\": [{\"marker\": {\"colorbar\": {\"outlinewidth\": 0, \"ticks\": \"\"}}, \"type\": \"scattermapbox\"}], \"scatterpolar\": [{\"marker\": {\"colorbar\": {\"outlinewidth\": 0, \"ticks\": \"\"}}, \"type\": \"scatterpolar\"}], \"scatterpolargl\": [{\"marker\": {\"colorbar\": {\"outlinewidth\": 0, \"ticks\": \"\"}}, \"type\": \"scatterpolargl\"}], \"scatterternary\": [{\"marker\": {\"colorbar\": {\"outlinewidth\": 0, \"ticks\": \"\"}}, \"type\": \"scatterternary\"}], \"surface\": [{\"colorbar\": {\"outlinewidth\": 0, \"ticks\": \"\"}, \"colorscale\": [[0.0, \"#0d0887\"], [0.1111111111111111, \"#46039f\"], [0.2222222222222222, \"#7201a8\"], [0.3333333333333333, \"#9c179e\"], [0.4444444444444444, \"#bd3786\"], [0.5555555555555556, \"#d8576b\"], [0.6666666666666666, \"#ed7953\"], [0.7777777777777778, \"#fb9f3a\"], [0.8888888888888888, \"#fdca26\"], [1.0, \"#f0f921\"]], \"type\": \"surface\"}], \"table\": [{\"cells\": {\"fill\": {\"color\": \"#EBF0F8\"}, \"line\": {\"color\": \"white\"}}, \"header\": {\"fill\": {\"color\": \"#C8D4E3\"}, \"line\": {\"color\": \"white\"}}, \"type\": \"table\"}]}, \"layout\": {\"annotationdefaults\": {\"arrowcolor\": \"#2a3f5f\", \"arrowhead\": 0, \"arrowwidth\": 1}, \"coloraxis\": {\"colorbar\": {\"outlinewidth\": 0, \"ticks\": \"\"}}, \"colorscale\": {\"diverging\": [[0, \"#8e0152\"], [0.1, \"#c51b7d\"], [0.2, \"#de77ae\"], [0.3, \"#f1b6da\"], [0.4, \"#fde0ef\"], [0.5, \"#f7f7f7\"], [0.6, \"#e6f5d0\"], [0.7, \"#b8e186\"], [0.8, \"#7fbc41\"], [0.9, \"#4d9221\"], [1, \"#276419\"]], \"sequential\": [[0.0, \"#0d0887\"], [0.1111111111111111, \"#46039f\"], [0.2222222222222222, \"#7201a8\"], [0.3333333333333333, \"#9c179e\"], [0.4444444444444444, \"#bd3786\"], [0.5555555555555556, \"#d8576b\"], [0.6666666666666666, \"#ed7953\"], [0.7777777777777778, \"#fb9f3a\"], [0.8888888888888888, \"#fdca26\"], [1.0, \"#f0f921\"]], \"sequentialminus\": [[0.0, \"#0d0887\"], [0.1111111111111111, \"#46039f\"], [0.2222222222222222, \"#7201a8\"], [0.3333333333333333, \"#9c179e\"], [0.4444444444444444, \"#bd3786\"], [0.5555555555555556, \"#d8576b\"], [0.6666666666666666, \"#ed7953\"], [0.7777777777777778, \"#fb9f3a\"], [0.8888888888888888, \"#fdca26\"], [1.0, \"#f0f921\"]]}, \"colorway\": [\"#636efa\", \"#EF553B\", \"#00cc96\", \"#ab63fa\", \"#FFA15A\", \"#19d3f3\", \"#FF6692\", \"#B6E880\", \"#FF97FF\", \"#FECB52\"], \"font\": {\"color\": \"#2a3f5f\"}, \"geo\": {\"bgcolor\": \"white\", \"lakecolor\": \"white\", \"landcolor\": \"#E5ECF6\", \"showlakes\": true, \"showland\": true, \"subunitcolor\": \"white\"}, \"hoverlabel\": {\"align\": \"left\"}, \"hovermode\": \"closest\", \"mapbox\": {\"style\": \"light\"}, \"paper_bgcolor\": \"white\", \"plot_bgcolor\": \"#E5ECF6\", \"polar\": {\"angularaxis\": {\"gridcolor\": \"white\", \"linecolor\": \"white\", \"ticks\": \"\"}, \"bgcolor\": \"#E5ECF6\", \"radialaxis\": {\"gridcolor\": \"white\", \"linecolor\": \"white\", \"ticks\": \"\"}}, \"scene\": {\"xaxis\": {\"backgroundcolor\": \"#E5ECF6\", \"gridcolor\": \"white\", \"gridwidth\": 2, \"linecolor\": \"white\", \"showbackground\": true, \"ticks\": \"\", \"zerolinecolor\": \"white\"}, \"yaxis\": {\"backgroundcolor\": \"#E5ECF6\", \"gridcolor\": \"white\", \"gridwidth\": 2, \"linecolor\": \"white\", \"showbackground\": true, \"ticks\": \"\", \"zerolinecolor\": \"white\"}, \"zaxis\": {\"backgroundcolor\": \"#E5ECF6\", \"gridcolor\": \"white\", \"gridwidth\": 2, \"linecolor\": \"white\", \"showbackground\": true, \"ticks\": \"\", \"zerolinecolor\": \"white\"}}, \"shapedefaults\": {\"line\": {\"color\": \"#2a3f5f\"}}, \"ternary\": {\"aaxis\": {\"gridcolor\": \"white\", \"linecolor\": \"white\", \"ticks\": \"\"}, \"baxis\": {\"gridcolor\": \"white\", \"linecolor\": \"white\", \"ticks\": \"\"}, \"bgcolor\": \"#E5ECF6\", \"caxis\": {\"gridcolor\": \"white\", \"linecolor\": \"white\", \"ticks\": \"\"}}, \"title\": {\"x\": 0.05}, \"xaxis\": {\"automargin\": true, \"gridcolor\": \"white\", \"linecolor\": \"white\", \"ticks\": \"\", \"title\": {\"standoff\": 15}, \"zerolinecolor\": \"white\", \"zerolinewidth\": 2}, \"yaxis\": {\"automargin\": true, \"gridcolor\": \"white\", \"linecolor\": \"white\", \"ticks\": \"\", \"title\": {\"standoff\": 15}, \"zerolinecolor\": \"white\", \"zerolinewidth\": 2}}}, \"title\": {\"text\": \"Clustering of Countries based on K-Means\"}},\n",
       "                        {\"responsive\": true}\n",
       "                    ).then(function(){\n",
       "                            \n",
       "var gd = document.getElementById('236b33fa-6f6a-4867-b645-beb5fc93ff31');\n",
       "var x = new MutationObserver(function (mutations, observer) {{\n",
       "        var display = window.getComputedStyle(gd).display;\n",
       "        if (!display || display === 'none') {{\n",
       "            console.log([gd, 'removed!']);\n",
       "            Plotly.purge(gd);\n",
       "            observer.disconnect();\n",
       "        }}\n",
       "}});\n",
       "\n",
       "// Listen for the removal of the full notebook cells\n",
       "var notebookContainer = gd.closest('#notebook-container');\n",
       "if (notebookContainer) {{\n",
       "    x.observe(notebookContainer, {childList: true});\n",
       "}}\n",
       "\n",
       "// Listen for the clearing of the current output cell\n",
       "var outputEl = gd.closest('.output');\n",
       "if (outputEl) {{\n",
       "    x.observe(outputEl, {childList: true});\n",
       "}}\n",
       "\n",
       "                        })\n",
       "                };\n",
       "                });\n",
       "            </script>\n",
       "        </div>"
      ]
     },
     "metadata": {},
     "output_type": "display_data"
    }
   ],
   "source": [
    "#Visualizing entire data kmeans clustering on a world map\n",
    "Y.insert(0,'Country',df.iloc[:,1]) #inserting country names in Y \n",
    "data2 = dict(type = 'choropleth', \n",
    "           locations = Y['Country'],\n",
    "           locationmode = 'country names',\n",
    "             colorscale = 'Reds',\n",
    "           z = Y['kmeans'], \n",
    "           text = Y['Country'],\n",
    "           colorbar = {'title':'Cluster Group'})\n",
    "layout2 = dict(title = 'Clustering of Countries based on K-Means')\n",
    "choromap2 = go.Figure(data = data2, layout = layout2)\n",
    "iplot(choromap2)"
   ]
  },
  {
   "cell_type": "markdown",
   "metadata": {},
   "source": [
    "The K-means clustering algorithm has clustered the countries into two groups. Countries with a lower Happiness Score have a darker shade of red as compared to countries with a better Happiness Score."
   ]
  },
  {
   "cell_type": "markdown",
   "metadata": {},
   "source": [
    "## Agglomerative Clustering"
   ]
  },
  {
   "cell_type": "code",
   "execution_count": 16,
   "metadata": {},
   "outputs": [
    {
     "data": {
      "application/vnd.plotly.v1+json": {
       "config": {
        "linkText": "Export to plot.ly",
        "plotlyServerURL": "https://plot.ly",
        "showLink": false
       },
       "data": [
        {
         "colorbar": {
          "title": {
           "text": "Cluster Group"
          }
         },
         "colorscale": [
          [
           0,
           "rgb(255,245,240)"
          ],
          [
           0.125,
           "rgb(254,224,210)"
          ],
          [
           0.25,
           "rgb(252,187,161)"
          ],
          [
           0.375,
           "rgb(252,146,114)"
          ],
          [
           0.5,
           "rgb(251,106,74)"
          ],
          [
           0.625,
           "rgb(239,59,44)"
          ],
          [
           0.75,
           "rgb(203,24,29)"
          ],
          [
           0.875,
           "rgb(165,15,21)"
          ],
          [
           1,
           "rgb(103,0,13)"
          ]
         ],
         "locationmode": "country names",
         "locations": [
          "Finland",
          "Denmark",
          "Norway",
          "Iceland",
          "Netherlands",
          "Switzerland",
          "Sweden",
          "New Zealand",
          "Canada",
          "Austria",
          "Australia",
          "Costa Rica",
          "Israel",
          "Luxembourg",
          "United Kingdom",
          "Ireland",
          "Germany",
          "Belgium",
          "United States",
          "Czech Republic",
          "United Arab Emirates",
          "Malta",
          "Mexico",
          "France",
          "Taiwan",
          "Chile",
          "Guatemala",
          "Saudi Arabia",
          "Qatar",
          "Spain",
          "Panama",
          "Brazil",
          "Uruguay",
          "Singapore",
          "El Salvador",
          "Italy",
          "Bahrain",
          "Slovakia",
          "Trinidad & Tobago",
          "Poland",
          "Uzbekistan",
          "Lithuania",
          "Colombia",
          "Slovenia",
          "Nicaragua",
          "Kosovo",
          "Argentina",
          "Romania",
          "Cyprus",
          "Ecuador",
          "Kuwait",
          "Thailand",
          "Latvia",
          "South Korea",
          "Estonia",
          "Jamaica",
          "Mauritius",
          "Japan",
          "Honduras",
          "Kazakhstan",
          "Bolivia",
          "Hungary",
          "Paraguay",
          "Northern Cyprus",
          "Peru",
          "Portugal",
          "Pakistan",
          "Russia",
          "Philippines",
          "Serbia",
          "Moldova",
          "Libya",
          "Montenegro",
          "Tajikistan",
          "Croatia",
          "Hong Kong",
          "Dominican Republic",
          "Bosnia and Herzegovina",
          "Turkey",
          "Malaysia",
          "Belarus",
          "Greece",
          "Mongolia",
          "North Macedonia",
          "Nigeria",
          "Kyrgyzstan",
          "Turkmenistan",
          "Algeria",
          "Morocco",
          "Azerbaijan",
          "Lebanon",
          "Indonesia",
          "China",
          "Vietnam",
          "Bhutan",
          "Cameroon",
          "Bulgaria",
          "Ghana",
          "Ivory Coast",
          "Nepal",
          "Jordan",
          "Benin",
          "Congo (Brazzaville)",
          "Gabon",
          "Laos",
          "South Africa",
          "Albania",
          "Venezuela",
          "Cambodia",
          "Palestinian Territories",
          "Senegal",
          "Somalia",
          "Namibia",
          "Niger",
          "Burkina Faso",
          "Armenia",
          "Iran",
          "Guinea",
          "Georgia",
          "Gambia",
          "Kenya",
          "Mauritania",
          "Mozambique",
          "Tunisia",
          "Bangladesh",
          "Iraq",
          "Congo (Kinshasa)",
          "Mali",
          "Sierra Leone",
          "Sri Lanka",
          "Myanmar",
          "Chad",
          "Ukraine",
          "Ethiopia",
          "Swaziland",
          "Uganda",
          "Egypt",
          "Zambia",
          "Togo",
          "India",
          "Liberia",
          "Comoros",
          "Madagascar",
          "Lesotho",
          "Burundi",
          "Zimbabwe",
          "Haiti",
          "Botswana",
          "Syria",
          "Malawi",
          "Yemen",
          "Rwanda",
          "Tanzania",
          "Afghanistan",
          "Central African Republic",
          "South Sudan"
         ],
         "text": [
          "Finland",
          "Denmark",
          "Norway",
          "Iceland",
          "Netherlands",
          "Switzerland",
          "Sweden",
          "New Zealand",
          "Canada",
          "Austria",
          "Australia",
          "Costa Rica",
          "Israel",
          "Luxembourg",
          "United Kingdom",
          "Ireland",
          "Germany",
          "Belgium",
          "United States",
          "Czech Republic",
          "United Arab Emirates",
          "Malta",
          "Mexico",
          "France",
          "Taiwan",
          "Chile",
          "Guatemala",
          "Saudi Arabia",
          "Qatar",
          "Spain",
          "Panama",
          "Brazil",
          "Uruguay",
          "Singapore",
          "El Salvador",
          "Italy",
          "Bahrain",
          "Slovakia",
          "Trinidad & Tobago",
          "Poland",
          "Uzbekistan",
          "Lithuania",
          "Colombia",
          "Slovenia",
          "Nicaragua",
          "Kosovo",
          "Argentina",
          "Romania",
          "Cyprus",
          "Ecuador",
          "Kuwait",
          "Thailand",
          "Latvia",
          "South Korea",
          "Estonia",
          "Jamaica",
          "Mauritius",
          "Japan",
          "Honduras",
          "Kazakhstan",
          "Bolivia",
          "Hungary",
          "Paraguay",
          "Northern Cyprus",
          "Peru",
          "Portugal",
          "Pakistan",
          "Russia",
          "Philippines",
          "Serbia",
          "Moldova",
          "Libya",
          "Montenegro",
          "Tajikistan",
          "Croatia",
          "Hong Kong",
          "Dominican Republic",
          "Bosnia and Herzegovina",
          "Turkey",
          "Malaysia",
          "Belarus",
          "Greece",
          "Mongolia",
          "North Macedonia",
          "Nigeria",
          "Kyrgyzstan",
          "Turkmenistan",
          "Algeria",
          "Morocco",
          "Azerbaijan",
          "Lebanon",
          "Indonesia",
          "China",
          "Vietnam",
          "Bhutan",
          "Cameroon",
          "Bulgaria",
          "Ghana",
          "Ivory Coast",
          "Nepal",
          "Jordan",
          "Benin",
          "Congo (Brazzaville)",
          "Gabon",
          "Laos",
          "South Africa",
          "Albania",
          "Venezuela",
          "Cambodia",
          "Palestinian Territories",
          "Senegal",
          "Somalia",
          "Namibia",
          "Niger",
          "Burkina Faso",
          "Armenia",
          "Iran",
          "Guinea",
          "Georgia",
          "Gambia",
          "Kenya",
          "Mauritania",
          "Mozambique",
          "Tunisia",
          "Bangladesh",
          "Iraq",
          "Congo (Kinshasa)",
          "Mali",
          "Sierra Leone",
          "Sri Lanka",
          "Myanmar",
          "Chad",
          "Ukraine",
          "Ethiopia",
          "Swaziland",
          "Uganda",
          "Egypt",
          "Zambia",
          "Togo",
          "India",
          "Liberia",
          "Comoros",
          "Madagascar",
          "Lesotho",
          "Burundi",
          "Zimbabwe",
          "Haiti",
          "Botswana",
          "Syria",
          "Malawi",
          "Yemen",
          "Rwanda",
          "Tanzania",
          "Afghanistan",
          "Central African Republic",
          "South Sudan"
         ],
         "type": "choropleth",
         "z": [
          0,
          0,
          0,
          0,
          0,
          0,
          0,
          0,
          0,
          0,
          0,
          0,
          0,
          0,
          0,
          0,
          0,
          0,
          0,
          0,
          0,
          0,
          0,
          0,
          0,
          0,
          0,
          0,
          0,
          0,
          0,
          0,
          0,
          0,
          0,
          0,
          0,
          0,
          0,
          0,
          0,
          0,
          0,
          0,
          0,
          0,
          0,
          0,
          0,
          0,
          0,
          0,
          0,
          0,
          0,
          0,
          0,
          0,
          0,
          0,
          0,
          0,
          0,
          0,
          0,
          0,
          0,
          0,
          0,
          0,
          0,
          0,
          0,
          1,
          0,
          0,
          0,
          0,
          0,
          0,
          0,
          0,
          0,
          0,
          1,
          1,
          0,
          1,
          1,
          1,
          1,
          1,
          1,
          1,
          1,
          1,
          1,
          1,
          1,
          1,
          1,
          1,
          1,
          1,
          1,
          1,
          1,
          1,
          1,
          1,
          1,
          1,
          1,
          1,
          1,
          1,
          1,
          1,
          1,
          1,
          1,
          1,
          1,
          1,
          1,
          1,
          1,
          1,
          1,
          1,
          1,
          1,
          1,
          1,
          1,
          1,
          1,
          1,
          1,
          1,
          1,
          1,
          1,
          1,
          1,
          1,
          1,
          1,
          1,
          1,
          1,
          1,
          1,
          1,
          1,
          1
         ]
        }
       ],
       "layout": {
        "template": {
         "data": {
          "bar": [
           {
            "error_x": {
             "color": "#2a3f5f"
            },
            "error_y": {
             "color": "#2a3f5f"
            },
            "marker": {
             "line": {
              "color": "#E5ECF6",
              "width": 0.5
             }
            },
            "type": "bar"
           }
          ],
          "barpolar": [
           {
            "marker": {
             "line": {
              "color": "#E5ECF6",
              "width": 0.5
             }
            },
            "type": "barpolar"
           }
          ],
          "carpet": [
           {
            "aaxis": {
             "endlinecolor": "#2a3f5f",
             "gridcolor": "white",
             "linecolor": "white",
             "minorgridcolor": "white",
             "startlinecolor": "#2a3f5f"
            },
            "baxis": {
             "endlinecolor": "#2a3f5f",
             "gridcolor": "white",
             "linecolor": "white",
             "minorgridcolor": "white",
             "startlinecolor": "#2a3f5f"
            },
            "type": "carpet"
           }
          ],
          "choropleth": [
           {
            "colorbar": {
             "outlinewidth": 0,
             "ticks": ""
            },
            "type": "choropleth"
           }
          ],
          "contour": [
           {
            "colorbar": {
             "outlinewidth": 0,
             "ticks": ""
            },
            "colorscale": [
             [
              0,
              "#0d0887"
             ],
             [
              0.1111111111111111,
              "#46039f"
             ],
             [
              0.2222222222222222,
              "#7201a8"
             ],
             [
              0.3333333333333333,
              "#9c179e"
             ],
             [
              0.4444444444444444,
              "#bd3786"
             ],
             [
              0.5555555555555556,
              "#d8576b"
             ],
             [
              0.6666666666666666,
              "#ed7953"
             ],
             [
              0.7777777777777778,
              "#fb9f3a"
             ],
             [
              0.8888888888888888,
              "#fdca26"
             ],
             [
              1,
              "#f0f921"
             ]
            ],
            "type": "contour"
           }
          ],
          "contourcarpet": [
           {
            "colorbar": {
             "outlinewidth": 0,
             "ticks": ""
            },
            "type": "contourcarpet"
           }
          ],
          "heatmap": [
           {
            "colorbar": {
             "outlinewidth": 0,
             "ticks": ""
            },
            "colorscale": [
             [
              0,
              "#0d0887"
             ],
             [
              0.1111111111111111,
              "#46039f"
             ],
             [
              0.2222222222222222,
              "#7201a8"
             ],
             [
              0.3333333333333333,
              "#9c179e"
             ],
             [
              0.4444444444444444,
              "#bd3786"
             ],
             [
              0.5555555555555556,
              "#d8576b"
             ],
             [
              0.6666666666666666,
              "#ed7953"
             ],
             [
              0.7777777777777778,
              "#fb9f3a"
             ],
             [
              0.8888888888888888,
              "#fdca26"
             ],
             [
              1,
              "#f0f921"
             ]
            ],
            "type": "heatmap"
           }
          ],
          "heatmapgl": [
           {
            "colorbar": {
             "outlinewidth": 0,
             "ticks": ""
            },
            "colorscale": [
             [
              0,
              "#0d0887"
             ],
             [
              0.1111111111111111,
              "#46039f"
             ],
             [
              0.2222222222222222,
              "#7201a8"
             ],
             [
              0.3333333333333333,
              "#9c179e"
             ],
             [
              0.4444444444444444,
              "#bd3786"
             ],
             [
              0.5555555555555556,
              "#d8576b"
             ],
             [
              0.6666666666666666,
              "#ed7953"
             ],
             [
              0.7777777777777778,
              "#fb9f3a"
             ],
             [
              0.8888888888888888,
              "#fdca26"
             ],
             [
              1,
              "#f0f921"
             ]
            ],
            "type": "heatmapgl"
           }
          ],
          "histogram": [
           {
            "marker": {
             "colorbar": {
              "outlinewidth": 0,
              "ticks": ""
             }
            },
            "type": "histogram"
           }
          ],
          "histogram2d": [
           {
            "colorbar": {
             "outlinewidth": 0,
             "ticks": ""
            },
            "colorscale": [
             [
              0,
              "#0d0887"
             ],
             [
              0.1111111111111111,
              "#46039f"
             ],
             [
              0.2222222222222222,
              "#7201a8"
             ],
             [
              0.3333333333333333,
              "#9c179e"
             ],
             [
              0.4444444444444444,
              "#bd3786"
             ],
             [
              0.5555555555555556,
              "#d8576b"
             ],
             [
              0.6666666666666666,
              "#ed7953"
             ],
             [
              0.7777777777777778,
              "#fb9f3a"
             ],
             [
              0.8888888888888888,
              "#fdca26"
             ],
             [
              1,
              "#f0f921"
             ]
            ],
            "type": "histogram2d"
           }
          ],
          "histogram2dcontour": [
           {
            "colorbar": {
             "outlinewidth": 0,
             "ticks": ""
            },
            "colorscale": [
             [
              0,
              "#0d0887"
             ],
             [
              0.1111111111111111,
              "#46039f"
             ],
             [
              0.2222222222222222,
              "#7201a8"
             ],
             [
              0.3333333333333333,
              "#9c179e"
             ],
             [
              0.4444444444444444,
              "#bd3786"
             ],
             [
              0.5555555555555556,
              "#d8576b"
             ],
             [
              0.6666666666666666,
              "#ed7953"
             ],
             [
              0.7777777777777778,
              "#fb9f3a"
             ],
             [
              0.8888888888888888,
              "#fdca26"
             ],
             [
              1,
              "#f0f921"
             ]
            ],
            "type": "histogram2dcontour"
           }
          ],
          "mesh3d": [
           {
            "colorbar": {
             "outlinewidth": 0,
             "ticks": ""
            },
            "type": "mesh3d"
           }
          ],
          "parcoords": [
           {
            "line": {
             "colorbar": {
              "outlinewidth": 0,
              "ticks": ""
             }
            },
            "type": "parcoords"
           }
          ],
          "pie": [
           {
            "automargin": true,
            "type": "pie"
           }
          ],
          "scatter": [
           {
            "marker": {
             "colorbar": {
              "outlinewidth": 0,
              "ticks": ""
             }
            },
            "type": "scatter"
           }
          ],
          "scatter3d": [
           {
            "line": {
             "colorbar": {
              "outlinewidth": 0,
              "ticks": ""
             }
            },
            "marker": {
             "colorbar": {
              "outlinewidth": 0,
              "ticks": ""
             }
            },
            "type": "scatter3d"
           }
          ],
          "scattercarpet": [
           {
            "marker": {
             "colorbar": {
              "outlinewidth": 0,
              "ticks": ""
             }
            },
            "type": "scattercarpet"
           }
          ],
          "scattergeo": [
           {
            "marker": {
             "colorbar": {
              "outlinewidth": 0,
              "ticks": ""
             }
            },
            "type": "scattergeo"
           }
          ],
          "scattergl": [
           {
            "marker": {
             "colorbar": {
              "outlinewidth": 0,
              "ticks": ""
             }
            },
            "type": "scattergl"
           }
          ],
          "scattermapbox": [
           {
            "marker": {
             "colorbar": {
              "outlinewidth": 0,
              "ticks": ""
             }
            },
            "type": "scattermapbox"
           }
          ],
          "scatterpolar": [
           {
            "marker": {
             "colorbar": {
              "outlinewidth": 0,
              "ticks": ""
             }
            },
            "type": "scatterpolar"
           }
          ],
          "scatterpolargl": [
           {
            "marker": {
             "colorbar": {
              "outlinewidth": 0,
              "ticks": ""
             }
            },
            "type": "scatterpolargl"
           }
          ],
          "scatterternary": [
           {
            "marker": {
             "colorbar": {
              "outlinewidth": 0,
              "ticks": ""
             }
            },
            "type": "scatterternary"
           }
          ],
          "surface": [
           {
            "colorbar": {
             "outlinewidth": 0,
             "ticks": ""
            },
            "colorscale": [
             [
              0,
              "#0d0887"
             ],
             [
              0.1111111111111111,
              "#46039f"
             ],
             [
              0.2222222222222222,
              "#7201a8"
             ],
             [
              0.3333333333333333,
              "#9c179e"
             ],
             [
              0.4444444444444444,
              "#bd3786"
             ],
             [
              0.5555555555555556,
              "#d8576b"
             ],
             [
              0.6666666666666666,
              "#ed7953"
             ],
             [
              0.7777777777777778,
              "#fb9f3a"
             ],
             [
              0.8888888888888888,
              "#fdca26"
             ],
             [
              1,
              "#f0f921"
             ]
            ],
            "type": "surface"
           }
          ],
          "table": [
           {
            "cells": {
             "fill": {
              "color": "#EBF0F8"
             },
             "line": {
              "color": "white"
             }
            },
            "header": {
             "fill": {
              "color": "#C8D4E3"
             },
             "line": {
              "color": "white"
             }
            },
            "type": "table"
           }
          ]
         },
         "layout": {
          "annotationdefaults": {
           "arrowcolor": "#2a3f5f",
           "arrowhead": 0,
           "arrowwidth": 1
          },
          "coloraxis": {
           "colorbar": {
            "outlinewidth": 0,
            "ticks": ""
           }
          },
          "colorscale": {
           "diverging": [
            [
             0,
             "#8e0152"
            ],
            [
             0.1,
             "#c51b7d"
            ],
            [
             0.2,
             "#de77ae"
            ],
            [
             0.3,
             "#f1b6da"
            ],
            [
             0.4,
             "#fde0ef"
            ],
            [
             0.5,
             "#f7f7f7"
            ],
            [
             0.6,
             "#e6f5d0"
            ],
            [
             0.7,
             "#b8e186"
            ],
            [
             0.8,
             "#7fbc41"
            ],
            [
             0.9,
             "#4d9221"
            ],
            [
             1,
             "#276419"
            ]
           ],
           "sequential": [
            [
             0,
             "#0d0887"
            ],
            [
             0.1111111111111111,
             "#46039f"
            ],
            [
             0.2222222222222222,
             "#7201a8"
            ],
            [
             0.3333333333333333,
             "#9c179e"
            ],
            [
             0.4444444444444444,
             "#bd3786"
            ],
            [
             0.5555555555555556,
             "#d8576b"
            ],
            [
             0.6666666666666666,
             "#ed7953"
            ],
            [
             0.7777777777777778,
             "#fb9f3a"
            ],
            [
             0.8888888888888888,
             "#fdca26"
            ],
            [
             1,
             "#f0f921"
            ]
           ],
           "sequentialminus": [
            [
             0,
             "#0d0887"
            ],
            [
             0.1111111111111111,
             "#46039f"
            ],
            [
             0.2222222222222222,
             "#7201a8"
            ],
            [
             0.3333333333333333,
             "#9c179e"
            ],
            [
             0.4444444444444444,
             "#bd3786"
            ],
            [
             0.5555555555555556,
             "#d8576b"
            ],
            [
             0.6666666666666666,
             "#ed7953"
            ],
            [
             0.7777777777777778,
             "#fb9f3a"
            ],
            [
             0.8888888888888888,
             "#fdca26"
            ],
            [
             1,
             "#f0f921"
            ]
           ]
          },
          "colorway": [
           "#636efa",
           "#EF553B",
           "#00cc96",
           "#ab63fa",
           "#FFA15A",
           "#19d3f3",
           "#FF6692",
           "#B6E880",
           "#FF97FF",
           "#FECB52"
          ],
          "font": {
           "color": "#2a3f5f"
          },
          "geo": {
           "bgcolor": "white",
           "lakecolor": "white",
           "landcolor": "#E5ECF6",
           "showlakes": true,
           "showland": true,
           "subunitcolor": "white"
          },
          "hoverlabel": {
           "align": "left"
          },
          "hovermode": "closest",
          "mapbox": {
           "style": "light"
          },
          "paper_bgcolor": "white",
          "plot_bgcolor": "#E5ECF6",
          "polar": {
           "angularaxis": {
            "gridcolor": "white",
            "linecolor": "white",
            "ticks": ""
           },
           "bgcolor": "#E5ECF6",
           "radialaxis": {
            "gridcolor": "white",
            "linecolor": "white",
            "ticks": ""
           }
          },
          "scene": {
           "xaxis": {
            "backgroundcolor": "#E5ECF6",
            "gridcolor": "white",
            "gridwidth": 2,
            "linecolor": "white",
            "showbackground": true,
            "ticks": "",
            "zerolinecolor": "white"
           },
           "yaxis": {
            "backgroundcolor": "#E5ECF6",
            "gridcolor": "white",
            "gridwidth": 2,
            "linecolor": "white",
            "showbackground": true,
            "ticks": "",
            "zerolinecolor": "white"
           },
           "zaxis": {
            "backgroundcolor": "#E5ECF6",
            "gridcolor": "white",
            "gridwidth": 2,
            "linecolor": "white",
            "showbackground": true,
            "ticks": "",
            "zerolinecolor": "white"
           }
          },
          "shapedefaults": {
           "line": {
            "color": "#2a3f5f"
           }
          },
          "ternary": {
           "aaxis": {
            "gridcolor": "white",
            "linecolor": "white",
            "ticks": ""
           },
           "baxis": {
            "gridcolor": "white",
            "linecolor": "white",
            "ticks": ""
           },
           "bgcolor": "#E5ECF6",
           "caxis": {
            "gridcolor": "white",
            "linecolor": "white",
            "ticks": ""
           }
          },
          "title": {
           "x": 0.05
          },
          "xaxis": {
           "automargin": true,
           "gridcolor": "white",
           "linecolor": "white",
           "ticks": "",
           "title": {
            "standoff": 15
           },
           "zerolinecolor": "white",
           "zerolinewidth": 2
          },
          "yaxis": {
           "automargin": true,
           "gridcolor": "white",
           "linecolor": "white",
           "ticks": "",
           "title": {
            "standoff": 15
           },
           "zerolinecolor": "white",
           "zerolinewidth": 2
          }
         }
        },
        "title": {
         "text": "Clustering of Countries based on Agglomerative Clustering"
        }
       }
      },
      "text/html": [
       "<div>\n",
       "        \n",
       "        \n",
       "            <div id=\"7f078343-9592-4990-8fd5-63ef1451f201\" class=\"plotly-graph-div\" style=\"height:525px; width:100%;\"></div>\n",
       "            <script type=\"text/javascript\">\n",
       "                require([\"plotly\"], function(Plotly) {\n",
       "                    window.PLOTLYENV=window.PLOTLYENV || {};\n",
       "                    \n",
       "                if (document.getElementById(\"7f078343-9592-4990-8fd5-63ef1451f201\")) {\n",
       "                    Plotly.newPlot(\n",
       "                        '7f078343-9592-4990-8fd5-63ef1451f201',\n",
       "                        [{\"colorbar\": {\"title\": {\"text\": \"Cluster Group\"}}, \"colorscale\": [[0.0, \"rgb(255,245,240)\"], [0.125, \"rgb(254,224,210)\"], [0.25, \"rgb(252,187,161)\"], [0.375, \"rgb(252,146,114)\"], [0.5, \"rgb(251,106,74)\"], [0.625, \"rgb(239,59,44)\"], [0.75, \"rgb(203,24,29)\"], [0.875, \"rgb(165,15,21)\"], [1.0, \"rgb(103,0,13)\"]], \"locationmode\": \"country names\", \"locations\": [\"Finland\", \"Denmark\", \"Norway\", \"Iceland\", \"Netherlands\", \"Switzerland\", \"Sweden\", \"New Zealand\", \"Canada\", \"Austria\", \"Australia\", \"Costa Rica\", \"Israel\", \"Luxembourg\", \"United Kingdom\", \"Ireland\", \"Germany\", \"Belgium\", \"United States\", \"Czech Republic\", \"United Arab Emirates\", \"Malta\", \"Mexico\", \"France\", \"Taiwan\", \"Chile\", \"Guatemala\", \"Saudi Arabia\", \"Qatar\", \"Spain\", \"Panama\", \"Brazil\", \"Uruguay\", \"Singapore\", \"El Salvador\", \"Italy\", \"Bahrain\", \"Slovakia\", \"Trinidad & Tobago\", \"Poland\", \"Uzbekistan\", \"Lithuania\", \"Colombia\", \"Slovenia\", \"Nicaragua\", \"Kosovo\", \"Argentina\", \"Romania\", \"Cyprus\", \"Ecuador\", \"Kuwait\", \"Thailand\", \"Latvia\", \"South Korea\", \"Estonia\", \"Jamaica\", \"Mauritius\", \"Japan\", \"Honduras\", \"Kazakhstan\", \"Bolivia\", \"Hungary\", \"Paraguay\", \"Northern Cyprus\", \"Peru\", \"Portugal\", \"Pakistan\", \"Russia\", \"Philippines\", \"Serbia\", \"Moldova\", \"Libya\", \"Montenegro\", \"Tajikistan\", \"Croatia\", \"Hong Kong\", \"Dominican Republic\", \"Bosnia and Herzegovina\", \"Turkey\", \"Malaysia\", \"Belarus\", \"Greece\", \"Mongolia\", \"North Macedonia\", \"Nigeria\", \"Kyrgyzstan\", \"Turkmenistan\", \"Algeria\", \"Morocco\", \"Azerbaijan\", \"Lebanon\", \"Indonesia\", \"China\", \"Vietnam\", \"Bhutan\", \"Cameroon\", \"Bulgaria\", \"Ghana\", \"Ivory Coast\", \"Nepal\", \"Jordan\", \"Benin\", \"Congo (Brazzaville)\", \"Gabon\", \"Laos\", \"South Africa\", \"Albania\", \"Venezuela\", \"Cambodia\", \"Palestinian Territories\", \"Senegal\", \"Somalia\", \"Namibia\", \"Niger\", \"Burkina Faso\", \"Armenia\", \"Iran\", \"Guinea\", \"Georgia\", \"Gambia\", \"Kenya\", \"Mauritania\", \"Mozambique\", \"Tunisia\", \"Bangladesh\", \"Iraq\", \"Congo (Kinshasa)\", \"Mali\", \"Sierra Leone\", \"Sri Lanka\", \"Myanmar\", \"Chad\", \"Ukraine\", \"Ethiopia\", \"Swaziland\", \"Uganda\", \"Egypt\", \"Zambia\", \"Togo\", \"India\", \"Liberia\", \"Comoros\", \"Madagascar\", \"Lesotho\", \"Burundi\", \"Zimbabwe\", \"Haiti\", \"Botswana\", \"Syria\", \"Malawi\", \"Yemen\", \"Rwanda\", \"Tanzania\", \"Afghanistan\", \"Central African Republic\", \"South Sudan\"], \"text\": [\"Finland\", \"Denmark\", \"Norway\", \"Iceland\", \"Netherlands\", \"Switzerland\", \"Sweden\", \"New Zealand\", \"Canada\", \"Austria\", \"Australia\", \"Costa Rica\", \"Israel\", \"Luxembourg\", \"United Kingdom\", \"Ireland\", \"Germany\", \"Belgium\", \"United States\", \"Czech Republic\", \"United Arab Emirates\", \"Malta\", \"Mexico\", \"France\", \"Taiwan\", \"Chile\", \"Guatemala\", \"Saudi Arabia\", \"Qatar\", \"Spain\", \"Panama\", \"Brazil\", \"Uruguay\", \"Singapore\", \"El Salvador\", \"Italy\", \"Bahrain\", \"Slovakia\", \"Trinidad & Tobago\", \"Poland\", \"Uzbekistan\", \"Lithuania\", \"Colombia\", \"Slovenia\", \"Nicaragua\", \"Kosovo\", \"Argentina\", \"Romania\", \"Cyprus\", \"Ecuador\", \"Kuwait\", \"Thailand\", \"Latvia\", \"South Korea\", \"Estonia\", \"Jamaica\", \"Mauritius\", \"Japan\", \"Honduras\", \"Kazakhstan\", \"Bolivia\", \"Hungary\", \"Paraguay\", \"Northern Cyprus\", \"Peru\", \"Portugal\", \"Pakistan\", \"Russia\", \"Philippines\", \"Serbia\", \"Moldova\", \"Libya\", \"Montenegro\", \"Tajikistan\", \"Croatia\", \"Hong Kong\", \"Dominican Republic\", \"Bosnia and Herzegovina\", \"Turkey\", \"Malaysia\", \"Belarus\", \"Greece\", \"Mongolia\", \"North Macedonia\", \"Nigeria\", \"Kyrgyzstan\", \"Turkmenistan\", \"Algeria\", \"Morocco\", \"Azerbaijan\", \"Lebanon\", \"Indonesia\", \"China\", \"Vietnam\", \"Bhutan\", \"Cameroon\", \"Bulgaria\", \"Ghana\", \"Ivory Coast\", \"Nepal\", \"Jordan\", \"Benin\", \"Congo (Brazzaville)\", \"Gabon\", \"Laos\", \"South Africa\", \"Albania\", \"Venezuela\", \"Cambodia\", \"Palestinian Territories\", \"Senegal\", \"Somalia\", \"Namibia\", \"Niger\", \"Burkina Faso\", \"Armenia\", \"Iran\", \"Guinea\", \"Georgia\", \"Gambia\", \"Kenya\", \"Mauritania\", \"Mozambique\", \"Tunisia\", \"Bangladesh\", \"Iraq\", \"Congo (Kinshasa)\", \"Mali\", \"Sierra Leone\", \"Sri Lanka\", \"Myanmar\", \"Chad\", \"Ukraine\", \"Ethiopia\", \"Swaziland\", \"Uganda\", \"Egypt\", \"Zambia\", \"Togo\", \"India\", \"Liberia\", \"Comoros\", \"Madagascar\", \"Lesotho\", \"Burundi\", \"Zimbabwe\", \"Haiti\", \"Botswana\", \"Syria\", \"Malawi\", \"Yemen\", \"Rwanda\", \"Tanzania\", \"Afghanistan\", \"Central African Republic\", \"South Sudan\"], \"type\": \"choropleth\", \"z\": [0, 0, 0, 0, 0, 0, 0, 0, 0, 0, 0, 0, 0, 0, 0, 0, 0, 0, 0, 0, 0, 0, 0, 0, 0, 0, 0, 0, 0, 0, 0, 0, 0, 0, 0, 0, 0, 0, 0, 0, 0, 0, 0, 0, 0, 0, 0, 0, 0, 0, 0, 0, 0, 0, 0, 0, 0, 0, 0, 0, 0, 0, 0, 0, 0, 0, 0, 0, 0, 0, 0, 0, 0, 1, 0, 0, 0, 0, 0, 0, 0, 0, 0, 0, 1, 1, 0, 1, 1, 1, 1, 1, 1, 1, 1, 1, 1, 1, 1, 1, 1, 1, 1, 1, 1, 1, 1, 1, 1, 1, 1, 1, 1, 1, 1, 1, 1, 1, 1, 1, 1, 1, 1, 1, 1, 1, 1, 1, 1, 1, 1, 1, 1, 1, 1, 1, 1, 1, 1, 1, 1, 1, 1, 1, 1, 1, 1, 1, 1, 1, 1, 1, 1, 1, 1, 1]}],\n",
       "                        {\"template\": {\"data\": {\"bar\": [{\"error_x\": {\"color\": \"#2a3f5f\"}, \"error_y\": {\"color\": \"#2a3f5f\"}, \"marker\": {\"line\": {\"color\": \"#E5ECF6\", \"width\": 0.5}}, \"type\": \"bar\"}], \"barpolar\": [{\"marker\": {\"line\": {\"color\": \"#E5ECF6\", \"width\": 0.5}}, \"type\": \"barpolar\"}], \"carpet\": [{\"aaxis\": {\"endlinecolor\": \"#2a3f5f\", \"gridcolor\": \"white\", \"linecolor\": \"white\", \"minorgridcolor\": \"white\", \"startlinecolor\": \"#2a3f5f\"}, \"baxis\": {\"endlinecolor\": \"#2a3f5f\", \"gridcolor\": \"white\", \"linecolor\": \"white\", \"minorgridcolor\": \"white\", \"startlinecolor\": \"#2a3f5f\"}, \"type\": \"carpet\"}], \"choropleth\": [{\"colorbar\": {\"outlinewidth\": 0, \"ticks\": \"\"}, \"type\": \"choropleth\"}], \"contour\": [{\"colorbar\": {\"outlinewidth\": 0, \"ticks\": \"\"}, \"colorscale\": [[0.0, \"#0d0887\"], [0.1111111111111111, \"#46039f\"], [0.2222222222222222, \"#7201a8\"], [0.3333333333333333, \"#9c179e\"], [0.4444444444444444, \"#bd3786\"], [0.5555555555555556, \"#d8576b\"], [0.6666666666666666, \"#ed7953\"], [0.7777777777777778, \"#fb9f3a\"], [0.8888888888888888, \"#fdca26\"], [1.0, \"#f0f921\"]], \"type\": \"contour\"}], \"contourcarpet\": [{\"colorbar\": {\"outlinewidth\": 0, \"ticks\": \"\"}, \"type\": \"contourcarpet\"}], \"heatmap\": [{\"colorbar\": {\"outlinewidth\": 0, \"ticks\": \"\"}, \"colorscale\": [[0.0, \"#0d0887\"], [0.1111111111111111, \"#46039f\"], [0.2222222222222222, \"#7201a8\"], [0.3333333333333333, \"#9c179e\"], [0.4444444444444444, \"#bd3786\"], [0.5555555555555556, \"#d8576b\"], [0.6666666666666666, \"#ed7953\"], [0.7777777777777778, \"#fb9f3a\"], [0.8888888888888888, \"#fdca26\"], [1.0, \"#f0f921\"]], \"type\": \"heatmap\"}], \"heatmapgl\": [{\"colorbar\": {\"outlinewidth\": 0, \"ticks\": \"\"}, \"colorscale\": [[0.0, \"#0d0887\"], [0.1111111111111111, \"#46039f\"], [0.2222222222222222, \"#7201a8\"], [0.3333333333333333, \"#9c179e\"], [0.4444444444444444, \"#bd3786\"], [0.5555555555555556, \"#d8576b\"], [0.6666666666666666, \"#ed7953\"], [0.7777777777777778, \"#fb9f3a\"], [0.8888888888888888, \"#fdca26\"], [1.0, \"#f0f921\"]], \"type\": \"heatmapgl\"}], \"histogram\": [{\"marker\": {\"colorbar\": {\"outlinewidth\": 0, \"ticks\": \"\"}}, \"type\": \"histogram\"}], \"histogram2d\": [{\"colorbar\": {\"outlinewidth\": 0, \"ticks\": \"\"}, \"colorscale\": [[0.0, \"#0d0887\"], [0.1111111111111111, \"#46039f\"], [0.2222222222222222, \"#7201a8\"], [0.3333333333333333, \"#9c179e\"], [0.4444444444444444, \"#bd3786\"], [0.5555555555555556, \"#d8576b\"], [0.6666666666666666, \"#ed7953\"], [0.7777777777777778, \"#fb9f3a\"], [0.8888888888888888, \"#fdca26\"], [1.0, \"#f0f921\"]], \"type\": \"histogram2d\"}], \"histogram2dcontour\": [{\"colorbar\": {\"outlinewidth\": 0, \"ticks\": \"\"}, \"colorscale\": [[0.0, \"#0d0887\"], [0.1111111111111111, \"#46039f\"], [0.2222222222222222, \"#7201a8\"], [0.3333333333333333, \"#9c179e\"], [0.4444444444444444, \"#bd3786\"], [0.5555555555555556, \"#d8576b\"], [0.6666666666666666, \"#ed7953\"], [0.7777777777777778, \"#fb9f3a\"], [0.8888888888888888, \"#fdca26\"], [1.0, \"#f0f921\"]], \"type\": \"histogram2dcontour\"}], \"mesh3d\": [{\"colorbar\": {\"outlinewidth\": 0, \"ticks\": \"\"}, \"type\": \"mesh3d\"}], \"parcoords\": [{\"line\": {\"colorbar\": {\"outlinewidth\": 0, \"ticks\": \"\"}}, \"type\": \"parcoords\"}], \"pie\": [{\"automargin\": true, \"type\": \"pie\"}], \"scatter\": [{\"marker\": {\"colorbar\": {\"outlinewidth\": 0, \"ticks\": \"\"}}, \"type\": \"scatter\"}], \"scatter3d\": [{\"line\": {\"colorbar\": {\"outlinewidth\": 0, \"ticks\": \"\"}}, \"marker\": {\"colorbar\": {\"outlinewidth\": 0, \"ticks\": \"\"}}, \"type\": \"scatter3d\"}], \"scattercarpet\": [{\"marker\": {\"colorbar\": {\"outlinewidth\": 0, \"ticks\": \"\"}}, \"type\": \"scattercarpet\"}], \"scattergeo\": [{\"marker\": {\"colorbar\": {\"outlinewidth\": 0, \"ticks\": \"\"}}, \"type\": \"scattergeo\"}], \"scattergl\": [{\"marker\": {\"colorbar\": {\"outlinewidth\": 0, \"ticks\": \"\"}}, \"type\": \"scattergl\"}], \"scattermapbox\": [{\"marker\": {\"colorbar\": {\"outlinewidth\": 0, \"ticks\": \"\"}}, \"type\": \"scattermapbox\"}], \"scatterpolar\": [{\"marker\": {\"colorbar\": {\"outlinewidth\": 0, \"ticks\": \"\"}}, \"type\": \"scatterpolar\"}], \"scatterpolargl\": [{\"marker\": {\"colorbar\": {\"outlinewidth\": 0, \"ticks\": \"\"}}, \"type\": \"scatterpolargl\"}], \"scatterternary\": [{\"marker\": {\"colorbar\": {\"outlinewidth\": 0, \"ticks\": \"\"}}, \"type\": \"scatterternary\"}], \"surface\": [{\"colorbar\": {\"outlinewidth\": 0, \"ticks\": \"\"}, \"colorscale\": [[0.0, \"#0d0887\"], [0.1111111111111111, \"#46039f\"], [0.2222222222222222, \"#7201a8\"], [0.3333333333333333, \"#9c179e\"], [0.4444444444444444, \"#bd3786\"], [0.5555555555555556, \"#d8576b\"], [0.6666666666666666, \"#ed7953\"], [0.7777777777777778, \"#fb9f3a\"], [0.8888888888888888, \"#fdca26\"], [1.0, \"#f0f921\"]], \"type\": \"surface\"}], \"table\": [{\"cells\": {\"fill\": {\"color\": \"#EBF0F8\"}, \"line\": {\"color\": \"white\"}}, \"header\": {\"fill\": {\"color\": \"#C8D4E3\"}, \"line\": {\"color\": \"white\"}}, \"type\": \"table\"}]}, \"layout\": {\"annotationdefaults\": {\"arrowcolor\": \"#2a3f5f\", \"arrowhead\": 0, \"arrowwidth\": 1}, \"coloraxis\": {\"colorbar\": {\"outlinewidth\": 0, \"ticks\": \"\"}}, \"colorscale\": {\"diverging\": [[0, \"#8e0152\"], [0.1, \"#c51b7d\"], [0.2, \"#de77ae\"], [0.3, \"#f1b6da\"], [0.4, \"#fde0ef\"], [0.5, \"#f7f7f7\"], [0.6, \"#e6f5d0\"], [0.7, \"#b8e186\"], [0.8, \"#7fbc41\"], [0.9, \"#4d9221\"], [1, \"#276419\"]], \"sequential\": [[0.0, \"#0d0887\"], [0.1111111111111111, \"#46039f\"], [0.2222222222222222, \"#7201a8\"], [0.3333333333333333, \"#9c179e\"], [0.4444444444444444, \"#bd3786\"], [0.5555555555555556, \"#d8576b\"], [0.6666666666666666, \"#ed7953\"], [0.7777777777777778, \"#fb9f3a\"], [0.8888888888888888, \"#fdca26\"], [1.0, \"#f0f921\"]], \"sequentialminus\": [[0.0, \"#0d0887\"], [0.1111111111111111, \"#46039f\"], [0.2222222222222222, \"#7201a8\"], [0.3333333333333333, \"#9c179e\"], [0.4444444444444444, \"#bd3786\"], [0.5555555555555556, \"#d8576b\"], [0.6666666666666666, \"#ed7953\"], [0.7777777777777778, \"#fb9f3a\"], [0.8888888888888888, \"#fdca26\"], [1.0, \"#f0f921\"]]}, \"colorway\": [\"#636efa\", \"#EF553B\", \"#00cc96\", \"#ab63fa\", \"#FFA15A\", \"#19d3f3\", \"#FF6692\", \"#B6E880\", \"#FF97FF\", \"#FECB52\"], \"font\": {\"color\": \"#2a3f5f\"}, \"geo\": {\"bgcolor\": \"white\", \"lakecolor\": \"white\", \"landcolor\": \"#E5ECF6\", \"showlakes\": true, \"showland\": true, \"subunitcolor\": \"white\"}, \"hoverlabel\": {\"align\": \"left\"}, \"hovermode\": \"closest\", \"mapbox\": {\"style\": \"light\"}, \"paper_bgcolor\": \"white\", \"plot_bgcolor\": \"#E5ECF6\", \"polar\": {\"angularaxis\": {\"gridcolor\": \"white\", \"linecolor\": \"white\", \"ticks\": \"\"}, \"bgcolor\": \"#E5ECF6\", \"radialaxis\": {\"gridcolor\": \"white\", \"linecolor\": \"white\", \"ticks\": \"\"}}, \"scene\": {\"xaxis\": {\"backgroundcolor\": \"#E5ECF6\", \"gridcolor\": \"white\", \"gridwidth\": 2, \"linecolor\": \"white\", \"showbackground\": true, \"ticks\": \"\", \"zerolinecolor\": \"white\"}, \"yaxis\": {\"backgroundcolor\": \"#E5ECF6\", \"gridcolor\": \"white\", \"gridwidth\": 2, \"linecolor\": \"white\", \"showbackground\": true, \"ticks\": \"\", \"zerolinecolor\": \"white\"}, \"zaxis\": {\"backgroundcolor\": \"#E5ECF6\", \"gridcolor\": \"white\", \"gridwidth\": 2, \"linecolor\": \"white\", \"showbackground\": true, \"ticks\": \"\", \"zerolinecolor\": \"white\"}}, \"shapedefaults\": {\"line\": {\"color\": \"#2a3f5f\"}}, \"ternary\": {\"aaxis\": {\"gridcolor\": \"white\", \"linecolor\": \"white\", \"ticks\": \"\"}, \"baxis\": {\"gridcolor\": \"white\", \"linecolor\": \"white\", \"ticks\": \"\"}, \"bgcolor\": \"#E5ECF6\", \"caxis\": {\"gridcolor\": \"white\", \"linecolor\": \"white\", \"ticks\": \"\"}}, \"title\": {\"x\": 0.05}, \"xaxis\": {\"automargin\": true, \"gridcolor\": \"white\", \"linecolor\": \"white\", \"ticks\": \"\", \"title\": {\"standoff\": 15}, \"zerolinecolor\": \"white\", \"zerolinewidth\": 2}, \"yaxis\": {\"automargin\": true, \"gridcolor\": \"white\", \"linecolor\": \"white\", \"ticks\": \"\", \"title\": {\"standoff\": 15}, \"zerolinecolor\": \"white\", \"zerolinewidth\": 2}}}, \"title\": {\"text\": \"Clustering of Countries based on Agglomerative Clustering\"}},\n",
       "                        {\"responsive\": true}\n",
       "                    ).then(function(){\n",
       "                            \n",
       "var gd = document.getElementById('7f078343-9592-4990-8fd5-63ef1451f201');\n",
       "var x = new MutationObserver(function (mutations, observer) {{\n",
       "        var display = window.getComputedStyle(gd).display;\n",
       "        if (!display || display === 'none') {{\n",
       "            console.log([gd, 'removed!']);\n",
       "            Plotly.purge(gd);\n",
       "            observer.disconnect();\n",
       "        }}\n",
       "}});\n",
       "\n",
       "// Listen for the removal of the full notebook cells\n",
       "var notebookContainer = gd.closest('#notebook-container');\n",
       "if (notebookContainer) {{\n",
       "    x.observe(notebookContainer, {childList: true});\n",
       "}}\n",
       "\n",
       "// Listen for the clearing of the current output cell\n",
       "var outputEl = gd.closest('.output');\n",
       "if (outputEl) {{\n",
       "    x.observe(outputEl, {childList: true});\n",
       "}}\n",
       "\n",
       "                        })\n",
       "                };\n",
       "                });\n",
       "            </script>\n",
       "        </div>"
      ]
     },
     "metadata": {},
     "output_type": "display_data"
    }
   ],
   "source": [
    "#Visualizing entire data agglomerative clustering on a world map\n",
    "#Y.insert(0,'Country',df.iloc[:,1]) #inserting country names in Y \n",
    "data3 = dict(type = 'choropleth', \n",
    "           locations = Y['Country'],\n",
    "           locationmode = 'country names',\n",
    "             colorscale = 'Reds',\n",
    "           z = Y['Agglomerative'], \n",
    "           text = Y['Country'],\n",
    "           colorbar = {'title':'Cluster Group'})\n",
    "layout3 = dict(title = 'Clustering of Countries based on Agglomerative Clustering')\n",
    "choromap3 = go.Figure(data = data3, layout = layout3)\n",
    "iplot(choromap3)"
   ]
  },
  {
   "cell_type": "markdown",
   "metadata": {},
   "source": [
    "Similar to the K-means Clustering Algorithm, the Agglomerative Heirarchial Clustering Algorithm has clustered the countries into two groups. Countries with a lower Happiness Score have a darker shade of red as compared to countries with a better Happiness Score."
   ]
  },
  {
   "cell_type": "markdown",
   "metadata": {},
   "source": [
    "## Affinity Propagation"
   ]
  },
  {
   "cell_type": "code",
   "execution_count": 17,
   "metadata": {},
   "outputs": [
    {
     "data": {
      "application/vnd.plotly.v1+json": {
       "config": {
        "linkText": "Export to plot.ly",
        "plotlyServerURL": "https://plot.ly",
        "showLink": false
       },
       "data": [
        {
         "colorbar": {
          "title": {
           "text": "Cluster Group"
          }
         },
         "colorscale": [
          [
           0,
           "rgb(255,245,240)"
          ],
          [
           0.125,
           "rgb(254,224,210)"
          ],
          [
           0.25,
           "rgb(252,187,161)"
          ],
          [
           0.375,
           "rgb(252,146,114)"
          ],
          [
           0.5,
           "rgb(251,106,74)"
          ],
          [
           0.625,
           "rgb(239,59,44)"
          ],
          [
           0.75,
           "rgb(203,24,29)"
          ],
          [
           0.875,
           "rgb(165,15,21)"
          ],
          [
           1,
           "rgb(103,0,13)"
          ]
         ],
         "locationmode": "country names",
         "locations": [
          "Finland",
          "Denmark",
          "Norway",
          "Iceland",
          "Netherlands",
          "Switzerland",
          "Sweden",
          "New Zealand",
          "Canada",
          "Austria",
          "Australia",
          "Costa Rica",
          "Israel",
          "Luxembourg",
          "United Kingdom",
          "Ireland",
          "Germany",
          "Belgium",
          "United States",
          "Czech Republic",
          "United Arab Emirates",
          "Malta",
          "Mexico",
          "France",
          "Taiwan",
          "Chile",
          "Guatemala",
          "Saudi Arabia",
          "Qatar",
          "Spain",
          "Panama",
          "Brazil",
          "Uruguay",
          "Singapore",
          "El Salvador",
          "Italy",
          "Bahrain",
          "Slovakia",
          "Trinidad & Tobago",
          "Poland",
          "Uzbekistan",
          "Lithuania",
          "Colombia",
          "Slovenia",
          "Nicaragua",
          "Kosovo",
          "Argentina",
          "Romania",
          "Cyprus",
          "Ecuador",
          "Kuwait",
          "Thailand",
          "Latvia",
          "South Korea",
          "Estonia",
          "Jamaica",
          "Mauritius",
          "Japan",
          "Honduras",
          "Kazakhstan",
          "Bolivia",
          "Hungary",
          "Paraguay",
          "Northern Cyprus",
          "Peru",
          "Portugal",
          "Pakistan",
          "Russia",
          "Philippines",
          "Serbia",
          "Moldova",
          "Libya",
          "Montenegro",
          "Tajikistan",
          "Croatia",
          "Hong Kong",
          "Dominican Republic",
          "Bosnia and Herzegovina",
          "Turkey",
          "Malaysia",
          "Belarus",
          "Greece",
          "Mongolia",
          "North Macedonia",
          "Nigeria",
          "Kyrgyzstan",
          "Turkmenistan",
          "Algeria",
          "Morocco",
          "Azerbaijan",
          "Lebanon",
          "Indonesia",
          "China",
          "Vietnam",
          "Bhutan",
          "Cameroon",
          "Bulgaria",
          "Ghana",
          "Ivory Coast",
          "Nepal",
          "Jordan",
          "Benin",
          "Congo (Brazzaville)",
          "Gabon",
          "Laos",
          "South Africa",
          "Albania",
          "Venezuela",
          "Cambodia",
          "Palestinian Territories",
          "Senegal",
          "Somalia",
          "Namibia",
          "Niger",
          "Burkina Faso",
          "Armenia",
          "Iran",
          "Guinea",
          "Georgia",
          "Gambia",
          "Kenya",
          "Mauritania",
          "Mozambique",
          "Tunisia",
          "Bangladesh",
          "Iraq",
          "Congo (Kinshasa)",
          "Mali",
          "Sierra Leone",
          "Sri Lanka",
          "Myanmar",
          "Chad",
          "Ukraine",
          "Ethiopia",
          "Swaziland",
          "Uganda",
          "Egypt",
          "Zambia",
          "Togo",
          "India",
          "Liberia",
          "Comoros",
          "Madagascar",
          "Lesotho",
          "Burundi",
          "Zimbabwe",
          "Haiti",
          "Botswana",
          "Syria",
          "Malawi",
          "Yemen",
          "Rwanda",
          "Tanzania",
          "Afghanistan",
          "Central African Republic",
          "South Sudan"
         ],
         "text": [
          "Finland",
          "Denmark",
          "Norway",
          "Iceland",
          "Netherlands",
          "Switzerland",
          "Sweden",
          "New Zealand",
          "Canada",
          "Austria",
          "Australia",
          "Costa Rica",
          "Israel",
          "Luxembourg",
          "United Kingdom",
          "Ireland",
          "Germany",
          "Belgium",
          "United States",
          "Czech Republic",
          "United Arab Emirates",
          "Malta",
          "Mexico",
          "France",
          "Taiwan",
          "Chile",
          "Guatemala",
          "Saudi Arabia",
          "Qatar",
          "Spain",
          "Panama",
          "Brazil",
          "Uruguay",
          "Singapore",
          "El Salvador",
          "Italy",
          "Bahrain",
          "Slovakia",
          "Trinidad & Tobago",
          "Poland",
          "Uzbekistan",
          "Lithuania",
          "Colombia",
          "Slovenia",
          "Nicaragua",
          "Kosovo",
          "Argentina",
          "Romania",
          "Cyprus",
          "Ecuador",
          "Kuwait",
          "Thailand",
          "Latvia",
          "South Korea",
          "Estonia",
          "Jamaica",
          "Mauritius",
          "Japan",
          "Honduras",
          "Kazakhstan",
          "Bolivia",
          "Hungary",
          "Paraguay",
          "Northern Cyprus",
          "Peru",
          "Portugal",
          "Pakistan",
          "Russia",
          "Philippines",
          "Serbia",
          "Moldova",
          "Libya",
          "Montenegro",
          "Tajikistan",
          "Croatia",
          "Hong Kong",
          "Dominican Republic",
          "Bosnia and Herzegovina",
          "Turkey",
          "Malaysia",
          "Belarus",
          "Greece",
          "Mongolia",
          "North Macedonia",
          "Nigeria",
          "Kyrgyzstan",
          "Turkmenistan",
          "Algeria",
          "Morocco",
          "Azerbaijan",
          "Lebanon",
          "Indonesia",
          "China",
          "Vietnam",
          "Bhutan",
          "Cameroon",
          "Bulgaria",
          "Ghana",
          "Ivory Coast",
          "Nepal",
          "Jordan",
          "Benin",
          "Congo (Brazzaville)",
          "Gabon",
          "Laos",
          "South Africa",
          "Albania",
          "Venezuela",
          "Cambodia",
          "Palestinian Territories",
          "Senegal",
          "Somalia",
          "Namibia",
          "Niger",
          "Burkina Faso",
          "Armenia",
          "Iran",
          "Guinea",
          "Georgia",
          "Gambia",
          "Kenya",
          "Mauritania",
          "Mozambique",
          "Tunisia",
          "Bangladesh",
          "Iraq",
          "Congo (Kinshasa)",
          "Mali",
          "Sierra Leone",
          "Sri Lanka",
          "Myanmar",
          "Chad",
          "Ukraine",
          "Ethiopia",
          "Swaziland",
          "Uganda",
          "Egypt",
          "Zambia",
          "Togo",
          "India",
          "Liberia",
          "Comoros",
          "Madagascar",
          "Lesotho",
          "Burundi",
          "Zimbabwe",
          "Haiti",
          "Botswana",
          "Syria",
          "Malawi",
          "Yemen",
          "Rwanda",
          "Tanzania",
          "Afghanistan",
          "Central African Republic",
          "South Sudan"
         ],
         "type": "choropleth",
         "z": [
          0,
          0,
          0,
          0,
          0,
          0,
          0,
          0,
          0,
          0,
          0,
          0,
          0,
          0,
          0,
          0,
          0,
          0,
          0,
          0,
          0,
          0,
          1,
          1,
          1,
          1,
          1,
          1,
          1,
          1,
          1,
          1,
          1,
          1,
          1,
          1,
          1,
          1,
          1,
          1,
          1,
          1,
          1,
          1,
          1,
          1,
          1,
          1,
          1,
          1,
          1,
          1,
          1,
          2,
          1,
          2,
          1,
          1,
          2,
          2,
          2,
          2,
          2,
          2,
          2,
          2,
          2,
          2,
          2,
          2,
          2,
          2,
          2,
          3,
          2,
          2,
          2,
          2,
          2,
          2,
          2,
          2,
          2,
          2,
          3,
          3,
          2,
          3,
          3,
          3,
          3,
          3,
          3,
          3,
          3,
          4,
          3,
          4,
          4,
          3,
          3,
          4,
          4,
          3,
          3,
          3,
          3,
          3,
          3,
          3,
          4,
          4,
          3,
          4,
          4,
          3,
          3,
          4,
          4,
          4,
          4,
          4,
          4,
          3,
          4,
          5,
          4,
          4,
          4,
          3,
          5,
          4,
          5,
          5,
          5,
          5,
          5,
          5,
          4,
          5,
          5,
          5,
          5,
          5,
          6,
          5,
          6,
          5,
          6,
          6,
          6,
          6,
          6,
          6,
          6,
          6
         ]
        }
       ],
       "layout": {
        "template": {
         "data": {
          "bar": [
           {
            "error_x": {
             "color": "#2a3f5f"
            },
            "error_y": {
             "color": "#2a3f5f"
            },
            "marker": {
             "line": {
              "color": "#E5ECF6",
              "width": 0.5
             }
            },
            "type": "bar"
           }
          ],
          "barpolar": [
           {
            "marker": {
             "line": {
              "color": "#E5ECF6",
              "width": 0.5
             }
            },
            "type": "barpolar"
           }
          ],
          "carpet": [
           {
            "aaxis": {
             "endlinecolor": "#2a3f5f",
             "gridcolor": "white",
             "linecolor": "white",
             "minorgridcolor": "white",
             "startlinecolor": "#2a3f5f"
            },
            "baxis": {
             "endlinecolor": "#2a3f5f",
             "gridcolor": "white",
             "linecolor": "white",
             "minorgridcolor": "white",
             "startlinecolor": "#2a3f5f"
            },
            "type": "carpet"
           }
          ],
          "choropleth": [
           {
            "colorbar": {
             "outlinewidth": 0,
             "ticks": ""
            },
            "type": "choropleth"
           }
          ],
          "contour": [
           {
            "colorbar": {
             "outlinewidth": 0,
             "ticks": ""
            },
            "colorscale": [
             [
              0,
              "#0d0887"
             ],
             [
              0.1111111111111111,
              "#46039f"
             ],
             [
              0.2222222222222222,
              "#7201a8"
             ],
             [
              0.3333333333333333,
              "#9c179e"
             ],
             [
              0.4444444444444444,
              "#bd3786"
             ],
             [
              0.5555555555555556,
              "#d8576b"
             ],
             [
              0.6666666666666666,
              "#ed7953"
             ],
             [
              0.7777777777777778,
              "#fb9f3a"
             ],
             [
              0.8888888888888888,
              "#fdca26"
             ],
             [
              1,
              "#f0f921"
             ]
            ],
            "type": "contour"
           }
          ],
          "contourcarpet": [
           {
            "colorbar": {
             "outlinewidth": 0,
             "ticks": ""
            },
            "type": "contourcarpet"
           }
          ],
          "heatmap": [
           {
            "colorbar": {
             "outlinewidth": 0,
             "ticks": ""
            },
            "colorscale": [
             [
              0,
              "#0d0887"
             ],
             [
              0.1111111111111111,
              "#46039f"
             ],
             [
              0.2222222222222222,
              "#7201a8"
             ],
             [
              0.3333333333333333,
              "#9c179e"
             ],
             [
              0.4444444444444444,
              "#bd3786"
             ],
             [
              0.5555555555555556,
              "#d8576b"
             ],
             [
              0.6666666666666666,
              "#ed7953"
             ],
             [
              0.7777777777777778,
              "#fb9f3a"
             ],
             [
              0.8888888888888888,
              "#fdca26"
             ],
             [
              1,
              "#f0f921"
             ]
            ],
            "type": "heatmap"
           }
          ],
          "heatmapgl": [
           {
            "colorbar": {
             "outlinewidth": 0,
             "ticks": ""
            },
            "colorscale": [
             [
              0,
              "#0d0887"
             ],
             [
              0.1111111111111111,
              "#46039f"
             ],
             [
              0.2222222222222222,
              "#7201a8"
             ],
             [
              0.3333333333333333,
              "#9c179e"
             ],
             [
              0.4444444444444444,
              "#bd3786"
             ],
             [
              0.5555555555555556,
              "#d8576b"
             ],
             [
              0.6666666666666666,
              "#ed7953"
             ],
             [
              0.7777777777777778,
              "#fb9f3a"
             ],
             [
              0.8888888888888888,
              "#fdca26"
             ],
             [
              1,
              "#f0f921"
             ]
            ],
            "type": "heatmapgl"
           }
          ],
          "histogram": [
           {
            "marker": {
             "colorbar": {
              "outlinewidth": 0,
              "ticks": ""
             }
            },
            "type": "histogram"
           }
          ],
          "histogram2d": [
           {
            "colorbar": {
             "outlinewidth": 0,
             "ticks": ""
            },
            "colorscale": [
             [
              0,
              "#0d0887"
             ],
             [
              0.1111111111111111,
              "#46039f"
             ],
             [
              0.2222222222222222,
              "#7201a8"
             ],
             [
              0.3333333333333333,
              "#9c179e"
             ],
             [
              0.4444444444444444,
              "#bd3786"
             ],
             [
              0.5555555555555556,
              "#d8576b"
             ],
             [
              0.6666666666666666,
              "#ed7953"
             ],
             [
              0.7777777777777778,
              "#fb9f3a"
             ],
             [
              0.8888888888888888,
              "#fdca26"
             ],
             [
              1,
              "#f0f921"
             ]
            ],
            "type": "histogram2d"
           }
          ],
          "histogram2dcontour": [
           {
            "colorbar": {
             "outlinewidth": 0,
             "ticks": ""
            },
            "colorscale": [
             [
              0,
              "#0d0887"
             ],
             [
              0.1111111111111111,
              "#46039f"
             ],
             [
              0.2222222222222222,
              "#7201a8"
             ],
             [
              0.3333333333333333,
              "#9c179e"
             ],
             [
              0.4444444444444444,
              "#bd3786"
             ],
             [
              0.5555555555555556,
              "#d8576b"
             ],
             [
              0.6666666666666666,
              "#ed7953"
             ],
             [
              0.7777777777777778,
              "#fb9f3a"
             ],
             [
              0.8888888888888888,
              "#fdca26"
             ],
             [
              1,
              "#f0f921"
             ]
            ],
            "type": "histogram2dcontour"
           }
          ],
          "mesh3d": [
           {
            "colorbar": {
             "outlinewidth": 0,
             "ticks": ""
            },
            "type": "mesh3d"
           }
          ],
          "parcoords": [
           {
            "line": {
             "colorbar": {
              "outlinewidth": 0,
              "ticks": ""
             }
            },
            "type": "parcoords"
           }
          ],
          "pie": [
           {
            "automargin": true,
            "type": "pie"
           }
          ],
          "scatter": [
           {
            "marker": {
             "colorbar": {
              "outlinewidth": 0,
              "ticks": ""
             }
            },
            "type": "scatter"
           }
          ],
          "scatter3d": [
           {
            "line": {
             "colorbar": {
              "outlinewidth": 0,
              "ticks": ""
             }
            },
            "marker": {
             "colorbar": {
              "outlinewidth": 0,
              "ticks": ""
             }
            },
            "type": "scatter3d"
           }
          ],
          "scattercarpet": [
           {
            "marker": {
             "colorbar": {
              "outlinewidth": 0,
              "ticks": ""
             }
            },
            "type": "scattercarpet"
           }
          ],
          "scattergeo": [
           {
            "marker": {
             "colorbar": {
              "outlinewidth": 0,
              "ticks": ""
             }
            },
            "type": "scattergeo"
           }
          ],
          "scattergl": [
           {
            "marker": {
             "colorbar": {
              "outlinewidth": 0,
              "ticks": ""
             }
            },
            "type": "scattergl"
           }
          ],
          "scattermapbox": [
           {
            "marker": {
             "colorbar": {
              "outlinewidth": 0,
              "ticks": ""
             }
            },
            "type": "scattermapbox"
           }
          ],
          "scatterpolar": [
           {
            "marker": {
             "colorbar": {
              "outlinewidth": 0,
              "ticks": ""
             }
            },
            "type": "scatterpolar"
           }
          ],
          "scatterpolargl": [
           {
            "marker": {
             "colorbar": {
              "outlinewidth": 0,
              "ticks": ""
             }
            },
            "type": "scatterpolargl"
           }
          ],
          "scatterternary": [
           {
            "marker": {
             "colorbar": {
              "outlinewidth": 0,
              "ticks": ""
             }
            },
            "type": "scatterternary"
           }
          ],
          "surface": [
           {
            "colorbar": {
             "outlinewidth": 0,
             "ticks": ""
            },
            "colorscale": [
             [
              0,
              "#0d0887"
             ],
             [
              0.1111111111111111,
              "#46039f"
             ],
             [
              0.2222222222222222,
              "#7201a8"
             ],
             [
              0.3333333333333333,
              "#9c179e"
             ],
             [
              0.4444444444444444,
              "#bd3786"
             ],
             [
              0.5555555555555556,
              "#d8576b"
             ],
             [
              0.6666666666666666,
              "#ed7953"
             ],
             [
              0.7777777777777778,
              "#fb9f3a"
             ],
             [
              0.8888888888888888,
              "#fdca26"
             ],
             [
              1,
              "#f0f921"
             ]
            ],
            "type": "surface"
           }
          ],
          "table": [
           {
            "cells": {
             "fill": {
              "color": "#EBF0F8"
             },
             "line": {
              "color": "white"
             }
            },
            "header": {
             "fill": {
              "color": "#C8D4E3"
             },
             "line": {
              "color": "white"
             }
            },
            "type": "table"
           }
          ]
         },
         "layout": {
          "annotationdefaults": {
           "arrowcolor": "#2a3f5f",
           "arrowhead": 0,
           "arrowwidth": 1
          },
          "coloraxis": {
           "colorbar": {
            "outlinewidth": 0,
            "ticks": ""
           }
          },
          "colorscale": {
           "diverging": [
            [
             0,
             "#8e0152"
            ],
            [
             0.1,
             "#c51b7d"
            ],
            [
             0.2,
             "#de77ae"
            ],
            [
             0.3,
             "#f1b6da"
            ],
            [
             0.4,
             "#fde0ef"
            ],
            [
             0.5,
             "#f7f7f7"
            ],
            [
             0.6,
             "#e6f5d0"
            ],
            [
             0.7,
             "#b8e186"
            ],
            [
             0.8,
             "#7fbc41"
            ],
            [
             0.9,
             "#4d9221"
            ],
            [
             1,
             "#276419"
            ]
           ],
           "sequential": [
            [
             0,
             "#0d0887"
            ],
            [
             0.1111111111111111,
             "#46039f"
            ],
            [
             0.2222222222222222,
             "#7201a8"
            ],
            [
             0.3333333333333333,
             "#9c179e"
            ],
            [
             0.4444444444444444,
             "#bd3786"
            ],
            [
             0.5555555555555556,
             "#d8576b"
            ],
            [
             0.6666666666666666,
             "#ed7953"
            ],
            [
             0.7777777777777778,
             "#fb9f3a"
            ],
            [
             0.8888888888888888,
             "#fdca26"
            ],
            [
             1,
             "#f0f921"
            ]
           ],
           "sequentialminus": [
            [
             0,
             "#0d0887"
            ],
            [
             0.1111111111111111,
             "#46039f"
            ],
            [
             0.2222222222222222,
             "#7201a8"
            ],
            [
             0.3333333333333333,
             "#9c179e"
            ],
            [
             0.4444444444444444,
             "#bd3786"
            ],
            [
             0.5555555555555556,
             "#d8576b"
            ],
            [
             0.6666666666666666,
             "#ed7953"
            ],
            [
             0.7777777777777778,
             "#fb9f3a"
            ],
            [
             0.8888888888888888,
             "#fdca26"
            ],
            [
             1,
             "#f0f921"
            ]
           ]
          },
          "colorway": [
           "#636efa",
           "#EF553B",
           "#00cc96",
           "#ab63fa",
           "#FFA15A",
           "#19d3f3",
           "#FF6692",
           "#B6E880",
           "#FF97FF",
           "#FECB52"
          ],
          "font": {
           "color": "#2a3f5f"
          },
          "geo": {
           "bgcolor": "white",
           "lakecolor": "white",
           "landcolor": "#E5ECF6",
           "showlakes": true,
           "showland": true,
           "subunitcolor": "white"
          },
          "hoverlabel": {
           "align": "left"
          },
          "hovermode": "closest",
          "mapbox": {
           "style": "light"
          },
          "paper_bgcolor": "white",
          "plot_bgcolor": "#E5ECF6",
          "polar": {
           "angularaxis": {
            "gridcolor": "white",
            "linecolor": "white",
            "ticks": ""
           },
           "bgcolor": "#E5ECF6",
           "radialaxis": {
            "gridcolor": "white",
            "linecolor": "white",
            "ticks": ""
           }
          },
          "scene": {
           "xaxis": {
            "backgroundcolor": "#E5ECF6",
            "gridcolor": "white",
            "gridwidth": 2,
            "linecolor": "white",
            "showbackground": true,
            "ticks": "",
            "zerolinecolor": "white"
           },
           "yaxis": {
            "backgroundcolor": "#E5ECF6",
            "gridcolor": "white",
            "gridwidth": 2,
            "linecolor": "white",
            "showbackground": true,
            "ticks": "",
            "zerolinecolor": "white"
           },
           "zaxis": {
            "backgroundcolor": "#E5ECF6",
            "gridcolor": "white",
            "gridwidth": 2,
            "linecolor": "white",
            "showbackground": true,
            "ticks": "",
            "zerolinecolor": "white"
           }
          },
          "shapedefaults": {
           "line": {
            "color": "#2a3f5f"
           }
          },
          "ternary": {
           "aaxis": {
            "gridcolor": "white",
            "linecolor": "white",
            "ticks": ""
           },
           "baxis": {
            "gridcolor": "white",
            "linecolor": "white",
            "ticks": ""
           },
           "bgcolor": "#E5ECF6",
           "caxis": {
            "gridcolor": "white",
            "linecolor": "white",
            "ticks": ""
           }
          },
          "title": {
           "x": 0.05
          },
          "xaxis": {
           "automargin": true,
           "gridcolor": "white",
           "linecolor": "white",
           "ticks": "",
           "title": {
            "standoff": 15
           },
           "zerolinecolor": "white",
           "zerolinewidth": 2
          },
          "yaxis": {
           "automargin": true,
           "gridcolor": "white",
           "linecolor": "white",
           "ticks": "",
           "title": {
            "standoff": 15
           },
           "zerolinecolor": "white",
           "zerolinewidth": 2
          }
         }
        },
        "title": {
         "text": "Clustering of Countries based on Affinity Propagation"
        }
       }
      },
      "text/html": [
       "<div>\n",
       "        \n",
       "        \n",
       "            <div id=\"bc567b07-2095-43d5-835d-bdbcd3f76232\" class=\"plotly-graph-div\" style=\"height:525px; width:100%;\"></div>\n",
       "            <script type=\"text/javascript\">\n",
       "                require([\"plotly\"], function(Plotly) {\n",
       "                    window.PLOTLYENV=window.PLOTLYENV || {};\n",
       "                    \n",
       "                if (document.getElementById(\"bc567b07-2095-43d5-835d-bdbcd3f76232\")) {\n",
       "                    Plotly.newPlot(\n",
       "                        'bc567b07-2095-43d5-835d-bdbcd3f76232',\n",
       "                        [{\"colorbar\": {\"title\": {\"text\": \"Cluster Group\"}}, \"colorscale\": [[0.0, \"rgb(255,245,240)\"], [0.125, \"rgb(254,224,210)\"], [0.25, \"rgb(252,187,161)\"], [0.375, \"rgb(252,146,114)\"], [0.5, \"rgb(251,106,74)\"], [0.625, \"rgb(239,59,44)\"], [0.75, \"rgb(203,24,29)\"], [0.875, \"rgb(165,15,21)\"], [1.0, \"rgb(103,0,13)\"]], \"locationmode\": \"country names\", \"locations\": [\"Finland\", \"Denmark\", \"Norway\", \"Iceland\", \"Netherlands\", \"Switzerland\", \"Sweden\", \"New Zealand\", \"Canada\", \"Austria\", \"Australia\", \"Costa Rica\", \"Israel\", \"Luxembourg\", \"United Kingdom\", \"Ireland\", \"Germany\", \"Belgium\", \"United States\", \"Czech Republic\", \"United Arab Emirates\", \"Malta\", \"Mexico\", \"France\", \"Taiwan\", \"Chile\", \"Guatemala\", \"Saudi Arabia\", \"Qatar\", \"Spain\", \"Panama\", \"Brazil\", \"Uruguay\", \"Singapore\", \"El Salvador\", \"Italy\", \"Bahrain\", \"Slovakia\", \"Trinidad & Tobago\", \"Poland\", \"Uzbekistan\", \"Lithuania\", \"Colombia\", \"Slovenia\", \"Nicaragua\", \"Kosovo\", \"Argentina\", \"Romania\", \"Cyprus\", \"Ecuador\", \"Kuwait\", \"Thailand\", \"Latvia\", \"South Korea\", \"Estonia\", \"Jamaica\", \"Mauritius\", \"Japan\", \"Honduras\", \"Kazakhstan\", \"Bolivia\", \"Hungary\", \"Paraguay\", \"Northern Cyprus\", \"Peru\", \"Portugal\", \"Pakistan\", \"Russia\", \"Philippines\", \"Serbia\", \"Moldova\", \"Libya\", \"Montenegro\", \"Tajikistan\", \"Croatia\", \"Hong Kong\", \"Dominican Republic\", \"Bosnia and Herzegovina\", \"Turkey\", \"Malaysia\", \"Belarus\", \"Greece\", \"Mongolia\", \"North Macedonia\", \"Nigeria\", \"Kyrgyzstan\", \"Turkmenistan\", \"Algeria\", \"Morocco\", \"Azerbaijan\", \"Lebanon\", \"Indonesia\", \"China\", \"Vietnam\", \"Bhutan\", \"Cameroon\", \"Bulgaria\", \"Ghana\", \"Ivory Coast\", \"Nepal\", \"Jordan\", \"Benin\", \"Congo (Brazzaville)\", \"Gabon\", \"Laos\", \"South Africa\", \"Albania\", \"Venezuela\", \"Cambodia\", \"Palestinian Territories\", \"Senegal\", \"Somalia\", \"Namibia\", \"Niger\", \"Burkina Faso\", \"Armenia\", \"Iran\", \"Guinea\", \"Georgia\", \"Gambia\", \"Kenya\", \"Mauritania\", \"Mozambique\", \"Tunisia\", \"Bangladesh\", \"Iraq\", \"Congo (Kinshasa)\", \"Mali\", \"Sierra Leone\", \"Sri Lanka\", \"Myanmar\", \"Chad\", \"Ukraine\", \"Ethiopia\", \"Swaziland\", \"Uganda\", \"Egypt\", \"Zambia\", \"Togo\", \"India\", \"Liberia\", \"Comoros\", \"Madagascar\", \"Lesotho\", \"Burundi\", \"Zimbabwe\", \"Haiti\", \"Botswana\", \"Syria\", \"Malawi\", \"Yemen\", \"Rwanda\", \"Tanzania\", \"Afghanistan\", \"Central African Republic\", \"South Sudan\"], \"text\": [\"Finland\", \"Denmark\", \"Norway\", \"Iceland\", \"Netherlands\", \"Switzerland\", \"Sweden\", \"New Zealand\", \"Canada\", \"Austria\", \"Australia\", \"Costa Rica\", \"Israel\", \"Luxembourg\", \"United Kingdom\", \"Ireland\", \"Germany\", \"Belgium\", \"United States\", \"Czech Republic\", \"United Arab Emirates\", \"Malta\", \"Mexico\", \"France\", \"Taiwan\", \"Chile\", \"Guatemala\", \"Saudi Arabia\", \"Qatar\", \"Spain\", \"Panama\", \"Brazil\", \"Uruguay\", \"Singapore\", \"El Salvador\", \"Italy\", \"Bahrain\", \"Slovakia\", \"Trinidad & Tobago\", \"Poland\", \"Uzbekistan\", \"Lithuania\", \"Colombia\", \"Slovenia\", \"Nicaragua\", \"Kosovo\", \"Argentina\", \"Romania\", \"Cyprus\", \"Ecuador\", \"Kuwait\", \"Thailand\", \"Latvia\", \"South Korea\", \"Estonia\", \"Jamaica\", \"Mauritius\", \"Japan\", \"Honduras\", \"Kazakhstan\", \"Bolivia\", \"Hungary\", \"Paraguay\", \"Northern Cyprus\", \"Peru\", \"Portugal\", \"Pakistan\", \"Russia\", \"Philippines\", \"Serbia\", \"Moldova\", \"Libya\", \"Montenegro\", \"Tajikistan\", \"Croatia\", \"Hong Kong\", \"Dominican Republic\", \"Bosnia and Herzegovina\", \"Turkey\", \"Malaysia\", \"Belarus\", \"Greece\", \"Mongolia\", \"North Macedonia\", \"Nigeria\", \"Kyrgyzstan\", \"Turkmenistan\", \"Algeria\", \"Morocco\", \"Azerbaijan\", \"Lebanon\", \"Indonesia\", \"China\", \"Vietnam\", \"Bhutan\", \"Cameroon\", \"Bulgaria\", \"Ghana\", \"Ivory Coast\", \"Nepal\", \"Jordan\", \"Benin\", \"Congo (Brazzaville)\", \"Gabon\", \"Laos\", \"South Africa\", \"Albania\", \"Venezuela\", \"Cambodia\", \"Palestinian Territories\", \"Senegal\", \"Somalia\", \"Namibia\", \"Niger\", \"Burkina Faso\", \"Armenia\", \"Iran\", \"Guinea\", \"Georgia\", \"Gambia\", \"Kenya\", \"Mauritania\", \"Mozambique\", \"Tunisia\", \"Bangladesh\", \"Iraq\", \"Congo (Kinshasa)\", \"Mali\", \"Sierra Leone\", \"Sri Lanka\", \"Myanmar\", \"Chad\", \"Ukraine\", \"Ethiopia\", \"Swaziland\", \"Uganda\", \"Egypt\", \"Zambia\", \"Togo\", \"India\", \"Liberia\", \"Comoros\", \"Madagascar\", \"Lesotho\", \"Burundi\", \"Zimbabwe\", \"Haiti\", \"Botswana\", \"Syria\", \"Malawi\", \"Yemen\", \"Rwanda\", \"Tanzania\", \"Afghanistan\", \"Central African Republic\", \"South Sudan\"], \"type\": \"choropleth\", \"z\": [0, 0, 0, 0, 0, 0, 0, 0, 0, 0, 0, 0, 0, 0, 0, 0, 0, 0, 0, 0, 0, 0, 1, 1, 1, 1, 1, 1, 1, 1, 1, 1, 1, 1, 1, 1, 1, 1, 1, 1, 1, 1, 1, 1, 1, 1, 1, 1, 1, 1, 1, 1, 1, 2, 1, 2, 1, 1, 2, 2, 2, 2, 2, 2, 2, 2, 2, 2, 2, 2, 2, 2, 2, 3, 2, 2, 2, 2, 2, 2, 2, 2, 2, 2, 3, 3, 2, 3, 3, 3, 3, 3, 3, 3, 3, 4, 3, 4, 4, 3, 3, 4, 4, 3, 3, 3, 3, 3, 3, 3, 4, 4, 3, 4, 4, 3, 3, 4, 4, 4, 4, 4, 4, 3, 4, 5, 4, 4, 4, 3, 5, 4, 5, 5, 5, 5, 5, 5, 4, 5, 5, 5, 5, 5, 6, 5, 6, 5, 6, 6, 6, 6, 6, 6, 6, 6]}],\n",
       "                        {\"template\": {\"data\": {\"bar\": [{\"error_x\": {\"color\": \"#2a3f5f\"}, \"error_y\": {\"color\": \"#2a3f5f\"}, \"marker\": {\"line\": {\"color\": \"#E5ECF6\", \"width\": 0.5}}, \"type\": \"bar\"}], \"barpolar\": [{\"marker\": {\"line\": {\"color\": \"#E5ECF6\", \"width\": 0.5}}, \"type\": \"barpolar\"}], \"carpet\": [{\"aaxis\": {\"endlinecolor\": \"#2a3f5f\", \"gridcolor\": \"white\", \"linecolor\": \"white\", \"minorgridcolor\": \"white\", \"startlinecolor\": \"#2a3f5f\"}, \"baxis\": {\"endlinecolor\": \"#2a3f5f\", \"gridcolor\": \"white\", \"linecolor\": \"white\", \"minorgridcolor\": \"white\", \"startlinecolor\": \"#2a3f5f\"}, \"type\": \"carpet\"}], \"choropleth\": [{\"colorbar\": {\"outlinewidth\": 0, \"ticks\": \"\"}, \"type\": \"choropleth\"}], \"contour\": [{\"colorbar\": {\"outlinewidth\": 0, \"ticks\": \"\"}, \"colorscale\": [[0.0, \"#0d0887\"], [0.1111111111111111, \"#46039f\"], [0.2222222222222222, \"#7201a8\"], [0.3333333333333333, \"#9c179e\"], [0.4444444444444444, \"#bd3786\"], [0.5555555555555556, \"#d8576b\"], [0.6666666666666666, \"#ed7953\"], [0.7777777777777778, \"#fb9f3a\"], [0.8888888888888888, \"#fdca26\"], [1.0, \"#f0f921\"]], \"type\": \"contour\"}], \"contourcarpet\": [{\"colorbar\": {\"outlinewidth\": 0, \"ticks\": \"\"}, \"type\": \"contourcarpet\"}], \"heatmap\": [{\"colorbar\": {\"outlinewidth\": 0, \"ticks\": \"\"}, \"colorscale\": [[0.0, \"#0d0887\"], [0.1111111111111111, \"#46039f\"], [0.2222222222222222, \"#7201a8\"], [0.3333333333333333, \"#9c179e\"], [0.4444444444444444, \"#bd3786\"], [0.5555555555555556, \"#d8576b\"], [0.6666666666666666, \"#ed7953\"], [0.7777777777777778, \"#fb9f3a\"], [0.8888888888888888, \"#fdca26\"], [1.0, \"#f0f921\"]], \"type\": \"heatmap\"}], \"heatmapgl\": [{\"colorbar\": {\"outlinewidth\": 0, \"ticks\": \"\"}, \"colorscale\": [[0.0, \"#0d0887\"], [0.1111111111111111, \"#46039f\"], [0.2222222222222222, \"#7201a8\"], [0.3333333333333333, \"#9c179e\"], [0.4444444444444444, \"#bd3786\"], [0.5555555555555556, \"#d8576b\"], [0.6666666666666666, \"#ed7953\"], [0.7777777777777778, \"#fb9f3a\"], [0.8888888888888888, \"#fdca26\"], [1.0, \"#f0f921\"]], \"type\": \"heatmapgl\"}], \"histogram\": [{\"marker\": {\"colorbar\": {\"outlinewidth\": 0, \"ticks\": \"\"}}, \"type\": \"histogram\"}], \"histogram2d\": [{\"colorbar\": {\"outlinewidth\": 0, \"ticks\": \"\"}, \"colorscale\": [[0.0, \"#0d0887\"], [0.1111111111111111, \"#46039f\"], [0.2222222222222222, \"#7201a8\"], [0.3333333333333333, \"#9c179e\"], [0.4444444444444444, \"#bd3786\"], [0.5555555555555556, \"#d8576b\"], [0.6666666666666666, \"#ed7953\"], [0.7777777777777778, \"#fb9f3a\"], [0.8888888888888888, \"#fdca26\"], [1.0, \"#f0f921\"]], \"type\": \"histogram2d\"}], \"histogram2dcontour\": [{\"colorbar\": {\"outlinewidth\": 0, \"ticks\": \"\"}, \"colorscale\": [[0.0, \"#0d0887\"], [0.1111111111111111, \"#46039f\"], [0.2222222222222222, \"#7201a8\"], [0.3333333333333333, \"#9c179e\"], [0.4444444444444444, \"#bd3786\"], [0.5555555555555556, \"#d8576b\"], [0.6666666666666666, \"#ed7953\"], [0.7777777777777778, \"#fb9f3a\"], [0.8888888888888888, \"#fdca26\"], [1.0, \"#f0f921\"]], \"type\": \"histogram2dcontour\"}], \"mesh3d\": [{\"colorbar\": {\"outlinewidth\": 0, \"ticks\": \"\"}, \"type\": \"mesh3d\"}], \"parcoords\": [{\"line\": {\"colorbar\": {\"outlinewidth\": 0, \"ticks\": \"\"}}, \"type\": \"parcoords\"}], \"pie\": [{\"automargin\": true, \"type\": \"pie\"}], \"scatter\": [{\"marker\": {\"colorbar\": {\"outlinewidth\": 0, \"ticks\": \"\"}}, \"type\": \"scatter\"}], \"scatter3d\": [{\"line\": {\"colorbar\": {\"outlinewidth\": 0, \"ticks\": \"\"}}, \"marker\": {\"colorbar\": {\"outlinewidth\": 0, \"ticks\": \"\"}}, \"type\": \"scatter3d\"}], \"scattercarpet\": [{\"marker\": {\"colorbar\": {\"outlinewidth\": 0, \"ticks\": \"\"}}, \"type\": \"scattercarpet\"}], \"scattergeo\": [{\"marker\": {\"colorbar\": {\"outlinewidth\": 0, \"ticks\": \"\"}}, \"type\": \"scattergeo\"}], \"scattergl\": [{\"marker\": {\"colorbar\": {\"outlinewidth\": 0, \"ticks\": \"\"}}, \"type\": \"scattergl\"}], \"scattermapbox\": [{\"marker\": {\"colorbar\": {\"outlinewidth\": 0, \"ticks\": \"\"}}, \"type\": \"scattermapbox\"}], \"scatterpolar\": [{\"marker\": {\"colorbar\": {\"outlinewidth\": 0, \"ticks\": \"\"}}, \"type\": \"scatterpolar\"}], \"scatterpolargl\": [{\"marker\": {\"colorbar\": {\"outlinewidth\": 0, \"ticks\": \"\"}}, \"type\": \"scatterpolargl\"}], \"scatterternary\": [{\"marker\": {\"colorbar\": {\"outlinewidth\": 0, \"ticks\": \"\"}}, \"type\": \"scatterternary\"}], \"surface\": [{\"colorbar\": {\"outlinewidth\": 0, \"ticks\": \"\"}, \"colorscale\": [[0.0, \"#0d0887\"], [0.1111111111111111, \"#46039f\"], [0.2222222222222222, \"#7201a8\"], [0.3333333333333333, \"#9c179e\"], [0.4444444444444444, \"#bd3786\"], [0.5555555555555556, \"#d8576b\"], [0.6666666666666666, \"#ed7953\"], [0.7777777777777778, \"#fb9f3a\"], [0.8888888888888888, \"#fdca26\"], [1.0, \"#f0f921\"]], \"type\": \"surface\"}], \"table\": [{\"cells\": {\"fill\": {\"color\": \"#EBF0F8\"}, \"line\": {\"color\": \"white\"}}, \"header\": {\"fill\": {\"color\": \"#C8D4E3\"}, \"line\": {\"color\": \"white\"}}, \"type\": \"table\"}]}, \"layout\": {\"annotationdefaults\": {\"arrowcolor\": \"#2a3f5f\", \"arrowhead\": 0, \"arrowwidth\": 1}, \"coloraxis\": {\"colorbar\": {\"outlinewidth\": 0, \"ticks\": \"\"}}, \"colorscale\": {\"diverging\": [[0, \"#8e0152\"], [0.1, \"#c51b7d\"], [0.2, \"#de77ae\"], [0.3, \"#f1b6da\"], [0.4, \"#fde0ef\"], [0.5, \"#f7f7f7\"], [0.6, \"#e6f5d0\"], [0.7, \"#b8e186\"], [0.8, \"#7fbc41\"], [0.9, \"#4d9221\"], [1, \"#276419\"]], \"sequential\": [[0.0, \"#0d0887\"], [0.1111111111111111, \"#46039f\"], [0.2222222222222222, \"#7201a8\"], [0.3333333333333333, \"#9c179e\"], [0.4444444444444444, \"#bd3786\"], [0.5555555555555556, \"#d8576b\"], [0.6666666666666666, \"#ed7953\"], [0.7777777777777778, \"#fb9f3a\"], [0.8888888888888888, \"#fdca26\"], [1.0, \"#f0f921\"]], \"sequentialminus\": [[0.0, \"#0d0887\"], [0.1111111111111111, \"#46039f\"], [0.2222222222222222, \"#7201a8\"], [0.3333333333333333, \"#9c179e\"], [0.4444444444444444, \"#bd3786\"], [0.5555555555555556, \"#d8576b\"], [0.6666666666666666, \"#ed7953\"], [0.7777777777777778, \"#fb9f3a\"], [0.8888888888888888, \"#fdca26\"], [1.0, \"#f0f921\"]]}, \"colorway\": [\"#636efa\", \"#EF553B\", \"#00cc96\", \"#ab63fa\", \"#FFA15A\", \"#19d3f3\", \"#FF6692\", \"#B6E880\", \"#FF97FF\", \"#FECB52\"], \"font\": {\"color\": \"#2a3f5f\"}, \"geo\": {\"bgcolor\": \"white\", \"lakecolor\": \"white\", \"landcolor\": \"#E5ECF6\", \"showlakes\": true, \"showland\": true, \"subunitcolor\": \"white\"}, \"hoverlabel\": {\"align\": \"left\"}, \"hovermode\": \"closest\", \"mapbox\": {\"style\": \"light\"}, \"paper_bgcolor\": \"white\", \"plot_bgcolor\": \"#E5ECF6\", \"polar\": {\"angularaxis\": {\"gridcolor\": \"white\", \"linecolor\": \"white\", \"ticks\": \"\"}, \"bgcolor\": \"#E5ECF6\", \"radialaxis\": {\"gridcolor\": \"white\", \"linecolor\": \"white\", \"ticks\": \"\"}}, \"scene\": {\"xaxis\": {\"backgroundcolor\": \"#E5ECF6\", \"gridcolor\": \"white\", \"gridwidth\": 2, \"linecolor\": \"white\", \"showbackground\": true, \"ticks\": \"\", \"zerolinecolor\": \"white\"}, \"yaxis\": {\"backgroundcolor\": \"#E5ECF6\", \"gridcolor\": \"white\", \"gridwidth\": 2, \"linecolor\": \"white\", \"showbackground\": true, \"ticks\": \"\", \"zerolinecolor\": \"white\"}, \"zaxis\": {\"backgroundcolor\": \"#E5ECF6\", \"gridcolor\": \"white\", \"gridwidth\": 2, \"linecolor\": \"white\", \"showbackground\": true, \"ticks\": \"\", \"zerolinecolor\": \"white\"}}, \"shapedefaults\": {\"line\": {\"color\": \"#2a3f5f\"}}, \"ternary\": {\"aaxis\": {\"gridcolor\": \"white\", \"linecolor\": \"white\", \"ticks\": \"\"}, \"baxis\": {\"gridcolor\": \"white\", \"linecolor\": \"white\", \"ticks\": \"\"}, \"bgcolor\": \"#E5ECF6\", \"caxis\": {\"gridcolor\": \"white\", \"linecolor\": \"white\", \"ticks\": \"\"}}, \"title\": {\"x\": 0.05}, \"xaxis\": {\"automargin\": true, \"gridcolor\": \"white\", \"linecolor\": \"white\", \"ticks\": \"\", \"title\": {\"standoff\": 15}, \"zerolinecolor\": \"white\", \"zerolinewidth\": 2}, \"yaxis\": {\"automargin\": true, \"gridcolor\": \"white\", \"linecolor\": \"white\", \"ticks\": \"\", \"title\": {\"standoff\": 15}, \"zerolinecolor\": \"white\", \"zerolinewidth\": 2}}}, \"title\": {\"text\": \"Clustering of Countries based on Affinity Propagation\"}},\n",
       "                        {\"responsive\": true}\n",
       "                    ).then(function(){\n",
       "                            \n",
       "var gd = document.getElementById('bc567b07-2095-43d5-835d-bdbcd3f76232');\n",
       "var x = new MutationObserver(function (mutations, observer) {{\n",
       "        var display = window.getComputedStyle(gd).display;\n",
       "        if (!display || display === 'none') {{\n",
       "            console.log([gd, 'removed!']);\n",
       "            Plotly.purge(gd);\n",
       "            observer.disconnect();\n",
       "        }}\n",
       "}});\n",
       "\n",
       "// Listen for the removal of the full notebook cells\n",
       "var notebookContainer = gd.closest('#notebook-container');\n",
       "if (notebookContainer) {{\n",
       "    x.observe(notebookContainer, {childList: true});\n",
       "}}\n",
       "\n",
       "// Listen for the clearing of the current output cell\n",
       "var outputEl = gd.closest('.output');\n",
       "if (outputEl) {{\n",
       "    x.observe(outputEl, {childList: true});\n",
       "}}\n",
       "\n",
       "                        })\n",
       "                };\n",
       "                });\n",
       "            </script>\n",
       "        </div>"
      ]
     },
     "metadata": {},
     "output_type": "display_data"
    }
   ],
   "source": [
    "#Visualizing entire data affinity propagation on a world map\n",
    "#Y.insert(0,'Country',df.iloc[:,1]) #inserting country names in Y \n",
    "data4 = dict(type = 'choropleth', \n",
    "           locations = Y['Country'],\n",
    "           locationmode = 'country names',\n",
    "             colorscale = 'Reds',\n",
    "           z = Y['Affinity_Propagation'], \n",
    "           text = Y['Country'],\n",
    "           colorbar = {'title':'Cluster Group'})\n",
    "layout4 = dict(title = 'Clustering of Countries based on Affinity Propagation')\n",
    "choromap4 = go.Figure(data = data4, layout = layout4)\n",
    "iplot(choromap4)"
   ]
  },
  {
   "cell_type": "markdown",
   "metadata": {},
   "source": [
    "The Affinity Propagation Clustering Algorithm has clustered the countries into 7 groups as opposed to the other two clustering algorithms."
   ]
  },
  {
   "cell_type": "markdown",
   "metadata": {},
   "source": [
    "## Predicting the Happiness Score"
   ]
  },
  {
   "cell_type": "markdown",
   "metadata": {},
   "source": [
    "We will try to predict the Happiness Score of the Countries using a Linear Regression Model. The visualizations below depict how the variables relate to the Happiness Score."
   ]
  },
  {
   "cell_type": "code",
   "execution_count": 18,
   "metadata": {},
   "outputs": [
    {
     "data": {
      "text/plain": [
       "<seaborn.axisgrid.FacetGrid at 0x1eeecda8388>"
      ]
     },
     "execution_count": 18,
     "metadata": {},
     "output_type": "execute_result"
    },
    {
     "data": {
      "image/png": "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\n",
      "text/plain": [
       "<Figure size 806.4x504 with 1 Axes>"
      ]
     },
     "metadata": {},
     "output_type": "display_data"
    },
    {
     "data": {
      "image/png": "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\n",
      "text/plain": [
       "<Figure size 806.4x504 with 1 Axes>"
      ]
     },
     "metadata": {},
     "output_type": "display_data"
    },
    {
     "data": {
      "image/png": "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\n",
      "text/plain": [
       "<Figure size 806.4x504 with 1 Axes>"
      ]
     },
     "metadata": {},
     "output_type": "display_data"
    },
    {
     "data": {
      "image/png": "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\n",
      "text/plain": [
       "<Figure size 806.4x504 with 1 Axes>"
      ]
     },
     "metadata": {},
     "output_type": "display_data"
    },
    {
     "data": {
      "image/png": "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\n",
      "text/plain": [
       "<Figure size 806.4x504 with 1 Axes>"
      ]
     },
     "metadata": {},
     "output_type": "display_data"
    },
    {
     "data": {
      "image/png": "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
